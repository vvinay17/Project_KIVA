{
 "cells": [
  {
   "cell_type": "markdown",
   "id": "f8a6e2bc",
   "metadata": {},
   "source": [
    "!pip install pyLDAvis -qq\n",
    "!pip install -qq -U gensim\n",
    "!pip install spacy -qq\n",
    "!pip install matplotlib -qq\n",
    "!pip install seaborn -qq\n",
    "!python -m spacy download en_core_web_md -qq"
   ]
  },
  {
   "cell_type": "code",
   "execution_count": 1,
   "id": "7a57dde3",
   "metadata": {},
   "outputs": [
    {
     "name": "stderr",
     "output_type": "stream",
     "text": [
      "C:\\Users\\PAAV\\anaconda3\\lib\\site-packages\\past\\builtins\\misc.py:45: DeprecationWarning: the imp module is deprecated in favour of importlib; see the module's documentation for alternative uses\n",
      "  from imp import reload\n",
      "C:\\Users\\PAAV\\anaconda3\\lib\\site-packages\\gensim\\matutils.py:22: DeprecationWarning: Please use `triu` from the `scipy.linalg` namespace, the `scipy.linalg.special_matrices` namespace is deprecated.\n",
      "  from scipy.linalg.special_matrices import triu\n"
     ]
    }
   ],
   "source": [
    "import pandas as pd\n",
    "import matplotlib.pyplot as plt\n",
    "import seaborn as sns\n",
    "sns.set()\n",
    "import spacy\n",
    "import pyLDAvis.gensim_models\n",
    "pyLDAvis.enable_notebook()# Visualise inside a notebook\n",
    "import en_core_web_md\n",
    "from gensim.corpora.dictionary import Dictionary\n",
    "from gensim.models import LdaMulticore\n",
    "from gensim.models import CoherenceModel"
   ]
  },
  {
   "cell_type": "code",
   "execution_count": 2,
   "id": "b69e4672",
   "metadata": {},
   "outputs": [
    {
     "name": "stdout",
     "output_type": "stream",
     "text": [
      "Package                       VersionNote: you may need to restart the kernel to use updated packages.\n",
      "\n",
      "----------------------------- --------------------\n",
      "alabaster                     0.7.12\n",
      "anaconda-client               1.11.0\n",
      "anaconda-navigator            2.3.2\n",
      "anaconda-project              0.11.1\n",
      "anyio                         3.5.0\n",
      "appdirs                       1.4.4\n",
      "argon2-cffi                   21.3.0\n",
      "argon2-cffi-bindings          21.2.0\n",
      "arrow                         1.2.2\n",
      "astroid                       2.11.7\n",
      "astropy                       5.1\n",
      "atomicwrites                  1.4.0\n",
      "attrs                         21.4.0\n",
      "Automat                       20.2.0\n",
      "autopep8                      1.6.0\n",
      "Babel                         2.9.1\n",
      "backcall                      0.2.0\n",
      "backports.functools-lru-cache 1.6.4\n",
      "backports.tempfile            1.0\n",
      "backports.weakref             1.0.post1\n",
      "bcrypt                        3.2.0\n",
      "beautifulsoup4                4.11.1\n",
      "binaryornot                   0.4.4\n",
      "bitarray                      2.5.1\n",
      "bkcharts                      0.2\n",
      "black                         22.6.0\n",
      "bleach                        4.1.0\n",
      "blis                          0.7.9\n",
      "bokeh                         2.4.3\n",
      "boto3                         1.24.28\n",
      "botocore                      1.27.28\n",
      "Bottleneck                    1.3.5\n",
      "brotlipy                      0.7.0\n",
      "catalogue                     2.0.8\n",
      "certifi                       2022.9.24\n",
      "cffi                          1.15.1\n",
      "chardet                       4.0.0\n",
      "charset-normalizer            2.0.4\n",
      "click                         8.0.4\n",
      "cloudpickle                   2.0.0\n",
      "clyent                        1.2.2\n",
      "colorama                      0.4.5\n",
      "colorcet                      3.0.0\n",
      "comtypes                      1.1.10\n",
      "conda                         22.9.0\n",
      "conda-build                   3.22.0\n",
      "conda-content-trust           0.1.3\n",
      "conda-pack                    0.6.0\n",
      "conda-package-handling        1.9.0\n",
      "conda-repo-cli                1.0.20\n",
      "conda-token                   0.4.0\n",
      "conda-verify                  3.4.2\n",
      "confection                    0.0.3\n",
      "constantly                    15.1.0\n",
      "cookiecutter                  1.7.3\n",
      "cryptography                  37.0.1\n",
      "cssselect                     1.1.0\n",
      "cycler                        0.11.0\n",
      "cymem                         2.0.7\n",
      "Cython                        0.29.32\n",
      "cytoolz                       0.11.0\n",
      "daal4py                       2021.6.0\n",
      "dask                          2022.7.0\n",
      "datashader                    0.14.1\n",
      "datashape                     0.5.4\n",
      "debugpy                       1.5.1\n",
      "decorator                     5.1.1\n",
      "defusedxml                    0.7.1\n",
      "diff-match-patch              20200713\n",
      "dill                          0.3.4\n",
      "distributed                   2022.7.0\n",
      "docutils                      0.18.1\n",
      "en-core-web-md                3.4.1\n",
      "entrypoints                   0.4\n",
      "et-xmlfile                    1.1.0\n",
      "fastjsonschema                2.16.2\n",
      "filelock                      3.6.0\n",
      "flake8                        4.0.1\n",
      "Flask                         1.1.2\n",
      "fonttools                     4.25.0\n",
      "fsspec                        2022.7.1\n",
      "funcy                         1.17\n",
      "future                        0.18.2\n",
      "gensim                        4.2.0\n",
      "glob2                         0.7\n",
      "greenlet                      1.1.1\n",
      "h5py                          3.7.0\n",
      "HeapDict                      1.0.1\n",
      "holoviews                     1.15.0\n",
      "hvplot                        0.8.0\n",
      "hyperlink                     21.0.0\n",
      "idna                          3.3\n",
      "imagecodecs                   2021.8.26\n",
      "imageio                       2.19.3\n",
      "imagesize                     1.4.1\n",
      "importlib-metadata            4.11.3\n",
      "incremental                   21.3.0\n",
      "inflection                    0.5.1\n",
      "iniconfig                     1.1.1\n",
      "intake                        0.6.5\n",
      "intervaltree                  3.1.0\n",
      "ipykernel                     6.15.2\n",
      "ipython                       7.31.1\n",
      "ipython-genutils              0.2.0\n",
      "ipywidgets                    7.6.5\n",
      "isort                         5.9.3\n",
      "itemadapter                   0.3.0\n",
      "itemloaders                   1.0.4\n",
      "itsdangerous                  2.0.1\n",
      "jdcal                         1.4.1\n",
      "jedi                          0.18.1\n",
      "jellyfish                     0.9.0\n",
      "Jinja2                        2.11.3\n",
      "jinja2-time                   0.2.0\n",
      "jmespath                      0.10.0\n",
      "joblib                        1.1.0\n",
      "json5                         0.9.6\n",
      "jsonschema                    4.16.0\n",
      "jupyter                       1.0.0\n",
      "jupyter_client                7.3.4\n",
      "jupyter-console               6.4.3\n",
      "jupyter_core                  4.11.1\n",
      "jupyter-server                1.18.1\n",
      "jupyterlab                    3.4.4\n",
      "jupyterlab-pygments           0.1.2\n",
      "jupyterlab-server             2.10.3\n",
      "jupyterlab-widgets            1.0.0\n",
      "keyring                       23.4.0\n",
      "kiwisolver                    1.4.2\n",
      "langcodes                     3.3.0\n",
      "lazy-object-proxy             1.6.0\n",
      "libarchive-c                  2.9\n",
      "llvmlite                      0.38.0\n",
      "locket                        1.0.0\n",
      "lxml                          4.9.1\n",
      "lz4                           3.1.3\n",
      "Markdown                      3.3.4\n",
      "MarkupSafe                    2.0.1\n",
      "matplotlib                    3.5.2\n",
      "matplotlib-inline             0.1.6\n",
      "mccabe                        0.6.1\n",
      "menuinst                      1.4.19\n",
      "mistune                       0.8.4\n",
      "mkl-fft                       1.3.1\n",
      "mkl-random                    1.2.2\n",
      "mkl-service                   2.4.0\n",
      "mock                          4.0.3\n",
      "mpmath                        1.2.1\n",
      "msgpack                       1.0.3\n",
      "multipledispatch              0.6.0\n",
      "munkres                       1.1.4\n",
      "murmurhash                    1.0.9\n",
      "mypy-extensions               0.4.3\n",
      "navigator-updater             0.3.0\n",
      "nbclassic                     0.3.5\n",
      "nbclient                      0.5.13\n",
      "nbconvert                     6.4.4\n",
      "nbformat                      5.5.0\n",
      "nest-asyncio                  1.5.5\n",
      "networkx                      2.8.4\n",
      "nltk                          3.7\n",
      "nose                          1.3.7\n",
      "notebook                      6.4.12\n",
      "numba                         0.55.1\n",
      "numexpr                       2.8.3\n",
      "numpy                         1.21.5\n",
      "numpydoc                      1.4.0\n",
      "olefile                       0.46\n",
      "openpyxl                      3.0.10\n",
      "packaging                     21.3\n",
      "pandas                        1.4.4\n",
      "pandocfilters                 1.5.0\n",
      "panel                         0.13.1\n",
      "param                         1.12.0\n",
      "paramiko                      2.8.1\n",
      "parsel                        1.6.0\n",
      "parso                         0.8.3\n",
      "partd                         1.2.0\n",
      "pathlib                       1.0.1\n",
      "pathspec                      0.9.0\n",
      "pathy                         0.6.2\n",
      "patsy                         0.5.2\n",
      "pep8                          1.7.1\n",
      "pexpect                       4.8.0\n",
      "pickleshare                   0.7.5\n",
      "Pillow                        9.2.0\n",
      "pip                           22.2.2\n",
      "pkginfo                       1.8.2\n",
      "platformdirs                  2.5.2\n",
      "plotly                        5.9.0\n",
      "pluggy                        1.0.0\n",
      "poyo                          0.5.0\n",
      "preshed                       3.0.8\n",
      "prometheus-client             0.14.1\n",
      "prompt-toolkit                3.0.20\n",
      "Protego                       0.1.16\n",
      "psutil                        5.9.0\n",
      "ptyprocess                    0.7.0\n",
      "py                            1.11.0\n",
      "pyasn1                        0.4.8\n",
      "pyasn1-modules                0.2.8\n",
      "pycodestyle                   2.8.0\n",
      "pycosat                       0.6.3\n",
      "pycparser                     2.21\n",
      "pyct                          0.4.8\n",
      "pycurl                        7.45.1\n",
      "pydantic                      1.10.2\n",
      "PyDispatcher                  2.0.5\n",
      "pydocstyle                    6.1.1\n",
      "pyerfa                        2.0.0\n",
      "pyflakes                      2.4.0\n",
      "Pygments                      2.11.2\n",
      "PyHamcrest                    2.0.2\n",
      "PyJWT                         2.4.0\n",
      "pyLDAvis                      3.3.1\n",
      "pylint                        2.14.5\n",
      "pyls-spyder                   0.4.0\n",
      "PyNaCl                        1.5.0\n",
      "pyodbc                        4.0.34\n",
      "pyOpenSSL                     22.0.0\n",
      "pyparsing                     3.0.9\n",
      "pyrsistent                    0.18.0\n",
      "PySocks                       1.7.1\n",
      "pytest                        7.1.2\n",
      "python-dateutil               2.8.2\n",
      "python-lsp-black              1.0.0\n",
      "python-lsp-jsonrpc            1.0.0\n",
      "python-lsp-server             1.3.3\n",
      "python-slugify                5.0.2\n",
      "python-snappy                 0.6.0\n",
      "pytz                          2022.1\n",
      "pyviz-comms                   2.0.2\n",
      "PyWavelets                    1.3.0\n",
      "pywin32                       302\n",
      "pywin32-ctypes                0.2.0\n",
      "pywinpty                      2.0.2\n",
      "PyYAML                        6.0\n",
      "pyzmq                         23.2.0\n",
      "QDarkStyle                    3.0.2\n",
      "qstylizer                     0.1.10\n",
      "QtAwesome                     1.0.3\n",
      "qtconsole                     5.2.2\n",
      "QtPy                          2.2.0\n",
      "queuelib                      1.5.0\n",
      "regex                         2022.7.9\n",
      "requests                      2.28.1\n",
      "requests-file                 1.5.1\n",
      "rope                          0.22.0\n",
      "Rtree                         0.9.7\n",
      "ruamel-yaml-conda             0.15.100\n",
      "s3transfer                    0.6.0\n",
      "scikit-image                  0.19.2\n",
      "scikit-learn                  1.0.2\n",
      "scikit-learn-intelex          2021.20221004.171935\n",
      "scipy                         1.9.1\n",
      "Scrapy                        2.6.2\n",
      "seaborn                       0.11.2\n",
      "Send2Trash                    1.8.0\n",
      "service-identity              18.1.0\n",
      "setuptools                    63.4.1\n",
      "sip                           4.19.13\n",
      "six                           1.16.0\n",
      "sklearn                       0.0\n",
      "smart-open                    5.2.1\n",
      "sniffio                       1.2.0\n",
      "snowballstemmer               2.2.0\n",
      "sortedcollections             2.1.0\n",
      "sortedcontainers              2.4.0\n",
      "soupsieve                     2.3.1\n",
      "spacy                         3.4.2\n",
      "spacy-legacy                  3.0.10\n",
      "spacy-loggers                 1.0.3\n",
      "Sphinx                        5.0.2\n",
      "sphinxcontrib-applehelp       1.0.2\n",
      "sphinxcontrib-devhelp         1.0.2\n",
      "sphinxcontrib-htmlhelp        2.0.0\n",
      "sphinxcontrib-jsmath          1.0.1\n",
      "sphinxcontrib-qthelp          1.0.3\n",
      "sphinxcontrib-serializinghtml 1.1.5\n",
      "spyder                        5.2.2\n",
      "spyder-kernels                2.2.1\n",
      "SQLAlchemy                    1.4.39\n",
      "srsly                         2.4.5\n",
      "statsmodels                   0.13.2\n",
      "sympy                         1.10.1\n",
      "tables                        3.6.1\n",
      "tabulate                      0.8.10\n",
      "TBB                           0.2\n",
      "tblib                         1.7.0\n",
      "tenacity                      8.0.1\n",
      "terminado                     0.13.1\n",
      "testpath                      0.6.0\n",
      "text-unidecode                1.3\n",
      "textdistance                  4.2.1\n",
      "thinc                         8.1.5\n",
      "threadpoolctl                 2.2.0\n",
      "three-merge                   0.1.1\n",
      "tifffile                      2021.7.2\n",
      "tinycss                       0.4\n",
      "tldextract                    3.2.0\n",
      "toml                          0.10.2\n",
      "tomli                         2.0.1\n",
      "tomlkit                       0.11.1\n",
      "toolz                         0.11.2\n",
      "tornado                       6.1\n",
      "tqdm                          4.64.1\n",
      "traitlets                     5.1.1\n",
      "Twisted                       22.2.0\n",
      "twisted-iocpsupport           1.0.2\n",
      "typer                         0.4.2\n",
      "typing_extensions             4.3.0\n",
      "ujson                         5.4.0\n",
      "Unidecode                     1.2.0\n",
      "urllib3                       1.26.11\n",
      "w3lib                         1.21.0\n",
      "wasabi                        0.10.1\n",
      "watchdog                      2.1.6\n",
      "wcwidth                       0.2.5\n",
      "webencodings                  0.5.1\n",
      "websocket-client              0.58.0\n",
      "Werkzeug                      2.0.3\n",
      "wheel                         0.37.1\n",
      "widgetsnbextension            3.5.2\n",
      "win-inet-pton                 1.1.0\n",
      "win-unicode-console           0.5\n",
      "wincertstore                  0.2\n",
      "wrapt                         1.14.1\n",
      "xarray                        0.20.1\n",
      "xlrd                          2.0.1\n",
      "XlsxWriter                    3.0.3\n",
      "xlwings                       0.27.15\n",
      "yapf                          0.31.0\n",
      "zict                          2.1.0\n",
      "zipp                          3.8.0\n",
      "zope.interface                5.4.0\n"
     ]
    }
   ],
   "source": [
    "pip list"
   ]
  },
  {
   "cell_type": "code",
   "execution_count": 3,
   "id": "5b1241e7",
   "metadata": {},
   "outputs": [
    {
     "data": {
      "text/html": [
       "<div>\n",
       "<style scoped>\n",
       "    .dataframe tbody tr th:only-of-type {\n",
       "        vertical-align: middle;\n",
       "    }\n",
       "\n",
       "    .dataframe tbody tr th {\n",
       "        vertical-align: top;\n",
       "    }\n",
       "\n",
       "    .dataframe thead th {\n",
       "        text-align: right;\n",
       "    }\n",
       "</style>\n",
       "<table border=\"1\" class=\"dataframe\">\n",
       "  <thead>\n",
       "    <tr style=\"text-align: right;\">\n",
       "      <th></th>\n",
       "      <th>LOAN_ID</th>\n",
       "      <th>LOAN_NAME</th>\n",
       "      <th>ORIGINAL_LANGUAGE</th>\n",
       "      <th>DESCRIPTION</th>\n",
       "      <th>DESCRIPTION_TRANSLATED</th>\n",
       "      <th>FUNDED_AMOUNT</th>\n",
       "      <th>LOAN_AMOUNT</th>\n",
       "      <th>STATUS</th>\n",
       "      <th>IMAGE_ID</th>\n",
       "      <th>VIDEO_ID</th>\n",
       "      <th>...</th>\n",
       "      <th>LENDER_TERM</th>\n",
       "      <th>NUM_LENDERS_TOTAL</th>\n",
       "      <th>NUM_JOURNAL_ENTRIES</th>\n",
       "      <th>NUM_BULK_ENTRIES</th>\n",
       "      <th>TAGS</th>\n",
       "      <th>BORROWER_NAMES</th>\n",
       "      <th>BORROWER_GENDERS</th>\n",
       "      <th>BORROWER_PICTURED</th>\n",
       "      <th>REPAYMENT_INTERVAL</th>\n",
       "      <th>DISTRIBUTION_MODEL</th>\n",
       "    </tr>\n",
       "  </thead>\n",
       "  <tbody>\n",
       "    <tr>\n",
       "      <th>0</th>\n",
       "      <td>304819</td>\n",
       "      <td>Estrella De Luz Group</td>\n",
       "      <td>Spanish</td>\n",
       "      <td>Este grupo se llama \"Estrella de luz\" está ubi...</td>\n",
       "      <td>This group is called “Estrella de Luz” (Star o...</td>\n",
       "      <td>2600.0</td>\n",
       "      <td>2600.0</td>\n",
       "      <td>funded</td>\n",
       "      <td>785529.0</td>\n",
       "      <td>NaN</td>\n",
       "      <td>...</td>\n",
       "      <td>6.0</td>\n",
       "      <td>6</td>\n",
       "      <td>1</td>\n",
       "      <td>1</td>\n",
       "      <td>NaN</td>\n",
       "      <td>MARISOL, ANGELICA, EVA, JUANA, ISABEL, MARIA P...</td>\n",
       "      <td>female, female, female, female, female, female...</td>\n",
       "      <td>true, true, true, true, true, true, true, true...</td>\n",
       "      <td>monthly</td>\n",
       "      <td>field_partner</td>\n",
       "    </tr>\n",
       "    <tr>\n",
       "      <th>1</th>\n",
       "      <td>1361590</td>\n",
       "      <td>Grace</td>\n",
       "      <td>English</td>\n",
       "      <td>Grace is an honest, humble, and hard-working p...</td>\n",
       "      <td>Grace is an honest, humble, and hard-working p...</td>\n",
       "      <td>600.0</td>\n",
       "      <td>600.0</td>\n",
       "      <td>funded</td>\n",
       "      <td>2614927.0</td>\n",
       "      <td>NaN</td>\n",
       "      <td>...</td>\n",
       "      <td>20.0</td>\n",
       "      <td>21</td>\n",
       "      <td>2</td>\n",
       "      <td>1</td>\n",
       "      <td>#Parent, #Woman-Owned Business</td>\n",
       "      <td>Grace</td>\n",
       "      <td>female</td>\n",
       "      <td>true</td>\n",
       "      <td>monthly</td>\n",
       "      <td>field_partner</td>\n",
       "    </tr>\n",
       "    <tr>\n",
       "      <th>2</th>\n",
       "      <td>1776536</td>\n",
       "      <td>Ligaya</td>\n",
       "      <td>English</td>\n",
       "      <td>Ligaya is a hardworking micro-entrepreneur.&lt;br...</td>\n",
       "      <td>Ligaya is a hardworking micro-entrepreneur.&lt;br...</td>\n",
       "      <td>200.0</td>\n",
       "      <td>200.0</td>\n",
       "      <td>funded</td>\n",
       "      <td>3173512.0</td>\n",
       "      <td>NaN</td>\n",
       "      <td>...</td>\n",
       "      <td>13.0</td>\n",
       "      <td>8</td>\n",
       "      <td>2</td>\n",
       "      <td>1</td>\n",
       "      <td>#Eco-friendly, #Health and Sanitation</td>\n",
       "      <td>Ligaya</td>\n",
       "      <td>female</td>\n",
       "      <td>true</td>\n",
       "      <td>monthly</td>\n",
       "      <td>field_partner</td>\n",
       "    </tr>\n",
       "    <tr>\n",
       "      <th>3</th>\n",
       "      <td>213423</td>\n",
       "      <td>Phorn Vann's Group</td>\n",
       "      <td>English</td>\n",
       "      <td>Mrs. Phorn V., who is 61 years old, is the gro...</td>\n",
       "      <td>NaN</td>\n",
       "      <td>650.0</td>\n",
       "      <td>650.0</td>\n",
       "      <td>funded</td>\n",
       "      <td>565776.0</td>\n",
       "      <td>NaN</td>\n",
       "      <td>...</td>\n",
       "      <td>14.0</td>\n",
       "      <td>19</td>\n",
       "      <td>1</td>\n",
       "      <td>1</td>\n",
       "      <td>NaN</td>\n",
       "      <td>Phorn, Bunthorn, Moeurn, Mi, Yim</td>\n",
       "      <td>female, male, female, female, female</td>\n",
       "      <td>true, true, true, true, true</td>\n",
       "      <td>bullet</td>\n",
       "      <td>field_partner</td>\n",
       "    </tr>\n",
       "    <tr>\n",
       "      <th>4</th>\n",
       "      <td>410154</td>\n",
       "      <td>Grace</td>\n",
       "      <td>English</td>\n",
       "      <td>Grace is 55 years old and married with 4 child...</td>\n",
       "      <td>NaN</td>\n",
       "      <td>625.0</td>\n",
       "      <td>625.0</td>\n",
       "      <td>funded</td>\n",
       "      <td>1059131.0</td>\n",
       "      <td>NaN</td>\n",
       "      <td>...</td>\n",
       "      <td>14.0</td>\n",
       "      <td>17</td>\n",
       "      <td>1</td>\n",
       "      <td>1</td>\n",
       "      <td>NaN</td>\n",
       "      <td>Grace</td>\n",
       "      <td>female</td>\n",
       "      <td>true</td>\n",
       "      <td>monthly</td>\n",
       "      <td>field_partner</td>\n",
       "    </tr>\n",
       "  </tbody>\n",
       "</table>\n",
       "<p>5 rows × 34 columns</p>\n",
       "</div>"
      ],
      "text/plain": [
       "   LOAN_ID              LOAN_NAME ORIGINAL_LANGUAGE  \\\n",
       "0   304819  Estrella De Luz Group           Spanish   \n",
       "1  1361590                  Grace           English   \n",
       "2  1776536                 Ligaya           English   \n",
       "3   213423     Phorn Vann's Group           English   \n",
       "4   410154                  Grace           English   \n",
       "\n",
       "                                         DESCRIPTION  \\\n",
       "0  Este grupo se llama \"Estrella de luz\" está ubi...   \n",
       "1  Grace is an honest, humble, and hard-working p...   \n",
       "2  Ligaya is a hardworking micro-entrepreneur.<br...   \n",
       "3  Mrs. Phorn V., who is 61 years old, is the gro...   \n",
       "4  Grace is 55 years old and married with 4 child...   \n",
       "\n",
       "                              DESCRIPTION_TRANSLATED  FUNDED_AMOUNT  \\\n",
       "0  This group is called “Estrella de Luz” (Star o...         2600.0   \n",
       "1  Grace is an honest, humble, and hard-working p...          600.0   \n",
       "2  Ligaya is a hardworking micro-entrepreneur.<br...          200.0   \n",
       "3                                                NaN          650.0   \n",
       "4                                                NaN          625.0   \n",
       "\n",
       "   LOAN_AMOUNT  STATUS   IMAGE_ID  VIDEO_ID  ... LENDER_TERM  \\\n",
       "0       2600.0  funded   785529.0       NaN  ...         6.0   \n",
       "1        600.0  funded  2614927.0       NaN  ...        20.0   \n",
       "2        200.0  funded  3173512.0       NaN  ...        13.0   \n",
       "3        650.0  funded   565776.0       NaN  ...        14.0   \n",
       "4        625.0  funded  1059131.0       NaN  ...        14.0   \n",
       "\n",
       "  NUM_LENDERS_TOTAL NUM_JOURNAL_ENTRIES NUM_BULK_ENTRIES  \\\n",
       "0                 6                   1                1   \n",
       "1                21                   2                1   \n",
       "2                 8                   2                1   \n",
       "3                19                   1                1   \n",
       "4                17                   1                1   \n",
       "\n",
       "                                    TAGS  \\\n",
       "0                                    NaN   \n",
       "1         #Parent, #Woman-Owned Business   \n",
       "2  #Eco-friendly, #Health and Sanitation   \n",
       "3                                    NaN   \n",
       "4                                    NaN   \n",
       "\n",
       "                                      BORROWER_NAMES  \\\n",
       "0  MARISOL, ANGELICA, EVA, JUANA, ISABEL, MARIA P...   \n",
       "1                                              Grace   \n",
       "2                                             Ligaya   \n",
       "3                   Phorn, Bunthorn, Moeurn, Mi, Yim   \n",
       "4                                              Grace   \n",
       "\n",
       "                                    BORROWER_GENDERS  \\\n",
       "0  female, female, female, female, female, female...   \n",
       "1                                             female   \n",
       "2                                             female   \n",
       "3               female, male, female, female, female   \n",
       "4                                             female   \n",
       "\n",
       "                                   BORROWER_PICTURED REPAYMENT_INTERVAL  \\\n",
       "0  true, true, true, true, true, true, true, true...            monthly   \n",
       "1                                               true            monthly   \n",
       "2                                               true            monthly   \n",
       "3                       true, true, true, true, true             bullet   \n",
       "4                                               true            monthly   \n",
       "\n",
       "   DISTRIBUTION_MODEL  \n",
       "0       field_partner  \n",
       "1       field_partner  \n",
       "2       field_partner  \n",
       "3       field_partner  \n",
       "4       field_partner  \n",
       "\n",
       "[5 rows x 34 columns]"
      ]
     },
     "execution_count": 3,
     "metadata": {},
     "output_type": "execute_result"
    }
   ],
   "source": [
    "loan = pd.read_csv('loans.csv')\n",
    "loan.head()"
   ]
  },
  {
   "cell_type": "code",
   "execution_count": 4,
   "id": "7b0e5ff1",
   "metadata": {},
   "outputs": [
    {
     "data": {
      "text/plain": [
       "LOAN_ID                                  0\n",
       "LOAN_NAME                            50389\n",
       "ORIGINAL_LANGUAGE                    46040\n",
       "DESCRIPTION                          46269\n",
       "DESCRIPTION_TRANSLATED              455655\n",
       "FUNDED_AMOUNT                            0\n",
       "LOAN_AMOUNT                              0\n",
       "STATUS                                   0\n",
       "IMAGE_ID                             46040\n",
       "VIDEO_ID                           2185897\n",
       "ACTIVITY_NAME                            0\n",
       "SECTOR_NAME                              0\n",
       "LOAN_USE                             46063\n",
       "COUNTRY_CODE                            36\n",
       "COUNTRY_NAME                             0\n",
       "TOWN_NAME                           179089\n",
       "CURRENCY_POLICY                          0\n",
       "CURRENCY_EXCHANGE_COVERAGE_RATE     527609\n",
       "CURRENCY                                 0\n",
       "PARTNER_ID                               0\n",
       "POSTED_TIME                              0\n",
       "PLANNED_EXPIRATION_TIME             371834\n",
       "DISBURSE_TIME                         4274\n",
       "RAISED_TIME                         102030\n",
       "LENDER_TERM                             24\n",
       "NUM_LENDERS_TOTAL                        0\n",
       "NUM_JOURNAL_ENTRIES                      0\n",
       "NUM_BULK_ENTRIES                         0\n",
       "TAGS                                975998\n",
       "BORROWER_NAMES                       50389\n",
       "BORROWER_GENDERS                     46040\n",
       "BORROWER_PICTURED                    46040\n",
       "REPAYMENT_INTERVAL                       0\n",
       "DISTRIBUTION_MODEL                       0\n",
       "dtype: int64"
      ]
     },
     "execution_count": 4,
     "metadata": {},
     "output_type": "execute_result"
    }
   ],
   "source": [
    "loan.isnull().sum()"
   ]
  },
  {
   "cell_type": "code",
   "execution_count": 5,
   "id": "3eb87c64",
   "metadata": {},
   "outputs": [],
   "source": [
    "loan['DESCRIPTION_TRANSLATED'] = loan['DESCRIPTION_TRANSLATED'].replace('', pd.NA).fillna(loan['DESCRIPTION'])"
   ]
  },
  {
   "cell_type": "code",
   "execution_count": 9,
   "id": "2797fea3",
   "metadata": {},
   "outputs": [],
   "source": [
    "loandf = loan.sample(1500000, random_state=250).reset_index(drop=True)"
   ]
  },
  {
   "cell_type": "code",
   "execution_count": null,
   "id": "cf3ec779",
   "metadata": {},
   "outputs": [],
   "source": [
    "##loandf['DESCRIPTION_TRANSLATED'] = loandf['DESCRIPTION_TRANSLATED'].fillna(loandf.pop('DESCRIPTION'))"
   ]
  },
  {
   "cell_type": "code",
   "execution_count": 10,
   "id": "c7d6a003",
   "metadata": {},
   "outputs": [
    {
     "data": {
      "text/plain": [
       "LOAN_ID                                  0\n",
       "LOAN_NAME                            34453\n",
       "ORIGINAL_LANGUAGE                    31488\n",
       "DESCRIPTION                          31634\n",
       "DESCRIPTION_TRANSLATED               31634\n",
       "FUNDED_AMOUNT                            0\n",
       "LOAN_AMOUNT                              0\n",
       "STATUS                                   0\n",
       "IMAGE_ID                             31488\n",
       "VIDEO_ID                           1499154\n",
       "ACTIVITY_NAME                            0\n",
       "SECTOR_NAME                              0\n",
       "LOAN_USE                             31500\n",
       "COUNTRY_CODE                            27\n",
       "COUNTRY_NAME                             0\n",
       "TOWN_NAME                           122936\n",
       "CURRENCY_POLICY                          0\n",
       "CURRENCY_EXCHANGE_COVERAGE_RATE     361878\n",
       "CURRENCY                                 0\n",
       "PARTNER_ID                               0\n",
       "POSTED_TIME                              0\n",
       "PLANNED_EXPIRATION_TIME             255234\n",
       "DISBURSE_TIME                         2919\n",
       "RAISED_TIME                          69958\n",
       "LENDER_TERM                             19\n",
       "NUM_LENDERS_TOTAL                        0\n",
       "NUM_JOURNAL_ENTRIES                      0\n",
       "NUM_BULK_ENTRIES                         0\n",
       "TAGS                                669396\n",
       "BORROWER_NAMES                       34453\n",
       "BORROWER_GENDERS                     31488\n",
       "BORROWER_PICTURED                    31488\n",
       "REPAYMENT_INTERVAL                       0\n",
       "DISTRIBUTION_MODEL                       0\n",
       "dtype: int64"
      ]
     },
     "execution_count": 10,
     "metadata": {},
     "output_type": "execute_result"
    }
   ],
   "source": [
    "loandf.isnull().sum()"
   ]
  },
  {
   "cell_type": "code",
   "execution_count": 11,
   "id": "71bca094",
   "metadata": {},
   "outputs": [
    {
     "name": "stdout",
     "output_type": "stream",
     "text": [
      "<class 'pandas.core.frame.DataFrame'>\n",
      "RangeIndex: 1500000 entries, 0 to 1499999\n",
      "Data columns (total 34 columns):\n",
      " #   Column                           Non-Null Count    Dtype  \n",
      "---  ------                           --------------    -----  \n",
      " 0   LOAN_ID                          1500000 non-null  int64  \n",
      " 1   LOAN_NAME                        1465547 non-null  object \n",
      " 2   ORIGINAL_LANGUAGE                1468512 non-null  object \n",
      " 3   DESCRIPTION                      1468366 non-null  object \n",
      " 4   DESCRIPTION_TRANSLATED           1468366 non-null  object \n",
      " 5   FUNDED_AMOUNT                    1500000 non-null  float64\n",
      " 6   LOAN_AMOUNT                      1500000 non-null  float64\n",
      " 7   STATUS                           1500000 non-null  object \n",
      " 8   IMAGE_ID                         1468512 non-null  float64\n",
      " 9   VIDEO_ID                         846 non-null      float64\n",
      " 10  ACTIVITY_NAME                    1500000 non-null  object \n",
      " 11  SECTOR_NAME                      1500000 non-null  object \n",
      " 12  LOAN_USE                         1468500 non-null  object \n",
      " 13  COUNTRY_CODE                     1499973 non-null  object \n",
      " 14  COUNTRY_NAME                     1500000 non-null  object \n",
      " 15  TOWN_NAME                        1377064 non-null  object \n",
      " 16  CURRENCY_POLICY                  1500000 non-null  object \n",
      " 17  CURRENCY_EXCHANGE_COVERAGE_RATE  1138122 non-null  float64\n",
      " 18  CURRENCY                         1500000 non-null  object \n",
      " 19  PARTNER_ID                       1500000 non-null  int64  \n",
      " 20  POSTED_TIME                      1500000 non-null  object \n",
      " 21  PLANNED_EXPIRATION_TIME          1244766 non-null  object \n",
      " 22  DISBURSE_TIME                    1497081 non-null  object \n",
      " 23  RAISED_TIME                      1430042 non-null  object \n",
      " 24  LENDER_TERM                      1499981 non-null  float64\n",
      " 25  NUM_LENDERS_TOTAL                1500000 non-null  int64  \n",
      " 26  NUM_JOURNAL_ENTRIES              1500000 non-null  int64  \n",
      " 27  NUM_BULK_ENTRIES                 1500000 non-null  int64  \n",
      " 28  TAGS                             830604 non-null   object \n",
      " 29  BORROWER_NAMES                   1465547 non-null  object \n",
      " 30  BORROWER_GENDERS                 1468512 non-null  object \n",
      " 31  BORROWER_PICTURED                1468512 non-null  object \n",
      " 32  REPAYMENT_INTERVAL               1500000 non-null  object \n",
      " 33  DISTRIBUTION_MODEL               1500000 non-null  object \n",
      "dtypes: float64(6), int64(5), object(23)\n",
      "memory usage: 389.1+ MB\n"
     ]
    }
   ],
   "source": [
    "loandf.info()"
   ]
  },
  {
   "cell_type": "code",
   "execution_count": 19,
   "id": "587b97b6",
   "metadata": {},
   "outputs": [],
   "source": [
    "loandfs = loandf.sample(1000, random_state=250).reset_index(drop=True)"
   ]
  },
  {
   "cell_type": "code",
   "execution_count": 20,
   "id": "d2d2bde4",
   "metadata": {},
   "outputs": [],
   "source": [
    "loandfs['DESCRIPTION_TRANSLATED']= loandfs['DESCRIPTION_TRANSLATED'].astype(str)\n"
   ]
  },
  {
   "cell_type": "code",
   "execution_count": 21,
   "id": "5c9446ab",
   "metadata": {},
   "outputs": [
    {
     "data": {
      "text/plain": [
       "<bound method NDFrame.head of 0      Pictured above is Joseph, father of six childr...\n",
       "1      For three years Daysi has been running a small...\n",
       "2      Mrs Huệ is 34 years old and lives with her hus...\n",
       "3      At 19 years of age, Evely is the principal sho...\n",
       "4      2 Ward – 1 Village Group is located in the Pya...\n",
       "                             ...                        \n",
       "995    Nokukhanya is a female, age 29, living in Hara...\n",
       "996    Santra is a 44-year-old married woman residing...\n",
       "997    The group is called Mujeres Unidas [Women Unit...\n",
       "998    Yendry is 23 years old, is married, and lives ...\n",
       "999    Tem K., 40, sells sugar cane juice from her ho...\n",
       "Name: DESCRIPTION_TRANSLATED, Length: 1000, dtype: object>"
      ]
     },
     "execution_count": 21,
     "metadata": {},
     "output_type": "execute_result"
    }
   ],
   "source": [
    "loandfs['DESCRIPTION_TRANSLATED'].head"
   ]
  },
  {
   "cell_type": "code",
   "execution_count": 25,
   "id": "aa7bd7a2",
   "metadata": {},
   "outputs": [],
   "source": [
    "import re\n",
    "new_text = re.sub(r\"[^a-zA-Z0-9 ]\", \"\",str(loandfs.DESCRIPTION_TRANSLATED))"
   ]
  },
  {
   "cell_type": "code",
   "execution_count": null,
   "id": "ea13796b",
   "metadata": {},
   "outputs": [],
   "source": [
    "# Load the regular expression library\n",
    "import re\n",
    "# Remove punctuation\n",
    "papers['paper_text_processed'] = \\\n",
    "papers['paper_text'].map(lambda x: re.sub('[,\\.!?]', '', x))\n",
    "# Convert the titles to lowercase\n",
    "papers['paper_text_processed'] = \\\n",
    "papers['paper_text_processed'].map(lambda x: x.lower())\n",
    "# Print out the first rows of papers\n",
    "papers['paper_text_processed'].head()"
   ]
  },
  {
   "cell_type": "code",
   "execution_count": 26,
   "id": "03d8d552",
   "metadata": {},
   "outputs": [],
   "source": [
    "# Our spaCy model:\n",
    "nlp = en_core_web_md.load()\n",
    "# Tags I want to remove from the text\n",
    "removal= ['ADV','PRON','CCONJ','PUNCT','PART','DET','ADP','SPACE', 'NUM', 'SYM','NOUN','X']\n",
    "tokens = []\n",
    "for DESCRIPTION_TRANSLATED in nlp.pipe(loandfs['DESCRIPTION_TRANSLATED']):\n",
    "   proj_tok = [token.lemma_.lower() for token in DESCRIPTION_TRANSLATED if token.pos_ not in removal and not token.is_stop and token.is_alpha]\n",
    "   tokens.append(proj_tok)"
   ]
  },
  {
   "cell_type": "code",
   "execution_count": 30,
   "id": "39318e13",
   "metadata": {},
   "outputs": [
    {
     "data": {
      "text/plain": [
       "0      [picture, joseph, know, reliable, represent, f...\n",
       "1      [daysi, run, small, old, work, want, despite, ...\n",
       "2      [mrs, huệ, old, live, hau, loc, district, coas...\n",
       "3      [principal, nazca, peru, famous, nazca, lines,...\n",
       "4      [ward, village, group, locate, pyapon, distric...\n",
       "                             ...                        \n",
       "995    [nokukhanya, female, live, harare, zimbabwe, p...\n",
       "996    [santra, old, married, reside, jaipur, rajasth...\n",
       "997    [call, mujeres, unidas, women, united, unite, ...\n",
       "998    [yendry, old, married, live, want, buy, help, ...\n",
       "999    [tem, sell, prey, veng, marry, live, picture, ...\n",
       "Name: tokens, Length: 1000, dtype: object"
      ]
     },
     "execution_count": 30,
     "metadata": {},
     "output_type": "execute_result"
    }
   ],
   "source": [
    "loandfs['tokens'] = tokens\n",
    "loandfs['tokens']"
   ]
  },
  {
   "cell_type": "code",
   "execution_count": 31,
   "id": "c2111f7e",
   "metadata": {},
   "outputs": [],
   "source": [
    "# I will apply the Dictionary Object from Gensim, which maps each word to their unique ID:\n",
    "dictionary = Dictionary(loandfs['tokens'])"
   ]
  },
  {
   "cell_type": "code",
   "execution_count": 32,
   "id": "788661f5",
   "metadata": {},
   "outputs": [
    {
     "name": "stdout",
     "output_type": "stream",
     "text": [
      "{'able': 0, 'acre': 1, 'alego': 2, 'buy': 3, 'district': 4, 'feed': 5, 'form': 6, 'fund': 7, 'good': 8, 'group': 9, 'improve': 10, 'join': 11, 'joseph': 12, 'know': 13, 'picture': 14, 'plan': 15, 'plant': 16, 'purchase': 17, 'receive': 18, 'reliable': 19, 'represent': 20, 'say': 21, 'solar': 22, 'upcoming': 23, 'want': 24, 'additional': 25, 'adelante': 26, 'adicional': 27, 'afirma': 28, 'algunas': 29, 'allow': 30, 'amigas': 31, 'asociación': 32, 'ayuda': 33, 'años': 34, 'bodega': 35, 'cada': 36, 'canastas': 37, 'carga': 38, 'casa': 39, 'cinco': 40, 'como': 41, 'con': 42, 'contar': 43, 'count': 44, 'cuenta': 45, 'daysi': 46, 'de': 47, 'dentro': 48, 'despite': 49, 'diversas': 50, 'donde': 51, 'día': 52, 'edad': 53, 'ella': 54, 'ello': 55, 'emergencia': 56, 'emprendedora': 57, 'empresa': 58, 'empresarial': 59, 'enterprise': 60, 'es': 61, 'esas': 62, 'esposo': 63, 'extra': 64, 'falta': 65, 'formas': 66, 'grupo': 67, 'habilidades': 68, 'haga': 69, 'harvey': 70, 'hijos': 71, 'implement': 72, 'ingreso': 73, 'instituir': 74, 'kiva': 75, 'la': 76, 'levantarse': 77, 'librería': 78, 'liz': 79, 'llevan': 80, 'manejar': 81, 'meet': 82, 'mensualmente': 83, 'muestra': 84, 'mujer': 85, 'muy': 86, 'más': 87, 'nada': 88, 'necesario': 89, 'need': 90, 'negocios': 91, 'obtain': 92, 'obtener': 93, 'old': 94, 'para': 95, 'pequeña': 96, 'pesar': 97, 'planea': 98, 'planifica': 99, 'presentan': 100, 'puede': 101, 'que': 102, 'quien': 103, 'recurso': 104, 'rely': 105, 'run': 106, 'se': 107, 'sean': 108, 'siempre': 109, 'small': 110, 'soldador': 111, 'spanish': 112, 'start': 113, 'su': 114, 'suplir': 115, 'supply': 116, 'tiene': 117, 'trabaja': 118, 'trabajadora': 119, 'trabajar': 120, 'translate': 121, 'transportes': 122, 'treinta': 123, 'un': 124, 'una': 125, 'vez': 126, 'visión': 127, 'volunteer': 128, 'work': 129, 'y': 130, 'ya': 131, 'ask': 132, 'build': 133, 'coastal': 134, 'depend': 135, 'future': 136, 'hau': 137, 'healthy': 138, 'high': 139, 'hoa': 140, 'hope': 141, 'huệ': 142, 'live': 143, 'loc': 144, 'local': 145, 'manual': 146, 'mfi': 147, 'mrs': 148, 'new': 149, 'pay': 150, 'poor': 151, 'resell': 152, 'thanh': 153, 'unstable': 154, 'allocate': 155, 'complete': 156, 'compulsory': 157, 'famous': 158, 'graduate': 159, 'grow': 160, 'hard': 161, 'help': 162, 'inspire': 163, 'institute': 164, 'large': 165, 'lines': 166, 'nazca': 167, 'official': 168, 'peru': 169, 'popular': 170, 'principal': 171, 'request': 172, 'sell': 173, 'study': 174, 'support': 175, 'thankful': 176, 'use': 177, 'alert': 178, 'awake': 179, 'ayeyarwady': 180, 'big': 181, 'clean': 182, 'compose': 183, 'cut': 184, 'describe': 185, 'division': 186, 'feature': 187, 'feel': 188, 'free': 189, 'happy': 190, 'heavy': 191, 'khin': 192, 'kyaw': 193, 'lae': 194, 'leave': 195, 'locate': 196, 'marry': 197, 'motorbike': 198, 'myanmar': 199, 'necessary': 200, 'nuts': 201, 'open': 202, 'push': 203, 'pyapon': 204, 'ready': 205, 'san': 206, 'save': 207, 'soft': 208, 'stand': 209, 'thin': 210, 'try': 211, 'village': 212, 'visit': 213, 'ward': 214, 'boost': 215, 'br': 216, 'continue': 217, 'enable': 218, 'enjoy': 219, 'evelyn': 220, 'invest': 221, 'maximize': 222, 'plastic': 223, 'possible': 224, 'previous': 225, 'stable': 226, 'acquire': 227, 'cabanillas': 228, 'display': 229, 'earn': 230, 'financial': 231, 'increase': 232, 'learn': 233, 'make': 234, 'martha': 235, 'puno': 236, 'young': 237, 'avelina': 238, 'can': 239, 'expand': 240, 'general': 241, 'like': 242, 'philippines': 243, 'provide': 244, 'afford': 245, 'married': 246, 'php': 247, 'send': 248, 'shell': 249, 'sulpicia': 250, 'patricia': 251, 'personal': 252, 'secure': 253, 'agree': 254, 'appear': 255, 'apply': 256, 'conservative': 257, 'fatmeh': 258, 'get': 259, 'hussien': 260, 'insist': 261, 'peach': 262, 'raise': 263, 'rent': 264, 'retire': 265, 'alternate': 266, 'commit': 267, 'communal': 268, 'cusco': 269, 'evarista': 270, 'grateful': 271, 'medicinal': 272, 'minibank': 273, 'prepare': 274, 'agricultural': 275, 'borrow': 276, 'farm': 277, 'repair': 278, 'rolita': 279, 'sustain': 280, 'vegetable': 281, 'astringent': 282, 'chemical': 283, 'consider': 284, 'considerable': 285, 'decide': 286, 'domeboro': 287, 'domingo': 288, 'employ': 289, 'end': 290, 'exterminate': 291, 'foundation': 292, 'fundación': 293, 'gain': 294, 'main': 295, 'mario': 296, 'marlon': 297, 'neglect': 298, 'pass': 299, 'sanilí': 300, 'santo': 301, 'similar': 302, 'specialized': 303, 'successful': 304, 'asca': 305, 'begin': 306, 'changamwe': 307, 'coast': 308, 'excited': 309, 'hire': 310, 'kenya': 311, 'milango': 312, 'mombasa': 313, 'municipal': 314, 'province': 315, 'set': 316, 'single': 317, 'view': 318, 'attain': 319, 'emelda': 320, 'past': 321, 'anticipate': 322, 'bless': 323, 'entire': 324, 'fourth': 325, 'kadet': 326, 'kiambu': 327, 'ltd': 328, 'monthly': 329, 'nancy': 330, 'patrick': 331, 'prosperous': 332, 'ruaka': 333, 'service': 334, 'basic': 335, 'celia': 336, 'cook': 337, 'cooked': 338, 'diversify': 339, 'note': 340, 'personlize': 341, 'prepared': 342, 'prior': 343, 'remain': 344, 'remark': 345, 'utilize': 346, 'care': 347, 'concentrated': 348, 'cover': 349, 'deparasite': 350, 'generate': 351, 'hardworking': 352, 'nohemy': 353, 'reach': 354, 'responsible': 355, 'braid': 356, 'commune': 357, 'connect': 358, 'drive': 359, 'exist': 360, 'fry': 361, 'kandal': 362, 'raw': 363, 'sarikakeo': 364, 'select': 365, 'transport': 366, 'affect': 367, 'caren': 368, 'enormous': 369, 'extend': 370, 'having': 371, 'hungry': 372, 'involve': 373, 'juhudi': 374, 'kilimo': 375, 'light': 376, 'litein': 377, 'mixed': 378, 'optimize': 379, 'play': 380, 'seek': 381, 'spend': 382, 'cooperative': 383, 'direct': 384, 'maintain': 385, 'mitchel': 386, 'pmpc': 387, 'polangyuta': 388, 'rtw': 389, 'siquijor': 390, 'wish': 391, 'fe': 392, 'achieve': 393, 'average': 394, 'babban': 395, 'basiru': 396, 'delay': 397, 'gona': 398, 'ha': 399, 'harvest': 400, 'immediate': 401, 'karofi': 402, 'later': 403, 'low': 404, 'metric': 405, 'nigerian': 406, 'realize': 407, 'store': 408, 'superior': 409, 'train': 410, 'well': 411, 'create': 412, 'different': 413, 'favor': 414, 'guarantee': 415, 'horticultural': 416, 'kitale': 417, 'major': 418, 'operate': 419, 'pamela': 420, 'prime': 421, 'remote': 422, 'second': 423, 'short': 424, 'surround': 425, 'turn': 426, 'urban': 427, 'aged': 428, 'early': 429, 'give': 430, 'ride': 431, 'suitable': 432, 'take': 433, 'daisy': 434, 'bank': 435, 'fifth': 436, 'honest': 437, 'inadequate': 438, 'kes': 439, 'lucy': 440, 'microfinance': 441, 'nakuru': 442, 'primary': 443, 'repay': 444, 'smep': 445, 'wholesale': 446, 'elizabeth': 447, 'john': 448, 'kenyan': 449, 'produce': 450, 'retail': 451, 'shillings': 452, 'bekyere': 453, 'cape': 454, 'divorce': 455, 'ekua': 456, 'intend': 457, 'mill': 458, 'nyame': 459, 'reinvest': 460, 'show': 461, 'soaked': 462, 'near': 463, 'tamara': 464, 'bmi': 465, 'idr': 466, 'insufficient': 467, 'kspps': 468, 'sadariah': 469, 'tangerang': 470, 'thank': 471, 'attend': 472, 'breed': 473, 'common': 474, 'dedicate': 475, 'manage': 476, 'maria': 477, 'teach': 478, 'bring': 479, 'el': 480, 'fatten': 481, 'ginny': 482, 'kalish': 483, 'reyna': 484, 'sauce': 485, 'cambodia': 486, 'collect': 487, 'cultivate': 488, 'have': 489, 'medical': 490, 'pov': 491, 'rural': 492, 'safe': 493, 'safeguard': 494, 'imagine': 495, 'nabintu': 496, 'stop': 497, 'cochabamba': 498, 'dependent': 499, 'fail': 500, 'include': 501, 'let': 502, 'offer': 503, 'samuel': 504, 'sunday': 505, 'wednesday': 506, 'attract': 507, 'babita': 508, 'basukinath': 509, 'bright': 510, 'convert': 511, 'deoghar': 512, 'difficult': 513, 'grab': 514, 'jarmundi': 515, 'jharkhand': 516, 'access': 517, 'agriculture': 518, 'apollo': 519, 'bundled': 520, 'compromise': 521, 'expect': 522, 'struggle': 523, 'subsequent': 524, 'wilson': 525, 'ziwa': 526, 'vend': 527, 'welnita': 528, 'bad': 529, 'believe': 530, 'mildred': 531, 'notice': 532, 'proud': 533, 'reduce': 534, 'teso': 535, 'breni': 536, 'engage': 537, 'focus': 538, 'viand': 539, 'box': 540, 'curry': 541, 'lemalie': 542, 'breathe': 543, 'got': 544, 'khusrav': 545, 'love': 546, 'nosiri': 547, 'roziya': 548, 'age': 549, 'baked': 550, 'cándida': 551, 'hardworke': 552, 'homemade': 553, 'maritza': 554, 'miguel': 555, 'noviembre': 556, 'cam': 557, 'find': 558, 'national': 559, 'reputable': 560, 'thoa': 561, 'thuy': 562, 'webuye': 563, 'accredited': 564, 'accurate': 565, 'automate': 566, 'base': 567, 'bukidnon': 568, 'cagayan': 569, 'city': 570, 'costly': 571, 'daily': 572, 'english': 573, 'esterlita': 574, 'hspfi': 575, 'international': 576, 'kibawe': 577, 'kiorob': 578, 'northern': 579, 'opportunity': 580, 'oro': 581, 'own': 582, 'post': 583, 'sari': 584, 'supplement': 585, 'talahiron': 586, 'afodenic': 587, 'follow': 588, 'gesepex': 589, 'josefa': 590, 'require': 591, 'ticuantepe': 592, 'triple': 593, 'cold': 594, 'come': 595, 'independent': 596, 'kif': 597, 'lelia': 598, 'april': 599, 'finish': 600, 'gdmpc': 601, 'jimenez': 602, 'mis': 603, 'occ': 604, 'reside': 605, 'rose': 606, 'taboo': 607, 'import': 608, 'mcdt': 609, 'piped': 610, 'ruth': 611, 'sacco': 612, 'uganda': 613, 'ugandan': 614, 'call': 615, 'footwear': 616, 'look': 617, 'sacrifice': 618, 'santa': 619, 'suffer': 620, 'teresita': 621, 'gia': 622, 'institution': 623, 'thúy': 624, 'tinh': 625, 'aware': 626, 'sanitary': 627, 'kind': 628, 'rosario': 629, 'strengthen': 630, 'benin': 631, 'burgeon': 632, 'certain': 633, 'cyrille': 634, 'diverse': 635, 'ensure': 636, 'houévo': 637, 'ida': 638, 'initial': 639, 'name': 640, 'parallel': 641, 'satisfy': 642, 'sew': 643, 'bachelor': 644, 'carry': 645, 'develop': 646, 'education': 647, 'german': 648, 'practise': 649, 'science': 650, 'sow': 651, 'tell': 652, 'walk': 653, 'caguasqui': 654, 'grant': 655, 'see': 656, 'silvana': 657, 'alina': 658, 'blue': 659, 'comprise': 660, 'dios': 661, 'esperanza': 662, 'god': 663, 'internacional': 664, 'macoris': 665, 'mi': 666, 'pedro': 667, 'appreciate': 668, 'cause': 669, 'community': 670, 'contract': 671, 'current': 672, 'devoted': 673, 'eco': 674, 'emit': 675, 'expensive': 676, 'friendly': 677, 'hello': 678, 'jane': 679, 'jiko': 680, 'paraffin': 681, 'problematic': 682, 'respiratory': 683, 'dezi': 684, 'economic': 685, 'explain': 686, 'ibanda': 687, 'opt': 688, 'abibatu': 689, 'add': 690, 'eastern': 691, 'kenema': 692, 'leone': 693, 'respective': 694, 'salone': 695, 'sierra': 696, 'sll': 697, 'smt': 698, 'tamarrneh': 699, 'trust': 700, 'united': 701, 'broad': 702, 'enhance': 703, 'mass': 704, 'muranga': 705, 'nairobi': 706, 'pursue': 707, 'shift': 708, 'edwin': 709, 'fudecosur': 710, 'great': 711, 'gretchen': 712, 'aiza': 713, 'aziza': 714, 'batasan': 715, 'cct': 716, 'finance': 717, 'gather': 718, 'little': 719, 'micro': 720, 'organize': 721, 'philippine': 722, 'regular': 723, 'salic': 724, 'share': 725, 'social': 726, 'weekly': 727, 'word': 728, 'dulag': 729, 'leyte': 730, 'proper': 731, 'sustainable': 732, 'teodor': 733, 'teodoro': 734, 'baca': 735, 'center': 736, 'dental': 737, 'guinea': 738, 'health': 739, 'hersk': 740, 'jacinto': 741, 'jeffrey': 742, 'lucas': 743, 'managua': 744, 'nueva': 745, 'steady': 746, 'talolinga': 747, 'unan': 748, 'accomplish': 749, 'certify': 750, 'competitive': 751, 'complicated': 752, 'force': 753, 'impose': 754, 'kapsowar': 755, 'lovely': 756, 'rich': 757, 'rise': 758, 'salina': 759, 'alice': 760, 'fresh': 761, 'ugx': 762, 'felix': 763, 'mean': 764, 'baraka': 765, 'sarah': 766, 'swahili': 767, 'go': 768, 'professional': 769, 'russia': 770, 'traditional': 771, 'update': 772, 'yavan': 773, 'accept': 774, 'alter': 775, 'black': 776, 'disclaimer': 777, 'identifiable': 778, 'industrial': 779, 'kirkuk': 780, 'protect': 781, 'unsettled': 782, 'volatile': 783, 'irregular': 784, 'landless': 785, 'mbk': 786, 'sarmani': 787, 'nan': 788, 'hybrid': 789, 'matete': 790, 'oaf': 791, 'saul': 792, 'spread': 793, 'anastasie': 794, 'change': 795, 'girimwete': 796, 'lead': 797, 'characterize': 798, 'christ': 799, 'cristo': 800, 'dignified': 801, 'distant': 802, 'guia': 803, 'guide': 804, 'limited': 805, 'nicaragua': 806, 'nos': 807, 'stock': 808, 'destroy': 809, 'kratie': 810, 'overcome': 811, 'sary': 812, 'theses': 813, 'visionfund': 814, 'company': 815, 'vestine': 816, 'vision': 817, 'pixelate': 818, 'charge': 819, 'mobile': 820, 'yehu': 821, 'await': 822, 'gulmahmad': 823, 'imon': 824, 'recover': 825, 'respect': 826, 'tajikistan': 827, 'tries': 828, 'linda': 829, 'ada': 830, 'bake': 831, 'blvd': 832, 'cobbler': 833, 'college': 834, 'commercial': 835, 'consistent': 836, 'daniels': 837, 'downtown': 838, 'farmers': 839, 'fl': 840, 'florida': 841, 'fort': 842, 'fusion': 843, 'gourmet': 844, 'grand': 845, 'hobby': 846, 'keep': 847, 'kitchen': 848, 'madame': 849, 'market': 850, 'markets': 851, 'myers': 852, 'naples': 853, 'nathan': 854, 'natural': 855, 'november': 856, 'numerous': 857, 'palamino': 858, 'parkway': 859, 'parties': 860, 'pie': 861, 'pies': 862, 'pizza': 863, 'prevent': 864, 'private': 865, 'railhead': 866, 'realtor': 867, 'reciiew': 868, 'restaurants': 869, 'seven': 870, 'state': 871, 'steveb': 872, 'trade': 873, 'videos': 874, 'youtube': 875, 'juabeng': 876, 'sure': 877, 'yaw': 878, 'establish': 879, 'nablus': 880, 'sabreen': 881, 'adequate': 882, 'artisan': 883, 'enrich': 884, 'esther': 885, 'prefer': 886, 'skilled': 887, 'reinforce': 888, 'vahatra': 889, 'bul': 890, 'kampot': 891, 'especial': 892, 'hygienic': 893, 'lack': 894, 'tuyen': 895, 'emilyo': 896, 'iringa': 897, 'maize': 898, 'refer': 899, 'distribute': 900, 'dynamic': 901, 'effective': 902, 'humble': 903, 'machakos': 904, 'modern': 905, 'nutritious': 906, 'optimistic': 907, 'revive': 908, 'upgrade': 909, 'leotrim': 910, 'enterprising': 911, 'promise': 912, 'adolescents': 913, 'brac': 914, 'ela': 915, 'empowerment': 916, 'iganga': 917, 'livelihood': 918, 'pallisa': 919, 'rear': 920, 'sharon': 921, 'atakpame': 922, 'bassar': 923, 'beatrice': 924, 'sotouboua': 925, 'ann': 926, 'assorted': 927, 'fill': 928, 'hail': 929, 'handle': 930, 'mary': 931, 'productive': 932, 'profitable': 933, 'talibon': 934, 'afia': 935, 'djrmahuton': 936, 'gnonnougan': 937, 'jean': 938, 'reimburse': 939, 'respond': 940, 'belong': 941, 'colored': 942, 'embroider': 943, 'isabel': 944, 'leaders': 945, 'lideres': 946, 'los': 947, 'perú': 948, 'michelle': 949, 'negros': 950, 'nwtf': 951, 'tomorrow': 952, 'women': 953, 'freetown': 954, 'makaprr': 955, 'pure': 956, 'africa': 957, 'benefit': 958, 'eliud': 959, 'glory': 960, 'hand': 961, 'hazina': 962, 'long': 963, 'manzurakhon': 964, 'tursun': 965, 'zoda': 966, 'chak': 967, 'face': 968, 'fling': 969, 'gujranwala': 970, 'hold': 971, 'permanent': 972, 'prominent': 973, 'sadhoo': 974, 'sole': 975, 'alili': 976, 'aloran': 977, 'dream': 978, 'mpc': 979, 'paglaum': 980, 'sign': 981, 'tend': 982, 'cooperate': 983, 'educational': 984, 'lebanese': 985, 'nour': 986, 'vitas': 987, 'cecilia': 988, 'checheria': 989, 'crowded': 990, 'daku': 991, 'grown': 992, 'misamis': 993, 'occidental': 994, 'segatic': 995, 'widow': 996, 'buyegi': 997, 'consumable': 998, 'daudi': 999, 'late': 1000, 'shinyanga': 1001, 'tanzania': 1002, 'tujijenge': 1003, 'alexander': 1004, 'easygoing': 1005, 'install': 1006, 'uah': 1007, 'belcorp': 1008, 'contribute': 1009, 'cyzone': 1010, 'esika': 1011, 'ibel': 1012, 'leafy': 1013, 'portoviejo': 1014, 'yanbal': 1015, 'kwasi': 1016, 'prune': 1017, 'secondary': 1018, 'separate': 1019, 'staple': 1020, 'approve': 1021, 'contractual': 1022, 'joint': 1023, 'kapan': 1024, 'military': 1025, 'recent': 1026, 'return': 1027, 'sef': 1028, 'shogher': 1029, 'syuniq': 1030, 'chea': 1031, 'eld': 1032, 'iv': 1033, 'preak': 1034, 'roka': 1035, 'cfa': 1036, 'ethnic': 1037, 'fulani': 1038, 'imcec': 1039, 'introduce': 1040, 'ousmane': 1041, 'peulh': 1042, 'round': 1043, 'solid': 1044, 'environmental': 1045, 'promote': 1046, 'rudelyn': 1047, 'bai': 1048, 'barchynai': 1049, 'irrigated': 1050, 'kgs': 1051, 'tushum': 1052, 'cham': 1053, 'chhor': 1054, 'kampong': 1055, 'khi': 1056, 'plow': 1057, 'prey': 1058, 'assist': 1059, 'deal': 1060, 'empower': 1061, 'saban': 1062, 'gujrat': 1063, 'pakistan': 1064, 'present': 1065, 'younas': 1066, 'anuar': 1067, 'available': 1068, 'colombia': 1069, 'fix': 1070, 'interactuar': 1071, 'lending': 1072, 'survive': 1073, 'team': 1074, 'active': 1075, 'camfed': 1076, 'gokwe': 1077, 'learner': 1078, 'north': 1079, 'zimbabwe': 1080, 'erlinda': 1081, 'renalyn': 1082, 'marian': 1083, 'arrive': 1084, 'attach': 1085, 'claudia': 1086, 'milenio': 1087, 'tercer': 1088, 'urubamba': 1089, 'carve': 1090, 'lesina': 1091, 'print': 1092, 'wooden': 1093, 'banteay': 1094, 'borey': 1095, 'eleventh': 1096, 'meanchey': 1097, 'mongkul': 1098, 'sopheak': 1099, 'alberto': 1100, 'cerete': 1101, 'informal': 1102, 'luis': 1103, 'teenage': 1104, 'activate': 1105, 'gabriela': 1106, 'jhosselyn': 1107, 'strive': 1108, 'anonang': 1109, 'aurora': 1110, 'del': 1111, 'field': 1112, 'lanao': 1113, 'mindanao': 1114, 'norte': 1115, 'partner': 1116, 'progressive': 1117, 'sur': 1118, 'victoria': 1119, 'zamboanga': 1120, 'nenita': 1121, 'aldescu': 1122, 'cartagena': 1123, 'colombian': 1124, 'confecciones': 1125, 'day': 1126, 'exhibit': 1127, 'friendship': 1128, 'luz': 1129, 'particular': 1130, 'position': 1131, 'range': 1132, 'rebound': 1133, 'relocate': 1134, 'valentine': 1135, 'germinate': 1136, 'nature': 1137, 'nearby': 1138, 'rachelle': 1139, 'important': 1140, 'launch': 1141, 'undergo': 1142, 'vaniza': 1143, 'penh': 1144, 'phnom': 1145, 'road': 1146, 'vannsrey': 1147, 'yeun': 1148, 'clear': 1149, 'educate': 1150, 'imbabura': 1151, 'lita': 1152, 'parambas': 1153, 'parish': 1154, 'progress': 1155, 'rosa': 1156, 'serve': 1157, 'ashi': 1158, 'augment': 1159, 'recognize': 1160, 'rosalie': 1161, 'florence': 1162, 'kiptuya': 1163, 'melanie': 1164, 'abundant': 1165, 'isable': 1166, 'padecomsm': 1167, 'seasonal': 1168, 'arlene': 1169, 'avail': 1170, 'encourage': 1171, 'endure': 1172, 'jackielou': 1173, 'natappian': 1174, 'reward': 1175, 'simple': 1176, 'solana': 1177, 'west': 1178, 'mohammed': 1179, 'populated': 1180, 'spare': 1181, 'aspire': 1182, 'bestow': 1183, 'brgy': 1184, 'cebu': 1185, 'click': 1186, 'dungganon': 1187, 'elevate': 1188, 'ester': 1189, 'hiligaynon': 1190, 'honorable': 1191, 'liloan': 1192, 'project': 1193, 'santander': 1194, 'surpass': 1195, 'cesar': 1196, 'helmut': 1197, 'huanca': 1198, 'milagroso': 1199, 'señor': 1200, 'accessible': 1201, 'affordable': 1202, 'dedicated': 1203, 'excellent': 1204, 'fertile': 1205, 'fulfil': 1206, 'integral': 1207, 'josé': 1208, 'manuel': 1209, 'recuperate': 1210, 'sufficient': 1211, 'valuable': 1212, 'better': 1213, 'hopeful': 1214, 'kampala': 1215, 'teopista': 1216, 'ugafode': 1217, 'koghb': 1218, 'supportive': 1219, 'yegor': 1220, 'josephine': 1221, 'liberia': 1222, 'tenth': 1223, 'bear': 1224, 'zarrina': 1225, 'kim': 1226, 'kompong': 1227, 'speu': 1228, 'kasubi': 1229, 'moudelline': 1230, 'nansana': 1231, 'ban': 1232, 'felecia': 1233, 'red': 1234, 'vita': 1235, 'lela': 1236, 'passersby': 1237, 'pipe': 1238, 'concepcion': 1239, 'accord': 1240, 'african': 1241, 'bolster': 1242, 'dry': 1243, 'f': 1244, 'french': 1245, 'joy': 1246, 'karité': 1247, 'kifosso': 1248, 'kimparana': 1249, 'kramer': 1250, 'lomé': 1251, 'polygamous': 1252, 'precede': 1253, 'sewa': 1254, 'shea': 1255, 'soro': 1256, 'stylish': 1257, 'ségou': 1258, 'teresa': 1259, 'thermos': 1260, 'togolese': 1261, 'true': 1262, 'wax': 1263, 'yiriwaso': 1264, 'ahmadsha': 1265, 'mahboba': 1266, 'merman': 1267, 'rohaba': 1268, 'strong': 1269, 'tailor': 1270, 'useful': 1271, 'blacksmith': 1272, 'broken': 1273, 'lahore': 1274, 'manufacture': 1275, 'nasreen': 1276, 'replace': 1277, 'weld': 1278, 'catch': 1279, 'hiển': 1280, 'comfortable': 1281, 'content': 1282, 'culinary': 1283, 'florinda': 1284, 'friday': 1285, 'monday': 1286, 'punctual': 1287, 'regional': 1288, 'welcome': 1289, 'kikaka': 1290, 'margaret': 1291, 'aim': 1292, 'ambitious': 1293, 'bhubaneshwar': 1294, 'budding': 1295, 'mahashakti': 1296, 'meager': 1297, 'move': 1298, 'odisha': 1299, 'rina': 1300, 'rs': 1301, 'sanghamitra': 1302, 'melania': 1303, 'amount': 1304, 'central': 1305, 'improved': 1306, 'lift': 1307, 'mention': 1308, 'nkubu': 1309, 'oswald': 1310, 'felly': 1311, 'virginia': 1312, 'angelita': 1313, 'bohol': 1314, 'cater': 1315, 'hot': 1316, 'sagbayan': 1317, 'asasah': 1318, 'fulfill': 1319, 'paint': 1320, 'perform': 1321, 'polish': 1322, 'sajida': 1323, 'stay': 1324, 'vast': 1325, 'confident': 1326, 'hollow': 1327, 'pvc': 1328, 'agness': 1329, 'business': 1330, 'experienced': 1331, 'mentor': 1332, 'nchelenge': 1333, 'zambia': 1334, 'lina': 1335, 'mange': 1336, 'aida': 1337, 'ghanaian': 1338, 'gifty': 1339, 'isaiah': 1340, 'junior': 1341, 'obuasi': 1342, 'smoke': 1343, 'proek': 1344, 'sokunthea': 1345, 'leona': 1346, 'lebanon': 1347, 'sabah': 1348, 'think': 1349, 'willing': 1350, 'jared': 1351, 'resourceful': 1352, 'beni': 1353, 'chadrach': 1354, 'impact': 1355, 'desire': 1356, 'gerald': 1357, 'hoima': 1358, 'pose': 1359, 'ancille': 1360, 'jyambere': 1361, 'renovate': 1362, 'draw': 1363, 'easy': 1364, 'efficient': 1365, 'life': 1366, 'lorna': 1367, 'noel': 1368, 'phillippines': 1369, 'pray': 1370, 'unique': 1371, 'liquid': 1372, 'mark': 1373, 'naomi': 1374, 'succeed': 1375, 'voi': 1376, 'baniswef': 1377, 'egypt': 1378, 'egyptian': 1379, 'electrical': 1380, 'elementary': 1381, 'epg': 1382, 'tade': 1383, 'talaat': 1384, 'gata': 1385, 'oroquieta': 1386, 'beneficial': 1387, 'insulate': 1388, 'lose': 1389, 'mnt': 1390, 'mongolia': 1391, 'orkhon': 1392, 'sersmaa': 1393, 'vulnerable': 1394, 'will': 1395, 'dajabon': 1396, 'dominican': 1397, 'haiti': 1398, 'haitian': 1399, 'marie': 1400, 'needy': 1401, 'p': 1402, 'public': 1403, 'republic': 1404, 'till': 1405, 'leticia': 1406, 'practice': 1407, 'zenaida': 1408, 'alejandro': 1409, 'b': 1410, 'grameen': 1411, 'liloy': 1412, 'miquel': 1413, 'multi': 1414, 'northwestern': 1415, 'purpose': 1416, 'awn': 1417, 'carlos': 1418, 'interested': 1419, 'laura': 1420, 'eka': 1421, 'kbmi': 1422, 'bujumbura': 1423, 'damien': 1424, 'domine': 1425, 'turame': 1426, 'tuzokora': 1427, 'fernanda': 1428, 'indias': 1429, 'luisa': 1430, 'suspend': 1431, 'albuera': 1432, 'iloilo': 1433, 'leonarda': 1434, 'likely': 1435, 'powdered': 1436, 'uplift': 1437, 'choose': 1438, 'embargo': 1439, 'hog': 1440, 'jelina': 1441, 'ozamiz': 1442, 'electronic': 1443, 'popur': 1444, 'saodat': 1445, 'tursunzoda': 1446, 'wonderful': 1447, 'berna': 1448, 'wilber': 1449, 'evurore': 1450, 'khmum': 1451, 'organic': 1452, 'phary': 1453, 'tbong': 1454, 'charles': 1455, 'faulu': 1456, 'mlajasho': 1457, 'rental': 1458, 'gloria': 1459, 'mo': 1460, 'pregnant': 1461, 'rebuild': 1462, 'rejoin': 1463, 'restart': 1464, 'uncooked': 1465, 'vera': 1466, 'yesu': 1467, 'judith': 1468, 'mumias': 1469, 'propose': 1470, 'balanced': 1471, 'chiclayo': 1472, 'delicias': 1473, 'jhon': 1474, 'lambayeque': 1475, 'las': 1476, 'oyotún': 1477, 'peruvian': 1478, 'wilder': 1479, 'mirafe': 1480, 'approach': 1481, 'juan': 1482, 'resist': 1483, 'dark': 1484, 'assure': 1485, 'celebrate': 1486, 'combine': 1487, 'constant': 1488, 'favourable': 1489, 'formal': 1490, 'rainy': 1491, 'thika': 1492, 'unreliable': 1493, 'waste': 1494, 'dtm': 1495, 'motivate': 1496, 'silah': 1497, 'noun': 1498, 'ptasrong': 1499, 'pursat': 1500, 'sok': 1501, 'thom': 1502, 'judelyn': 1503, 'best': 1504, 'break': 1505, 'ebola': 1506, 'female': 1507, 'k': 1508, 'anwer': 1509, 'expert': 1510, 'juki': 1511, 'sit': 1512, 'stitch': 1513, 'catigbian': 1514, 'reynaldo': 1515, 'beat': 1516, 'bet': 1517, 'conjure': 1518, 'domestic': 1519, 'fruition': 1520, 'gloss': 1521, 'jinja': 1522, 'odd': 1523, 'ply': 1524, 'advance': 1525, 'alleviate': 1526, 'avoid': 1527, 'double': 1528, 'equal': 1529, 'garba': 1530, 'loan': 1531, 'lucrative': 1532, 'nigeria': 1533, 'non': 1534, 'perceive': 1535, 'ana': 1536, 'andrea': 1537, 'brown': 1538, 'golden': 1539, 'guatemalan': 1540, 'subanik': 1541, 'white': 1542, 'experience': 1543, 'intense': 1544, 'jose': 1545, 'margarita': 1546, 'monterrey': 1547, 'caucasia': 1548, 'conflict': 1549, 'pende': 1550, 'societal': 1551, 'ibarra': 1552, 'venezuela': 1553, 'venezuelan': 1554, 'juja': 1555, 'pauline': 1556, 'residential': 1557, 'spoil': 1558, 'artistic': 1559, 'jws': 1560, 'saima': 1561, 'sheikhupura': 1562, 'urgent': 1563, 'careful': 1564, 'gissar': 1565, 'makhfirat': 1566, 'polite': 1567, 'treat': 1568, 'carnival': 1569, 'christmas': 1570, 'corners': 1571, 'cuatro': 1572, 'dance': 1573, 'esquinas': 1574, 'guaranda': 1575, 'lisceth': 1576, 'listen': 1577, 'girasoles': 1578, 'moron': 1579, 'sofia': 1580, 'alfredo': 1581, 'put': 1582, 'bulk': 1583, 'caacupé': 1584, 'monica': 1585, 'participate': 1586, 'umguza': 1587, 'cholpon': 1588, 'contain': 1589, 'partners': 1590, 'som': 1591, 'asunción': 1592, 'divorced': 1593, 'fotu': 1594, 'anselma': 1595, 'agrarian': 1596, 'capable': 1597, 'dilshod': 1598, 'chhnang': 1599, 'sotheary': 1600, 'float': 1601, 'kelvin': 1602, 'shall': 1603, 'kelematina': 1604, 'samco': 1605, 'tin': 1606, 'enlarge': 1607, 'julio': 1608, 'kangundo': 1609, 'purity': 1610, 'doreen': 1611, 'essential': 1612, 'kibuli': 1613, 'makindye': 1614, 'bayanhongor': 1615, 'chinese': 1616, 'ereen': 1617, 'ger': 1618, 'minded': 1619, 'mongolian': 1620, 'nomadic': 1621, 'oyun': 1622, 'bujazan': 1623, 'ciudad': 1624, 'collao': 1625, 'found': 1626, 'michael': 1627, 'pilcuyo': 1628, 'abject': 1629, 'ancient': 1630, 'arable': 1631, 'asian': 1632, 'asomidin': 1633, 'avicenna': 1634, 'civil': 1635, 'complex': 1636, 'damage': 1637, 'date': 1638, 'december': 1639, 'devote': 1640, 'epic': 1641, 'ferdowsi': 1642, 'ignite': 1643, 'islamic': 1644, 'jomi': 1645, 'key': 1646, 'khayyam': 1647, 'mountainous': 1648, 'omar': 1649, 'result': 1650, 'rudaki': 1651, 'rumi': 1652, 'silk': 1653, 'sogdian': 1654, 'soviet': 1655, 'speak': 1656, 'varied': 1657, 'viable': 1658, 'weak': 1659, 'divino': 1660, 'loved': 1661, 'mirta': 1662, 'niño': 1663, 'program': 1664, 'travel': 1665, 'favorable': 1666, 'francis': 1667, 'megi': 1668, 'accelerate': 1669, 'beautiful': 1670, 'cubic': 1671, 'deforestation': 1672, 'distraught': 1673, 'renewable': 1674, 'unpredictable': 1675, 'fatma': 1676, 'maya': 1677, 'cosmetic': 1678, 'diligent': 1679, 'facial': 1680, 'llve': 1681, 'peaceful': 1682, 'rawalpindi': 1683, 'zarqa': 1684, 'moustaki': 1685, 'shamshad': 1686, 'carlota': 1687, 'mishi': 1688, 'determined': 1689, 'helen': 1690, 'lapo': 1691, 'ngn': 1692, 'organization': 1693, 'poverty': 1694, 'alternativa': 1695, 'cajamarca': 1696, 'catimor': 1697, 'cutervo': 1698, 'edpyme': 1699, 'pimpingos': 1700, 'recur': 1701, 'reflect': 1702, 'resistant': 1703, 'santos': 1704, 'placencio': 1705, 'cristiano': 1706, 'helpful': 1707, 'chilanga': 1708, 'felicita': 1709, 'kris': 1710, 'morazán': 1711, 'vickery': 1712, 'da': 1713, 'dangbo': 1714, 'david': 1715, 'dwell': 1716, 'enrol': 1717, 'gh': 1718, 'glahounsa': 1719, 'indispensable': 1720, 'kessounou': 1721, 'laughable': 1722, 'missimahou': 1723, 'ouémé': 1724, 'recede': 1725, 'resort': 1726, 'wealthy': 1727, 'battambang': 1728, 'kunthea': 1729, 'leah': 1730, 'electric': 1731, 'specialize': 1732, 'tingaly': 1733, 'close': 1734, 'eager': 1735, 'joel': 1736, 'león': 1737, 'oatmeal': 1738, 'silvia': 1739, 'wait': 1740, 'quintal': 1741, 'sra': 1742, 'aldea': 1743, 'deworme': 1744, 'global': 1745, 'administrative': 1746, 'benkelema': 1747, 'kadia': 1748, 'monpiela': 1749, 'niena': 1750, 'seventh': 1751, 'sikasso': 1752, 'indonesian': 1753, 'online': 1754, 'rohati': 1755, 'angélica': 1756, 'canton': 1757, 'crédito': 1758, 'delicious': 1759, 'fridays': 1760, 'mujeres': 1761, 'organizadas': 1762, 'rocafuerte': 1763, 'saturdays': 1764, 'sundays': 1765, 'ferrier': 1766, 'kay': 1767, 'ken': 1768, 'rare': 1769, 'revolution': 1770, 'yvrose': 1771, 'analyn': 1772, 'veterinary': 1773, 'cerro': 1774, 'colorado': 1775, 'cristina': 1776, 'exemplary': 1777, 'positive': 1778, 'jerlyn': 1779, 'enthusiastic': 1780, 'imperial': 1781, 'larges': 1782, 'motivated': 1783, 'susan': 1784, 'abarrotes': 1785, 'abrir': 1786, 'aceite': 1787, 'al': 1788, 'ante': 1789, 'antes': 1790, 'arroz': 1791, 'atún': 1792, 'azúcar': 1793, 'banco': 1794, 'caja': 1795, 'compra': 1796, 'compro': 1797, 'comunal': 1798, 'condición': 1799, 'cortijo': 1800, 'departamento': 1801, 'diferencia': 1802, 'dos': 1803, 'días': 1804, 'en': 1805, 'este': 1806, 'estudio': 1807, 'gabe': 1808, 'garcia': 1809, 'garcía': 1810, 'grado': 1811, 'hace': 1812, 'hasta': 1813, 'hermelinda': 1814, 'liberated': 1815, 'libertad': 1816, 'mayor': 1817, 'menestras': 1818, 'mercado': 1819, 'muchos': 1820, 'negocio': 1821, 'ninguno': 1822, 'nuevo': 1823, 'obtuvo': 1824, 'pagara': 1825, 'pero': 1826, 'pertenece': 1827, 'poco': 1828, 'por': 1829, 'primaria': 1830, 'primer': 1831, 'provincia': 1832, 'préstamo': 1833, 'puesto': 1834, 'roque': 1835, 'saco': 1836, 'sacos': 1837, 'school': 1838, 'señora': 1839, 'sueño': 1840, 'telvina': 1841, 'temprano': 1842, 'tener': 1843, 'todo': 1844, 'todos': 1845, 'trujillo': 1846, 'ubicado': 1847, 'utilidad': 1848, 'variedad': 1849, 'vendía': 1850, 'verduras': 1851, 'vive': 1852, 'zonal': 1853, 'yassah': 1854, 'arlita': 1855, 'hkl': 1856, 'matured': 1857, 'tom': 1858, 'unemployed': 1859, 'attiégou': 1860, 'colorful': 1861, 'dan': 1862, 'energetic': 1863, 'hitarget': 1864, 'kuey': 1865, 'shrink': 1866, 'wages': 1867, 'andean': 1868, 'andes': 1869, 'aymara': 1870, 'cylindrical': 1871, 'hernan': 1872, 'isla': 1873, 'lake': 1874, 'navigate': 1875, 'notable': 1876, 'paz': 1877, 'reed': 1878, 'reeds': 1879, 'slight': 1880, 'suriqui': 1881, 'titicaca': 1882, 'total': 1883, 'totora': 1884, 'wide': 1885, 'banisilan': 1886, 'cotabato': 1887, 'instant': 1888, 'paradise': 1889, 'shirly': 1890, 'south': 1891, 'bolisong': 1892, 'kinoguitan': 1893, 'luzdella': 1894, 'oriental': 1895, 'jacky': 1896, 'kasangati': 1897, 'akossiwa': 1898, 'dress': 1899, 'medicated': 1900, 'segbe': 1901, 'abnegada': 1902, 'acceptable': 1903, 'actividad': 1904, 'anhela': 1905, 'aparecen': 1906, 'armazones': 1907, 'armazón': 1908, 'aumentar': 1909, 'aumento': 1910, 'bajas': 1911, 'bien': 1912, 'capital': 1913, 'comerciante': 1914, 'compañía': 1915, 'conocidos': 1916, 'consiga': 1917, 'constancia': 1918, 'convertido': 1919, 'conviertan': 1920, 'cual': 1921, 'cuando': 1922, 'culminado': 1923, 'dean': 1924, 'dedica': 1925, 'depende': 1926, 'desea': 1927, 'deseos': 1928, 'diario': 1929, 'difícil': 1930, 'económica': 1931, 'ellos': 1932, 'entre': 1933, 'esta': 1934, 'esto': 1935, 'estos': 1936, 'estudiando': 1937, 'están': 1938, 'estén': 1939, 'familia': 1940, 'ferias': 1941, 'formar': 1942, 'ganancia': 1943, 'gaudy': 1944, 'haber': 1945, 'han': 1946, 'happen': 1947, 'importantes': 1948, 'inconvenientes': 1949, 'jenny': 1950, 'llamativos': 1951, 'lo': 1952, 'locales': 1953, 'luego': 1954, 'madre': 1955, 'mejoren': 1956, 'meta': 1957, 'metal': 1958, 'mismas': 1959, 'motivan': 1960, 'otras': 1961, 'permite': 1962, 'petición': 1963, 'poca': 1964, 'poder': 1965, 'pone': 1966, 'posibilitemos': 1967, 'posicionado': 1968, 'problemas': 1969, 'producción': 1970, 'progresen': 1971, 'proveedore': 1972, 'puedan': 1973, 'realizando': 1974, 'recuerda': 1975, 'remember': 1976, 'seguir': 1977, 'situación': 1978, 'sol': 1979, 'solicita': 1980, 'sombrillas': 1981, 'superado': 1982, 'sus': 1983, 'sustento': 1984, 'tanto': 1985, 'tenga': 1986, 'tengan': 1987, 'toda': 1988, 'trabajo': 1989, 'uno': 1990, 'venderlas': 1991, 'venta': 1992, 'ventaja': 1993, 'ventas': 1994, 'verificar': 1995, 'verify': 1996, 'vistosos': 1997, 'india': 1998, 'itishree': 1999, 'khurda': 2000, 'right': 2001, 'sanju': 2002, 'self': 2003, 'wear': 2004, 'weave': 2005, 'beloved': 2006, 'hanifa': 2007, 'khujand': 2008, 'pleasant': 2009, 'russian': 2010, 'university': 2011, 'kulob': 2012, 'umeda': 2013, 'commute': 2014, 'sophal': 2015, 'aurea': 2016, 'dipolog': 2017, 'mercedita': 2018, 'merly': 2019, 'elma': 2020, 'piura': 2021, 'salinas': 2022, 'station': 2023, 'tambogrande': 2024, 'telesforo': 2025, 'wagon': 2026, 'casian': 2027, 'decididas': 2028, 'foster': 2029, 'jr': 2030, 'marilu': 2031, 'martín': 2032, 'pen': 2033, 'prestigious': 2034, 'propel': 2035, 'resolute': 2036, 'shapaja': 2037, 'tarapoto': 2038, 'agustina': 2039, 'america': 2040, 'bilas': 2041, 'jacote': 2042, 'lively': 2043, 'masaya': 2044, 'mombin': 2045, 'orientales': 2046, 'pipián': 2047, 'plum': 2048, 'progreso': 2049, 'tropical': 2050, 'carolien': 2051, 'familiar': 2052, 'maykelinn': 2053, 'micrédito': 2054, 'sirley': 2055, 'ancash': 2056, 'casey': 2057, 'catac': 2058, 'comprará': 2059, 'creciendo': 2060, 'cubrir': 2061, 'distrito': 2062, 'fideos': 2063, 'gastos': 2064, 'gracias': 2065, 'gregoria': 2066, 'harina': 2067, 'ido': 2068, 'ingresos': 2069, 'manuela': 2070, 'movement': 2071, 'movimiento': 2072, 'pagado': 2073, 'pleased': 2074, 'prestamos': 2075, 'ramos': 2076, 'recibido': 2077, 'reciente': 2078, 'recuay': 2079, 'siente': 2080, 'sola': 2081, 'son': 2082, 'suficientes': 2083, 'surtir': 2084, 'tienda': 2085, 'tourism': 2086, 'town': 2087, 'turística': 2088, 'unrein': 2089, 'ver': 2090, 'villa': 2091, 'issa': 2092, 'mali': 2093, 'malian': 2094, 'mopti': 2095, 'ma': 2096, 'fritada': 2097, 'nestor': 2098, 'portal': 2099, 'rosette': 2100, 'estrella': 2101, 'dangara': 2102, 'dushanbe': 2103, 'guljahon': 2104, 'gracelle': 2105, 'habal': 2106, 'bakong': 2107, 'hattha': 2108, 'kaksekar': 2109, 'leakena': 2110, 'prasat': 2111, 'reap': 2112, 'siem': 2113, 'special': 2114, 'chilli': 2115, 'estabilsh': 2116, 'fetch': 2117, 'genge': 2118, 'mambo': 2119, 'mbeya': 2120, 'miss': 2121, 'outside': 2122, 'roofed': 2123, 's': 2124, 'witness': 2125, 'place': 2126, 'granton': 2127, 'myrna': 2128, 'bii': 2129, 'bulondo': 2130, 'bungoma': 2131, 'half': 2132, 'joyce': 2133, 'rains': 2134, 'beatriz': 2135, 'tagbilaran': 2136, 'chamroeun': 2137, 'khr': 2138, 'gweru': 2139, 'lower': 2140, 'winfilder': 2141, 'nelanie': 2142, 'magburaka': 2143, 'makeni': 2144, 'massobong': 2145, 'mohamed': 2146, 'killa': 2147, 'mosoc': 2148, 'abidjan': 2149, 'february': 2150, 'hairdresse': 2151, 'madeleine': 2152, 'yopougon': 2153, 'christine': 2154, 'few': 2155, 'impossible': 2156, 'nazia': 2157, 'sudden': 2158, 'beaded': 2159, 'bridge': 2160, 'deliver': 2161, 'department': 2162, 'guatemala': 2163, 'handwash': 2164, 'inform': 2165, 'mayan': 2166, 'sololá': 2167, 'tejedoras': 2168, 'tzutuhil': 2169, 'samoan': 2170, 'saturday': 2171, 'felisa': 2172, 'actualmente': 2173, 'atraen': 2174, 'cliente': 2175, 'clientela': 2176, 'compromisos': 2177, 'cuanta': 2178, 'cuento': 2179, 'experiencia': 2180, 'grime': 2181, 'habitacion': 2182, 'kristin': 2183, 'mas': 2184, 'necesito': 2185, 'ofrecer': 2186, 'otros': 2187, 'pastora': 2188, 'pulperia': 2189, 'soy': 2190, 'surtidos': 2191, 'tengo': 2192, 'varios': 2193, 'ven': 2194, 'maima': 2195, 'committed': 2196, 'flourish': 2197, 'lucie': 2198, 'rwanda': 2199, 'threaten': 2200, 'essivi': 2201, 'grind': 2202, 'guldasta': 2203, 'command': 2204, 'evaline': 2205, 'immense': 2206, 'molo': 2207, 'precious': 2208, 'read': 2209, 'academic': 2210, 'integrate': 2211, 'multidisciplinary': 2212, 'physical': 2213, 'shumaila': 2214, 'salvasion': 2215, 'chi': 2216, 'ho': 2217, 'lien': 2218, 'minh': 2219, 'kitura': 2220, 'lend': 2221, 'maua': 2222, 'scale': 2223, 'shut': 2224, 'advanced': 2225, 'amani': 2226, 'faten': 2227, 'gaza': 2228, 'remedial': 2229, 'affiliate': 2230, 'banc': 2231, 'dieynaba': 2232, 'september': 2233, 'abida': 2234, 'skillful': 2235, 'atlántida': 2236, 'casabe': 2237, 'ceiba': 2238, 'irza': 2239, 'extensive': 2240, 'ivory': 2241, 'ease': 2242, 'encounter': 2243, 'lament': 2244, 'ali': 2245, 'inherit': 2246, 'stockpile': 2247, 'challenging': 2248, 'excel': 2249, 'kericho': 2250, 'relieved': 2251, 'pyandj': 2252, 'zulhumor': 2253, 'die': 2254, 'specific': 2255, 'tiring': 2256, 'commerce': 2257, 'county': 2258, 'data': 2259, 'ddd': 2260, 'digital': 2261, 'divide': 2262, 'kenyatta': 2263, 'mathare': 2264, 'orphan': 2265, 'partial': 2266, 'exclude': 2267, 'hekima': 2268, 'kabunvu': 2269, 'ushindi': 2270, 'cinnamon': 2271, 'mahdi': 2272, 'enrrique': 2273, 'finalize': 2274, 'saadith': 2275, 'mariana': 2276, 'hailyn': 2277, 'joycee': 2278, 'committee': 2279, 'congregate': 2280, 'consist': 2281, 'emilce': 2282, 'worth': 2283, 'angel': 2284, 'colorados': 2285, 'don': 2286, 'humid': 2287, 'modest': 2288, 'settle': 2289, 'tsachila': 2290, 'amal': 2291, 'atirro': 2292, 'azucareras': 2293, 'bathe': 2294, 'conduct': 2295, 'fm': 2296, 'individual': 2297, 'marielos': 2298, 'mexico': 2299, 'milena': 2300, 'shirley': 2301, 'turrialba': 2302, 'jeneba': 2303, 'western': 2304, 'adim': 2305, 'bury': 2306, 'chamomile': 2307, 'digna': 2308, 'faith': 2309, 'following': 2310, 'grocery': 2311, 'guillermina': 2312, 'justa': 2313, 'marina': 2314, 'mini': 2315, 'nicolasa': 2316, 'shop': 2317, 'solidarity': 2318, 'sweet': 2319, 'tipitapa': 2320, 'tortillas': 2321, 'trisha': 2322, 'unidas': 2323, 'bakisa': 2324, 'davlyat': 2325, 'jilikul': 2326, 'adopt': 2327, 'busy': 2328, 'cookery': 2329, 'extended': 2330, 'grill': 2331, 'jui': 2332, 'lovetta': 2333, 'okay': 2334, 'spicy': 2335, 'dressmake': 2336, 'yvonne': 2337, 'jenifer': 2338, 'disinfect': 2339, 'hypo': 2340, 'marta': 2341, 'dieu': 2342, 'abischak': 2343, 'qualify': 2344, 'gelita': 2345, 'ginalyn': 2346, 'admirable': 2347, 'elegant': 2348, 'huge': 2349, 'identify': 2350, 'janeth': 2351, 'original': 2352, 'resilient': 2353, 'respected': 2354, 'treasure': 2355, 'demonstrate': 2356, 'nakorpo': 2357, 'order': 2358, 'tofu': 2359, 'vakpossito': 2360, 'administration': 2361, 'marcelo': 2362, 'sr': 2363, 'thearin': 2364, 'juma': 2365, 'kasese': 2366, 'eben': 2367, 'ezer': 2368, 'gislaine': 2369, 'ouanaminthe': 2370, 'adelina': 2371, 'chavarría': 2372, 'córdobas': 2373, 'doña': 2374, 'lucrecia': 2375, 'rosenberg': 2376, 'kagadi': 2377, 'paskari': 2378, 'eucalipto': 2379, 'jonathan': 2380, 'keylin': 2381, 'marlene': 2382, 'populous': 2383, 'challenge': 2384, 'masindi': 2385, 'bob': 2386, 'construct': 2387, 'kyenjojo': 2388, 'semi': 2389, 'bafut': 2390, 'cameroon': 2391, 'demand': 2392, 'ghape': 2393, 'mature': 2394, 'moderate': 2395, 'plough': 2396, 'region': 2397, 'adore': 2398, 'earth': 2399, 'kill': 2400, 'mix': 2401, 'uninterrupted': 2402, 'gulsana': 2403, 'color': 2404, 'design': 2405, 'elei': 2406, 'sevao': 2407, 'manzooran': 2408, 'milk': 2409, 'plait': 2410, 'maría': 2411, 'permit': 2412, 'cresencio': 2413, 'laguna': 2414, 'transformation': 2415, 'vivian': 2416, 'dismantle': 2417, 'moto': 2418, 'pull': 2419, 'riel': 2420, 'roman': 2421, 'sithol': 2422, 'elmina': 2423, 'ghana': 2424, 'procure': 2425, 'cayetano': 2426, 'elisa': 2427, 'laundry': 2428, 'mirian': 2429, 'stoplight': 2430, 'accommodate': 2431, 'khuroson': 2432, 'tahmina': 2433, 'vivacious': 2434, 'dhar': 2435, 'inr': 2436, 'kali': 2437, 'madhya': 2438, 'milaap': 2439, 'pradesh': 2440, 'prayas': 2441, 'eldama': 2442, 'occur': 2443, 'ravine': 2444, 'strike': 2445, 'winnie': 2446, 'clarita': 2447, 'saret': 2448, 'sret': 2449, 'substance': 2450, 'accountable': 2451, 'fair': 2452, 'motisha': 2453, 'muungano': 2454, 'gujarat': 2455, 'kutch': 2456, 'laxmiben': 2457, 'solange': 2458, 'chasquipampa': 2459, 'griselda': 2460, 'kinh': 2461, 'servant': 2462, 'xuan': 2463, 'concern': 2464, 'critical': 2465, 'quang': 2466, 'toàn': 2467, 'xuong': 2468, 'dilorom': 2469, 'shahrituz': 2470, 'boil': 2471, 'kompomg': 2472, 'sreynoun': 2473, 'benkadi': 2474, 'bla': 2475, 'danielle': 2476, 'djeneba': 2477, 'djigonso': 2478, 'segou': 2479, 'soukoulé': 2480, 'treharne': 2481, 'utilise': 2482, 'winter': 2483, 'yangasso': 2484, 'abandon': 2485, 'abandonar': 2486, 'alejada': 2487, 'alguna': 2488, 'animada': 2489, 'apaciguar': 2490, 'aperturando': 2491, 'aún': 2492, 'brindarle': 2493, 'calidad': 2494, 'cantidad': 2495, 'comercializarlos': 2496, 'comunidad': 2497, 'conformar': 2498, 'cultivan': 2499, 'cultivo': 2500, 'desafortunadamente': 2501, 'deseo': 2502, 'domicilio': 2503, 'elvira': 2504, 'enfrentar': 2505, 'estrecha': 2506, 'extiende': 2507, 'gran': 2508, 'harper': 2509, 'insatisfechas': 2510, 'instalarse': 2511, 'les': 2512, 'lugar': 2513, 'maco': 2514, 'manera': 2515, 'mantenido': 2516, 'mayores': 2517, 'maíz': 2518, 'mejor': 2519, 'nació': 2520, 'objetivo': 2521, 'observó': 2522, 'papa': 2523, 'posibilidades': 2524, 'querida': 2525, 'querido': 2526, 'relación': 2527, 'responsabilidad': 2528, 'superación': 2529, 'tanya': 2530, 'tarma': 2531, 'tenía': 2532, 'tierra': 2533, 'tierras': 2534, 'transportarlos': 2535, 'tuvo': 2536, 'unsatisfied': 2537, 'ímpetu': 2538, 'nelly': 2539, 'stuff': 2540, 'artisanal': 2541, 'revitalize': 2542, 'corporación': 2543, 'optimal': 2544, 'perfect': 2545, 'rusbel': 2546, 'slaughter': 2547, 'ashura': 2548, 'fellow': 2549, 'lishe': 2550, 'mama': 2551, 'bataya': 2552, 'veronica': 2553, 'marlyn': 2554, 'cev': 2555, 'dionisio': 2556, 'ngo': 2557, 'pacita': 2558, 'persistent': 2559, 'alma': 2560, 'initiate': 2561, 'kashf': 2562, 'ulfat': 2563, 'rosemarie': 2564, 'jacinter': 2565, 'nay': 2566, 'frequent': 2567, 'kenyenya': 2568, 'loyce': 2569, 'prolong': 2570, 'sotik': 2571, 'fertilize': 2572, 'gappal': 2573, 'marilou': 2574, 'net': 2575, 'roll': 2576, 'rolling': 2577, 'tired': 2578, 'akhter': 2579, 'faisalabad': 2580, 'malikpur': 2581, 'naseem': 2582, 'prove': 2583, 'amparo': 2584, 'quarry': 2585, 'stone': 2586, 'taramoni': 2587, 'agro': 2588, 'ayrum': 2589, 'seda': 2590, 'functional': 2591, 'pkr': 2592, 'shahida': 2593, 'wheeled': 2594, 'enalyn': 2595, 'fish': 2596, 'alalay': 2597, 'aski': 2598, 'ecija': 2599, 'galvanize': 2600, 'guimba': 2601, 'hygiene': 2602, 'kaunlaran': 2603, 'sa': 2604, 'sanitation': 2605, 'water': 2606, 'wilfredo': 2607, 'alta': 2608, 'andres': 2609, 'arnaldo': 2610, 'house': 2611, 'reodica': 2612, 'ronan': 2613, 'empresarias': 2614, 'futuro': 2615, 'llive': 2616, 'manta': 2617, 'palmar': 2618, 'unequaled': 2619, 'saifullo': 2620, 'shahriston': 2621, 'jeanette': 2622, 'administración': 2623, 'administrando': 2624, 'apoyo': 2625, 'artemio': 2626, 'así': 2627, 'atención': 2628, 'buena': 2629, 'cama': 2630, 'casado': 2631, 'casó': 2632, 'comedor': 2633, 'corte': 2634, 'cumplir': 2635, 'denís': 2636, 'desde': 2637, 'dispone': 2638, 'está': 2639, 'fecha': 2640, 'fin': 2641, 'formada': 2642, 'formado': 2643, 'formaron': 2644, 'había': 2645, 'hijo': 2646, 'importante': 2647, 'juego': 2648, 'juárez': 2649, 'le': 2650, 'madera': 2651, 'mueblerías': 2652, 'ofrece': 2653, 'pedidos': 2654, 'precios': 2655, 'provee': 2656, 'rocio': 2657, 'rolon': 2658, 'rolón': 2659, 'sandy': 2660, 'tallada': 2661, 'unidad': 2662, 'acceder': 2663, 'betty': 2664, 'bueno': 2665, 'califica': 2666, 'clase': 2667, 'client': 2668, 'cobros': 2669, 'comercial': 2670, 'cumplimiento': 2671, 'decir': 2672, 'destinado': 2673, 'diariamente': 2674, 'fijo': 2675, 'historial': 2676, 'ii': 2677, 'irpavi': 2678, 'obligación': 2679, 'pago': 2680, 'pedido': 2681, 'realiza': 2682, 'requested': 2683, 'segunda': 2684, 'será': 2685, 'solicitado': 2686, 'vende': 2687, 'zona': 2688, 'mfp': 2689, 'norma': 2690, 'woven': 2691, 'routine': 2692, 'walter': 2693, 'agustin': 2694, 'isingiro': 2695, 'matooke': 2696, 'rwakinono': 2697, 'rosalinda': 2698, 'vilma': 2699, 'jesusa': 2700, 'mutare': 2701, 'deep': 2702, 'leonora': 2703, 'violeta': 2704, 'measure': 2705, 'nurzina': 2706, 'anticipated': 2707, 'determine': 2708, 'deviben': 2709, 'credo': 2710, 'gel': 2711, 'liana': 2712, 'senaki': 2713, 'rene': 2714, 'tranquil': 2715, 'watch': 2716, 'narok': 2717, 'kenny': 2718, 'pharmaceutic': 2719, 'pisco': 2720, 'unable': 2721, 'benard': 2722, 'bernard': 2723, 'evans': 2724, 'kamagambo': 2725, 'dominate': 2726, 'dr': 2727, 'emigrate': 2728, 'intelectuales': 2729, 'intellectual': 2730, 'melida': 2731, 'ones': 2732, 'potable': 2733, 'representative': 2734, 'responsables': 2735, 'romana': 2736, 'apportion': 2737, 'isabela': 2738, 'mererani': 2739, 'charito': 2740, 'archana': 2741, 'bengal': 2742, 'burdwan': 2743, 'shakti': 2744, 'aparecida': 2745, 'bpcs': 2746, 'danon': 2747, 'laurentino': 2748, 'os': 2749, 'povo': 2750, 'renew': 2751, 'solidário': 2752, 'vencedores': 2753, 'welline': 2754, 'x': 2755, 'artesanal': 2756, 'atol': 2757, 'catherine': 2758, 'decorate': 2759, 'epo': 2760, 'madafu': 2761, 'visiga': 2762, 'hugo': 2763, 'nuevos': 2764, 'kahramon': 2765, 'clarin': 2766, 'malibangcao': 2767, 'miguela': 2768, 'mehwish': 2769, 'vigorous': 2770, 'damaris': 2771, 'dario': 2772, 'collateral': 2773, 'contagious': 2774, 'knowledgeable': 2775, 'limit': 2776, 'lush': 2777, 'rift': 2778, 'smile': 2779, 'valley': 2780, 'cantaloupe': 2781, 'zaripahan': 2782, 'armed': 2783, 'janes': 2784, 'fall': 2785, 'ill': 2786, 'rosalba': 2787, 'milagro': 2788, 'unconditional': 2789, 'helped': 2790, 'zhamiila': 2791, 'frozen': 2792, 'selai': 2793, 'interact': 2794, 'lydia': 2795, 'epifania': 2796, 'tuba': 2797, 'angela': 2798, 'imf': 2799, 'madam': 2800, 'paternal': 2801, 'victoire': 2802, 'load': 2803, 'prepaid': 2804, 'kerugoya': 2805, 'maximum': 2806, 'evangeline': 2807, 'mamerto': 2808, 'pula': 2809, 'talavera': 2810, 'chyngyz': 2811, 'elderly': 2812, 'kyrgyz': 2813, 'yield': 2814, 'battambong': 2815, 'credit': 2816, 'dam': 2817, 'sixth': 2818, 'wao': 2819, 'door': 2820, 'precarious': 2821, 'tokoin': 2822, 'pearl': 2823, 'rosary': 2824, 'submit': 2825, 'tedious': 2826, 'process': 2827, 'robinson': 2828, 'tuchin': 2829, 'jenelyn': 2830, 'janice': 2831, 'canned': 2832, 'katherine': 2833, 'antsirabe': 2834, 'perles': 2835, 'co': 2836, 'hue': 2837, 'huong': 2838, 'loa': 2839, 'vietnamese': 2840, 'vnd': 2841, 'xom': 2842, 'gulzat': 2843, 'erma': 2844, 'timely': 2845, 'christopher': 2846, 'deteriorate': 2847, 'knutson': 2848, 'maricruz': 2849, 'seep': 2850, 'waterproof': 2851, 'worried': 2852, 'recruit': 2853, 'bara': 2854, 'insure': 2855, 'tulkarm': 2856, 'adriana': 2857, 'tough': 2858, 'typical': 2859, 'davaadonid': 2860, 'enhtuya': 2861, 'lhagvadolgor': 2862, 'lunar': 2863, 'tserendonid': 2864, 'uvurhangai': 2865, 'year': 2866, 'address': 2867, 'agoè': 2868, 'kohé': 2869, 'hydraulic': 2870, 'adjowa': 2871, 'ayi': 2872, 'kwassi': 2873, 'refurbish': 2874, 'cong': 2875, 'hợp': 2876, 'nong': 2877, 'dressed': 2878, 'rowena': 2879, 'bello': 2880, 'chandja': 2881, 'slow': 2882, 'green': 2883, 'hla': 2884, 'htay': 2885, 'magway': 2886, 'phyu': 2887, 't': 2888, 'thidar': 2889, 'township': 2890, 'yin': 2891, 'comment': 2892, 'distinguish': 2893, 'santaní': 2894, 'chicken': 2895, 'harare': 2896, 'margret': 2897, 'mold': 2898, 'source': 2899, 'spot': 2900, 'thrive': 2901, 'track': 2902, 'adeline': 2903, 'mxn': 2904, 'zaira': 2905, 'fight': 2906, 'protus': 2907, 'milagros': 2908, 'bebiana': 2909, 'bandung': 2910, 'cheerful': 2911, 'deposit': 2912, 'east': 2913, 'endless': 2914, 'informative': 2915, 'jakarta': 2916, 'layaway': 2917, 'list': 2918, 'mapan': 2919, 'ruma': 2920, 'sms': 2921, 'suburban': 2922, 'trusted': 2923, 'yayan': 2924, 'kosal': 2925, 'ibdaa': 2926, 'loyal': 2927, 'mahmoud': 2928, 'mount': 2929, 'palestinian': 2930, 'uncomfortable': 2931, 'sokhom': 2932, 'pheap': 2933, 'miora': 2934, 'caring': 2935, 'diab': 2936, 'majmoua': 2937, 'speedy': 2938, 'syrian': 2939, 'abajyamugambi': 2940, 'acb': 2941, 'anastase': 2942, 'kmg': 2943, 'baco': 2944, 'drc': 2945, 'faraje': 2946, 'germaine': 2947, 'lubumbashi': 2948, 'unite': 2949, 'blanca': 2950, 'complain': 2951, 'eat': 2952, 'm': 2953, 'shaurimoyo': 2954, 'warigia': 2955, 'lucia': 2956, 'replenish': 2957, 'bloom': 2958, 'tomas': 2959, 'touch': 2960, 'sonia': 2961, 'barbara': 2962, 'frontera': 2963, 'gladis': 2964, 'dankwaire': 2965, 'jamima': 2966, 'rejean': 2967, 'nurhayati': 2968, 'layane': 2969, 'begam': 2970, 'mental': 2971, 'suriya': 2972, 'félicien': 2973, 'pélagie': 2974, 'restock': 2975, 'aggro': 2976, 'henry': 2977, 'leonida': 2978, 'akyikie': 2979, 'benkyadze': 2980, 'amadeo': 2981, 'covered': 2982, 'lucila': 2983, 'manos': 2984, 'repeto': 2985, 'yessika': 2986, 'tala': 2987, 'tusiga': 2988, 'alkasim': 2989, 'fatmata': 2990, 'makalie': 2991, 'mariama': 2992, 'saudatu': 2993, 'tanut': 2994, 'amelia': 2995, 'barranca': 2996, 'development': 2997, 'housing': 2998, 'santiago': 2999, 'sebastian': 3000, 'native': 3001, 'suka': 3002, 'ceprodel': 3003, 'point': 3004, 'sequerira': 3005, 'worthy': 3006, 'agelopolis': 3007, 'alba': 3008, 'mistica': 3009, 'jasinah': 3010, 'kopsyah': 3011, 'bunthorn': 3012, 'argao': 3013, 'barangay': 3014, 'bog': 3015, 'celsa': 3016, 'ot': 3017, 'andahuaylillas': 3018, 'enroll': 3019, 'insert': 3020, 'munay': 3021, 'nacional': 3022, 'pre': 3023, 'soncco': 3024, 'universidad': 3025, 'wanchaq': 3026, 'appropriate': 3027, 'barranquilla': 3028, 'cordialidad': 3029, 'sancochos': 3030, 'stiff': 3031, 'kaliypa': 3032, 'talas': 3033, 'revolving': 3034, 'whiten': 3035, 'bespoke': 3036, 'lean': 3037, 'manabi': 3038, 'quick': 3039, 'tagua': 3040, 'anyango': 3041, 'busia': 3042, 'cheap': 3043, 'lwanyange': 3044, 'malanga': 3045, 'met': 3046, 'millicent': 3047, 'owe': 3048, 'risky': 3049, 'berdyansk': 3050, 'photograph': 3051, 'svetlana': 3052, 'heourn': 3053, 'korng': 3054, 'ourk': 3055, 'jod': 3056, 'microfund': 3057, 'najwa': 3058, 'josefina': 3059, 'delia': 3060, 'ruben': 3061, 'ampliarlo': 3062, 'mejorar': 3063, 'morena': 3064, 'baybay': 3065, 'cevi': 3066, 'neneth': 3067, 'temporary': 3068, 'dama': 3069, 'nice': 3070, 'trustworthy': 3071, 'widowed': 3072, 'alicia': 3073, 'karen': 3074, 'odef': 3075, 'yoro': 3076, 'melodia': 3077, 'acahay': 3078, 'baez': 3079, 'collaborate': 3080, 'costa': 3081, 'maximino': 3082, 'paraguarí': 3083, 'paraguaya': 3084, 'ramírez': 3085, 'farika': 3086, 'agradecerán': 3087, 'ahorró': 3088, 'albañil': 3089, 'calor': 3090, 'casada': 3091, 'cerámica': 3092, 'comprar': 3093, 'compromete': 3094, 'conseguido': 3095, 'continuar': 3096, 'devolver': 3097, 'empleará': 3098, 'ganancias': 3099, 'greenstein': 3100, 'hija': 3101, 'hogar': 3102, 'incorpora': 3103, 'incrementado': 3104, 'inició': 3105, 'marty': 3106, 'mercancía': 3107, 'mercería': 3108, 'necesidad': 3109, 'podrá': 3110, 'productos': 3111, 'propio': 3112, 'razón': 3113, 'sólo': 3114, 'te': 3115, 'temporadas': 3116, 'tiempo': 3117, 'tu': 3118, 'vender': 3119, 'vida': 3120, 'warm': 3121, 'últimamente': 3122, 'lalatiana': 3123, 'pipeline': 3124, 'caretaker': 3125, 'hwefo': 3126, 'ne': 3127, 'unpolished': 3128, 'ye': 3129, 'yehowa': 3130, 'zinabu': 3131, 'centro': 3132, 'mallig': 3133, 'merlita': 3134, 'northeastern': 3135, 'kiyinda': 3136, 'mityana': 3137, 'sophia': 3138, 'ahmed': 3139, 'khan': 3140, 'palestine': 3141, 'purify': 3142, 'strip': 3143, 'usable': 3144, 'younis': 3145, 'mar': 3146, 'melyn': 3147, 'gina': 3148, 'rodita': 3149, 'adult': 3150, 'children': 3151, 'cups': 3152, 'invisible': 3153, 'kabale': 3154, 'millet': 3155, 'saucepans': 3156, 'southwestern': 3157, 'uganga': 3158, 'kireka': 3159, 'sep': 3160, 'nurgis': 3161, 'zahida': 3162, 'act': 3163, 'angaza': 3164, 'kakamega': 3165, 'sorghum': 3166, 'friends': 3167, 'medellín': 3168, 'miscellaneous': 3169, 'talented': 3170, 'hamadoni': 3171, 'khusain': 3172, 'minimize': 3173, 'emprendedoras': 3174, 'clever': 3175, 'shamsy': 3176, 'sincere': 3177, 'darwin': 3178, 'fungai': 3179, 'mt': 3180, 'decent': 3181, 'murabaha': 3182, 'pack': 3183, 'shameem': 3184, 'final': 3185, 'hala': 3186, 'elena': 3187, 'adquirieron': 3188, 'adquirir': 3189, 'agricultura': 3190, 'ahora': 3191, 'algunos': 3192, 'atrás': 3193, 'ayudar': 3194, 'bebidas': 3195, 'britos': 3196, 'busca': 3197, 'consumo': 3198, 'cuidar': 3199, 'cultivaban': 3200, 'decidieron': 3201, 'dedicaban': 3202, 'despensa': 3203, 'e': 3204, 'edith': 3205, 'enlatados': 3206, 'escuela': 3207, 'incorporar': 3208, 'incorporate': 3209, 'invertirá': 3210, 'leche': 3211, 'lejano': 3212, 'marcha': 3213, 'marido': 3214, 'mejores': 3215, 'mercaderías': 3216, 'montó': 3217, 'mucho': 3218, 'oportunidade': 3219, 'pan': 3220, 'pequeños': 3221, 'poseen': 3222, 'primera': 3223, 'pudieron': 3224, 'pueblo': 3225, 'salsa': 3226, 'sardinas': 3227, 'solicitados': 3228, 'solo': 3229, 'tomates': 3230, 'tras': 3231, 'tres': 3232, 'unos': 3233, 'hafizabad': 3234, 'parveen': 3235, 'rehana': 3236, 'accomplished': 3237, 'accumulate': 3238, 'channel': 3239, 'handsome': 3240, 'regard': 3241, 'technical': 3242, 'nindiri': 3243, 'yessinia': 3244, 'lilian': 3245, 'alishba': 3246, 'relevant': 3247, 'rebecca': 3248, 'render': 3249, 'annual': 3250, 'jesika': 3251, 'mangu': 3252, 'press': 3253, 'thresh': 3254, 'threshing': 3255, 'creditworthy': 3256, 'customs': 3257, 'fatuma': 3258, 'lease': 3259, 'leasing': 3260, 'practical': 3261, 'selfina': 3262, 'tangible': 3263, 'term': 3264, 'aires': 3265, 'buenos': 3266, 'calm': 3267, 'gabriel': 3268, 'fortunate': 3269, 'kibera': 3270, 'renown': 3271, 'easter': 3272, 'samatha': 3273, 'qui': 3274, 'lilina': 3275, 'floyra': 3276, 'forge': 3277, 'interesting': 3278, 'invite': 3279, 'microcredit': 3280, 'pancus': 3281, 'plus': 3282, 'president': 3283, 'quiche': 3284, 'salud': 3285, 'tremendous': 3286, 'understand': 3287, 'carreiro': 3288, 'koulossama': 3289, 'nènèsso': 3290, 'chinsali': 3291, 'chisha': 3292, 'educator': 3293, 'peer': 3294, 'criselda': 3295, 'patient': 3296, 'jenalyn': 3297, 'bomet': 3298, 'jackline': 3299, 'layvah': 3300, 'nimba': 3301, 'sanniquelle': 3302, 'unmarried': 3303, 'wfp': 3304, 'debit': 3305, 'mira': 3306, 'transfer': 3307, 'edras': 3308, 'fame': 3309, 'ninth': 3310, 'maykol': 3311, 'farida': 3312, 'bo': 3313, 'kandeh': 3314, 'southern': 3315, 'alcohol': 3316, 'area': 3317, 'bay': 3318, 'defy': 3319, 'entrepreneurial': 3320, 'hayward': 3321, 'incarcerate': 3322, 'paul': 3323, 'release': 3324, 'sober': 3325, 'society': 3326, 'texas': 3327, 'transitional': 3328, 'ventures': 3329, 'vincent': 3330, 'elsie': 3331, 'emely': 3332, 'entrust': 3333, 'tinio': 3334, 'forget': 3335, 'indian': 3336, 'magongo': 3337, 'ocean': 3338, 'chat': 3339, 'convince': 3340, 'grobar': 3341, 'juliaca': 3342, 'lisa': 3343, 'neighbor': 3344, 'pervuvian': 3345, 'sixta': 3346, 'stuffed': 3347, 'symon': 3348, 'nelfe': 3349, 'wake': 3350, 'contact': 3351, 'inflate': 3352, 'ave': 3353, 'faanimo': 3354, 'appeal': 3355, 'coungo': 3356, 'dioïla': 3357, 'dossouma': 3358, 'falako': 3359, 'illiterate': 3360, 'itinerant': 3361, 'kamissa': 3362, 'koulikoro': 3363, 'marka': 3364, 'reinjecte': 3365, 'secondhand': 3366, 'tiessiri': 3367, 'kale': 3368, 'kilifi': 3369, 'faithful': 3370, 'mohira': 3371, 'sociable': 3372, 'hedrzanawoé': 3373, 'outlying': 3374, 'phoenix': 3375, 'amazing': 3376, 'bodhi': 3377, 'canadian': 3378, 'expose': 3379, 'hear': 3380, 'incredible': 3381, 'phenomenal': 3382, 'proficient': 3383, 'schooled': 3384, 'talk': 3385, 'irbid': 3386, 'mechanical': 3387, 'moamen': 3388, 'corazon': 3389, 'lydiah': 3390, 'stephen': 3391, 'juanita': 3392, 'kavenge': 3393, 'nora': 3394, 'khoeurn': 3395, 'kor': 3396, 'phal': 3397, 'phoa': 3398, 'clams': 3399, 'clemente': 3400, 'disposable': 3401, 'elida': 3402, 'elisabeth': 3403, 'inexpensive': 3404, 'infect': 3405, 'shrimp': 3406, 'sick': 3407, 'narcisa': 3408, 'amada': 3409, 'trinidad': 3410, 'connie': 3411, 'monrovia': 3412, 'salome': 3413, 'jesus': 3414, 'audu': 3415, 'bauchi': 3416, 'bountiful': 3417, 'robert': 3418, 'venture': 3419, 'hòa': 3420, 'mitigate': 3421, 'bearable': 3422, 'disabled': 3423, 'energy': 3424, 'quit': 3425, 'states': 3426, 'suggest': 3427, 'unbearable': 3428, 'veteran': 3429, 'emma': 3430, 'jonah': 3431, 'odilia': 3432, 'ambrose': 3433, 'constrain': 3434, 'metallic': 3435, 'flora': 3436, 'tubigon': 3437, 'caballero': 3438, 'estigarribia': 3439, 'eulogio': 3440, 'juana': 3441, 'middle': 3442, 'pastoreo': 3443, 'velásquez': 3444, 'european': 3445, 'june': 3446, 'retired': 3447, 'sawsan': 3448, 'lorena': 3449, 'mercedes': 3450, 'edaprospo': 3451, 'huánuco': 3452, 'lima': 3453, 'marcelino': 3454, 'omnilife': 3455, 'pando': 3456, 'claire': 3457, 'ingoboka': 3458, 'rapid': 3459, 'coca': 3460, 'cola': 3461, 'fanta': 3462, 'matias': 3463, 'sagiko': 3464, 'sylvia': 3465, 'amazed': 3466, 'bottled': 3467, 'convey': 3468, 'noticeable': 3469, 'spiritual': 3470, 'bamako': 3471, 'bintou': 3472, 'kotognogotala': 3473, 'reinveste': 3474, 'relate': 3475, 'relative': 3476, 'talo': 3477, 'youssef': 3478, 'hazel': 3479, 'sta': 3480, 'tangub': 3481, 'marites': 3482, 'analise': 3483, 'arroyo': 3484, 'arsenio': 3485, 'barrio': 3486, 'caceres': 3487, 'clientes': 3488, 'compran': 3489, 'constantemente': 3490, 'credito': 3491, 'dia': 3492, 'gs': 3493, 'hoy': 3494, 'independiente': 3495, 'mantener': 3496, 'mercaderia': 3497, 'mercaderias': 3498, 'monto': 3499, 'podido': 3500, 'pora': 3501, 'posee': 3502, 'prendas': 3503, 'propia': 3504, 'situada': 3505, 'solicitando': 3506, 'vestir': 3507, 'viven': 3508, 'vivienda': 3509, 'sandra': 3510, 'rosaaline': 3511, 'ghetlova': 3512, 'iurie': 3513, 'orhei': 3514, 'industrious': 3515, 'extraordinary': 3516, 'hide': 3517, 'madinai': 3518, 'strict': 3519, 'angwan': 3520, 'sarajo': 3521, 'tsoho': 3522, 'lenders': 3523, 'umyati': 3524, 'ty': 3525, 'antonio': 3526, 'cindy': 3527, 'eddy': 3528, 'kendall': 3529, 'mercando': 3530, 'remodel': 3531, 'wrought': 3532, 'lugari': 3533, 'cheang': 3534, 'rice': 3535, 'tbaung': 3536, 'kimilili': 3537, 'kelly': 3538, 'supia': 3539, 'commission': 3540, 'melita': 3541, 'eliazabeth': 3542, 'ayuba': 3543, 'danjuma': 3544, 'dilute': 3545, 'express': 3546, 'external': 3547, 'last': 3548, 'murtala': 3549, 'subject': 3550, 'umaru': 3551, 'bend': 3552, 'edisa': 3553, 'kayunga': 3554, 'oversee': 3555, 'tenacious': 3556, 'jema': 3557, 'destitute': 3558, 'extreme': 3559, 'forum': 3560, 'generous': 3561, 'hearted': 3562, 'inconsistent': 3563, 'jharsuguda': 3564, 'malli': 3565, 'people': 3566, 'jenefer': 3567, 'laarni': 3568, 'ukay': 3569, 'ludina': 3570, 'lyda': 3571, 'angostura': 3572, 'balance': 3573, 'canchon': 3574, 'comply': 3575, 'jerónimo': 3576, 'maldonado': 3577, 'merchlewitz': 3578, 'pledge': 3579, 'puerto': 3580, 'purificada': 3581, 'vino': 3582, 'virgen': 3583, 'khachmaz': 3584, 'osman': 3585, 'lilibeth': 3586, 'nguyệt': 3587, 'salvador': 3588, 'grace': 3589, 'anita': 3590, 'blessings': 3591, 'cultural': 3592, 'foya': 3593, 'kolahu': 3594, 'lofa': 3595, 'mbowolee': 3596, 'mother': 3597, 'unnecessary': 3598, 'flordeliz': 3599, 'kitongore': 3600, 'turibamwe': 3601, 'bibingka': 3602, 'caramelize': 3603, 'evaporate': 3604, 'steam': 3605, 'lý': 3606, 'eni': 3607, 'spbd': 3608, 'usd': 3609, 'basilisa': 3610, 'jaime': 3611, 'mondays': 3612, 'prospser': 3613, 'tuesdays': 3614, 'asegurada': 3615, 'enirsa': 3616, 'ensured': 3617, 'impoverished': 3618, 'macorís': 3619, 'cruz': 3620, 'sarahi': 3621, 'margarette': 3622, 'maurice': 3623, 'amandikou': 3624, 'gnemassan': 3625, 'mae': 3626, 'shiela': 3627, 'works': 3628, 'joven': 3629, 'amina': 3630, 'recoup': 3631, 'argentina': 3632, 'fundacion': 3633, 'isidro': 3634, 'ita': 3635, 'minor': 3636, 'oculto': 3637, 'valle': 3638, 'mtazamo': 3639, 'yusufu': 3640, 'tajik': 3641, 'ziyodullo': 3642, 'lily': 3643, 'joanne': 3644, 'maningcol': 3645, 'maïmouna': 3646, 'bogigul': 3647, 'cornière': 3648, 'significant': 3649, 'situate': 3650, 'uimcec': 3651, 'communicative': 3652, 'hospitable': 3653, 'muharram': 3654, 'callería': 3655, 'forever': 3656, 'ucayali': 3657, 'wilkie': 3658, 'fashionable': 3659, 'fatima': 3660, 'youth': 3661, 'alberta': 3662, 'mwiza': 3663, 'agroindustrial': 3664, 'chile': 3665, 'colina': 3666, 'fast': 3667, 'fondo': 3668, 'lampa': 3669, 'metropolitan': 3670, 'pet': 3671, 'piedra': 3672, 'purple': 3673, 'roja': 3674, 'seat': 3675, 'beirut': 3676, 'europe': 3677, 'flavor': 3678, 'mohamad': 3679, 'mouhamad': 3680, 'narguileh': 3681, 'strategic': 3682, 'tall': 3683, 'ham': 3684, 'mirasol': 3685, 'sweeten': 3686, 'continuous': 3687, 'director': 3688, 'sintia': 3689, 'withdraw': 3690, 'gulafzo': 3691, 'isfara': 3692, 'lumumba': 3693, 'renatus': 3694, 'tupambane': 3695, 'activas': 3696, 'advertise': 3697, 'existent': 3698, 'smear': 3699, 'solola': 3700, 'ng': 3701, 'nogaye': 3702, 'rosenie': 3703, 'salma': 3704, 'fredeswinda': 3705, 'solina': 3706, 'brave': 3707, 'fine': 3708, 'observe': 3709, 'rhe': 3710, 'cameroonian': 3711, 'marcel': 3712, 'raijeli': 3713, 'afraid': 3714, 'mariafe': 3715, 'negotiate': 3716, 'wet': 3717, 'maqsood': 3718, 'sialkot': 3719, 'vocational': 3720, 'leonean': 3721, 'leones': 3722, 'ms': 3723, 'reasonable': 3724, 'retain': 3725, 'sadia': 3726, 'irine': 3727, 'kamasian': 3728, 'royal': 3729, 'chivay': 3730, 'chicha': 3731, 'chinchero': 3732, 'persevere': 3733, 'qoyllority': 3734, 'rufina': 3735, 'working': 3736, 'anna': 3737, 'baobab': 3738, 'des': 3739, 'epouses': 3740, 'shampoo': 3741, 'yokouté': 3742, 'hermila': 3743, 'knock': 3744, 'aglipay': 3745, 'carmelita': 3746, 'fruitful': 3747, 'leonardo': 3748, 'quirino': 3749, 'jaen': 3750, 'pucara': 3751, 'bush': 3752, 'filifiliga': 3753, 'cabisera': 3754, 'emmaculada': 3755, 'empty': 3756, 'ilagan': 3757, 'jerivic': 3758, 'longganisa': 3759, 'surrender': 3760, 'ephrance': 3761, 'justine': 3762, 'mayimuna': 3763, 'nulu': 3764, 'higueron': 3765, 'higuerón': 3766, 'outstanding': 3767, 'associate': 3768, 'endow': 3769, 'libereta': 3770, 'oppose': 3771, 'adidogomé': 3772, 'costume': 3773, 'dole': 3774, 'doris': 3775, 'climatic': 3776, 'kamwenge': 3777, 'muhamad': 3778, 'dorita': 3779, 'ibrahim': 3780, 'rabiu': 3781, 'erica': 3782, 'shamim': 3783, 'bitter': 3784, 'deprive': 3785, 'rosita': 3786, 'congolese': 3787, 'lock': 3788, 'rehema': 3789, 'stage': 3790, 'alonso': 3791, 'ernesto': 3792, 'gaby': 3793, 'kindergarten': 3794, 'michoacan': 3795, 'mujica': 3796, 'purua': 3797, 'thermal': 3798, 'angelique': 3799, 'wanjiku': 3800, 'plaridel': 3801, 'reian': 3802, 'cerone': 3803, 'guayaquil': 3804, 'jacinta': 3805, 'perimetral': 3806, 'readjust': 3807, 'samantha': 3808, 'stationary': 3809, 'gulzhamal': 3810, 'antonia': 3811, 'irrigate': 3812, 'ard': 3813, 'bintu': 3814, 'bumpeh': 3815, 'derlin': 3816, 'medina': 3817, 'poblacion': 3818, 'abigail': 3819, 'bortianor': 3820, 'dansoman': 3821, 'ghs': 3822, 'id': 3823, 'susana': 3824, 'carne': 3825, 'kwon': 3826, 'laure': 3827, 'modesto': 3828, 'nicaraguan': 3829, 'nintendo': 3830, 'palma': 3831, 'plancha': 3832, 'seafood': 3833, 'soup': 3834, 'supervise': 3835, 'sothea': 3836, 'dead': 3837, 'zuhair': 3838, 'aura': 3839, 'campo': 3840, 'discover': 3841, 'execute': 3842, 'feels': 3843, 'singular': 3844, 'karokarungi': 3845, 'prolonged': 3846, 'tukole': 3847, 'jorge': 3848, 'ado': 3849, 'discount': 3850, 'forfeit': 3851, 'holistic': 3852, 'kaduna': 3853, 'elvera': 3854, 'everyday': 3855, 'obed': 3856, 'pasay': 3857, 'yolanda': 3858, 'anne': 3859, 'dear': 3860, 'meaningful': 3861, 'hazardous': 3862, 'iraq': 3863, 'odette': 3864, 'marmy': 3865, 'kithimu': 3866, 'defeat': 3867, 'flor': 3868, 'jukyry': 3869, 'quispicanchis': 3870, 'triunfadoras': 3871, 'georgian': 3872, 'kharagauli': 3873, 'lari': 3874, 'moliti': 3875, 'tengiz': 3876, 'developed': 3877, 'grigol': 3878, 'intelligent': 3879, 'nona': 3880, 'robakidze': 3881, 'tbilisi': 3882, 'meng': 3883, 'pailin': 3884, 'akim': 3885, 'asuom': 3886, 'elias': 3887, 'infrastructural': 3888, 'kwaebibirem': 3889, 'senior': 3890, 'randa': 3891, 'kanda': 3892, 'sellers': 3893, 'dollars': 3894, 'muhtor': 3895, 'somoni': 3896, 'marilyn': 3897, 'rukmini': 3898, 'pacifique': 3899, 'dinah': 3900, 'elite': 3901, 'host': 3902, 'inject': 3903, 'nandihills': 3904, 'associated': 3905, 'gandhinagar': 3906, 'hetalba': 3907, 'covid': 3908, 'roselina': 3909, 'mawussimé': 3910, 'sanguéra': 3911, 'chronic': 3912, 'concerned': 3913, 'degenerative': 3914, 'gerardo': 3915, 'surgical': 3916, 'loves': 3917, 'meru': 3918, 'passionate': 3919, 'orient': 3920, 'haiyan': 3921, 'hit': 3922, 'carmela': 3923, 'agave': 3924, 'ndelila': 3925, 'credicampo': 3926, 'petronila': 3927, 'chantrea': 3928, 'julieta': 3929, 'burigul': 3930, 'cowshe': 3931, 'firm': 3932, 'donezza': 3933, 'fried': 3934, 'potential': 3935, 'ameto': 3936, 'marietta': 3937, 'charming': 3938, 'exquisite': 3939, 'legal': 3940, 'prosper': 3941, 'showcase': 3942, 'lempira': 3943, 'lempiras': 3944, 'licida': 3945, 'demetria': 3946, 'eduvina': 3947, 'enmanuel': 3948, 'miriam': 3949, 'mongalo': 3950, 'requisite': 3951, 'rubio': 3952, 'upstande': 3953, 'zone': 3954, 'josue': 3955, 'noemi': 3956, 'novia': 3957, 'pibil': 3958, 'tacos': 3959, 'chroeb': 3960, 'advisor': 3961, 'casual': 3962, 'cozy': 3963, 'fabulous': 3964, 'father': 3965, 'jail': 3966, 'ngara': 3967, 'prompt': 3968, 'search': 3969, 'theology': 3970, 'tutorial': 3971, 'kongowea': 3972, 'zuma': 3973, 'adriano': 3974, 'carles': 3975, 'accion': 3976, 'casiano': 3977, 'collective': 3978, 'consolidated': 3979, 'file': 3980, 'fray': 3981, 'gianniana': 3982, 'giannina': 3983, 'instituto': 3984, 'karol': 3985, 'mixto': 3986, 'puntarenas': 3987, 'validate': 3988, 'combat': 3989, 'magic': 3990, 'vihiga': 3991, 'retchelle': 3992, 'hawa': 3993, 'mwanza': 3994, 'monetary': 3995, 'readymade': 3996, 'ben': 3997, 'stocked': 3998, 'nazaria': 3999, 'clara': 4000, 'replicas': 4001, 'ahi': 4002, 'aporta': 4003, 'ayudante': 4004, 'blusas': 4005, 'bordado': 4006, 'clouds': 4007, 'esa': 4008, 'fisico': 4009, 'forma': 4010, 'incrementar': 4011, 'jennifer': 4012, 'lleva': 4013, 'nubes': 4014, 'tela': 4015, 'cecille': 4016, 'liza': 4017, 'zharkynai': 4018, 'tarciana': 4019, 'bambilor': 4020, 'january': 4021, 'mouris': 4022, 'néné': 4023, 'u': 4024, 'anyas': 4025, 'check': 4026, 'lewa': 4027, 'nareto': 4028, 'ntalabany': 4029, 'wildlife': 4030, 'fluctuate': 4031, 'minimal': 4032, 'underprivileged': 4033, 'focused': 4034, 'kenyans': 4035, 'daniel': 4036, 'ntungamo': 4037, 'spray': 4038, 'beedoe': 4039, 'rachel': 4040, 'xejuyup': 4041, 'baabda': 4042, 'smart': 4043, 'trifonia': 4044, 'engaged': 4045, 'ninfa': 4046, 'van': 4047, 'schedule': 4048, 'sepoima': 4049, 'lourdes': 4050, 'franas': 4051, 'luyao': 4052, 'roy': 4053, 'multan': 4054, 'ongoing': 4055, 'punjab': 4056, 'sumaira': 4057, 'haja': 4058, 'hills': 4059, 'elaborate': 4060, 'gynerium': 4061, 'handcrafted': 4062, 'sagittatum': 4063, 'wild': 4064, 'timothy': 4065, 'henrikh': 4066, 'karan': 4067, 'ofelya': 4068, 'register': 4069, 'syunik': 4070, 'win': 4071, 'china': 4072, 'computerized': 4073, 'idle': 4074, 'manija': 4075, 'kurtis': 4076, 'emerita': 4077, 'mcarthur': 4078, 'pesos': 4079, 'abubakar': 4080, 'microhub': 4081, 'nokukhanya': 4082, 'apani': 4083, 'jaipur': 4084, 'rajasthan': 4085, 'sahkari': 4086, 'samiti': 4087, 'santra': 4088, 'gladys': 4089, 'yendry': 4090, 'tem': 4091, 'veng': 4092}\n"
     ]
    }
   ],
   "source": [
    "print(dictionary.token2id)"
   ]
  },
  {
   "cell_type": "code",
   "execution_count": 33,
   "id": "37d52e03",
   "metadata": {},
   "outputs": [],
   "source": [
    "dictionary.filter_extremes(no_below=5, no_above=0.5, keep_n=1000)"
   ]
  },
  {
   "cell_type": "code",
   "execution_count": 35,
   "id": "8deea319",
   "metadata": {},
   "outputs": [],
   "source": [
    "corpus = [dictionary.doc2bow(doc) for doc in loandfs['tokens']]"
   ]
  },
  {
   "cell_type": "code",
   "execution_count": 36,
   "id": "2a5e12ba",
   "metadata": {},
   "outputs": [],
   "source": [
    "lda_model = LdaMulticore(corpus=corpus, id2word=dictionary, iterations=50, num_topics=10, workers = 4, passes=10)"
   ]
  },
  {
   "cell_type": "code",
   "execution_count": 37,
   "id": "a5e8a8b3",
   "metadata": {},
   "outputs": [
    {
     "data": {
      "image/png": "[encoded data removed]",
      "text/plain": [
       "<Figure size 640x480 with 1 Axes>"
      ]
     },
     "metadata": {},
     "output_type": "display_data"
    }
   ],
   "source": [
    "topics = []\n",
    "score = []\n",
    "for i in range(1,20,1):\n",
    "   lda_model = LdaMulticore(corpus=corpus, id2word=dictionary, iterations=10, num_topics=i, workers = 4, passes=10, random_state=100)\n",
    "   cm = CoherenceModel(model=lda_model, corpus=corpus, dictionary=dictionary, coherence='u_mass')\n",
    "   topics.append(i)\n",
    "   score.append(cm.get_coherence())\n",
    "_=plt.plot(topics, score)\n",
    "_=plt.xlabel('Number of Topics')\n",
    "_=plt.ylabel('Coherence Score')\n",
    "plt.show()"
   ]
  },
  {
   "cell_type": "code",
   "execution_count": 38,
   "id": "7aaca9a0",
   "metadata": {},
   "outputs": [
    {
     "data": {
      "image/png": "[encoded data removed]",
      "text/plain": [
       "<Figure size 640x480 with 1 Axes>"
      ]
     },
     "metadata": {},
     "output_type": "display_data"
    }
   ],
   "source": [
    "topics = []\n",
    "score = []\n",
    "for i in range(1,20,1):\n",
    "   lda_model = LdaMulticore(corpus=corpus, id2word=dictionary, iterations=10, num_topics=i, workers = 4, passes=10, random_state=100)\n",
    "   cm = CoherenceModel(model=lda_model, texts = loandfs['tokens'], corpus=corpus, dictionary=dictionary, coherence='c_v')\n",
    "   topics.append(i)\n",
    "   score.append(cm.get_coherence())\n",
    "_=plt.plot(topics, score)\n",
    "_=plt.xlabel('Number of Topics')\n",
    "_=plt.ylabel('Coherence Score')\n",
    "plt.show()"
   ]
  },
  {
   "cell_type": "code",
   "execution_count": 39,
   "id": "ecf91011",
   "metadata": {},
   "outputs": [],
   "source": [
    "lda_model = LdaMulticore(corpus=corpus, id2word=dictionary, iterations=100, num_topics=5, workers = 4, passes=100)"
   ]
  },
  {
   "cell_type": "code",
   "execution_count": 40,
   "id": "0b5a1459",
   "metadata": {},
   "outputs": [
    {
     "data": {
      "text/plain": [
       "[(0,\n",
       "  '0.046*\"philippines\" + 0.045*\"php\" + 0.045*\"request\" + 0.040*\"save\" + 0.038*\"sell\" + 0.033*\"like\" + 0.028*\"de\" + 0.026*\"general\" + 0.025*\"run\" + 0.025*\"provide\"'),\n",
       " (1,\n",
       "  '0.029*\"join\" + 0.023*\"improve\" + 0.023*\"purchase\" + 0.022*\"able\" + 0.021*\"use\" + 0.020*\"kiva\" + 0.020*\"fund\" + 0.017*\"solar\" + 0.016*\"want\" + 0.016*\"acre\"'),\n",
       " (2,\n",
       "  '0.039*\"sell\" + 0.037*\"work\" + 0.028*\"live\" + 0.022*\"help\" + 0.020*\"kiva\" + 0.018*\"want\" + 0.017*\"request\" + 0.016*\"good\" + 0.015*\"married\" + 0.015*\"able\"'),\n",
       " (3,\n",
       "  '0.050*\"work\" + 0.043*\"request\" + 0.039*\"help\" + 0.038*\"support\" + 0.036*\"hope\" + 0.035*\"live\" + 0.030*\"married\" + 0.027*\"able\" + 0.019*\"earn\" + 0.018*\"sanitary\"'),\n",
       " (4,\n",
       "  '0.030*\"sell\" + 0.018*\"use\" + 0.018*\"married\" + 0.017*\"live\" + 0.017*\"increase\" + 0.016*\"high\" + 0.016*\"hope\" + 0.015*\"earn\" + 0.015*\"improve\" + 0.014*\"help\"')]"
      ]
     },
     "execution_count": 40,
     "metadata": {},
     "output_type": "execute_result"
    }
   ],
   "source": [
    "lda_model.print_topics(-1)"
   ]
  },
  {
   "cell_type": "code",
   "execution_count": 41,
   "id": "0c0292aa",
   "metadata": {},
   "outputs": [
    {
     "data": {
      "text/plain": [
       "\"Pictured above is Joseph, father of six children and known by his community as a very reliable person. He is representing his group formed by four farmers in Alego District, Kenya.<br /><br />Initially, Joseph joined One Acre Fund in 2014 because he wanted to have access to the best seed prices. Since he joined the program he says that his life has improved, especially because he has been able to consistently feed his family. With the profits from the upcoming harvest season, Joseph plans to buy a cow.<br /><br />Between the four farmers in Joseph's Group, a total of 1.5 acres of land will be planted using the maize seeds and fertilizer received with the loan. Additionally, some of the farmers in the group will be purchasing solar lights, and with this loan, the group will also receive a total of one solar light.\""
      ]
     },
     "execution_count": 41,
     "metadata": {},
     "output_type": "execute_result"
    }
   ],
   "source": [
    "loandfs['DESCRIPTION_TRANSLATED'][0]"
   ]
  },
  {
   "cell_type": "code",
   "execution_count": 42,
   "id": "3e1dbb1c",
   "metadata": {},
   "outputs": [
    {
     "data": {
      "text/plain": [
       "[(1, 0.9677726)]"
      ]
     },
     "execution_count": 42,
     "metadata": {},
     "output_type": "execute_result"
    }
   ],
   "source": [
    "lda_model[corpus][0]"
   ]
  },
  {
   "cell_type": "code",
   "execution_count": 44,
   "id": "c156f717",
   "metadata": {},
   "outputs": [
    {
     "name": "stderr",
     "output_type": "stream",
     "text": [
      "C:\\Users\\PAAV\\anaconda3\\lib\\site-packages\\pyLDAvis\\_prepare.py:246: FutureWarning: In a future version of pandas all arguments of DataFrame.drop except for the argument 'labels' will be keyword-only.\n",
      "  default_term_info = default_term_info.sort_values(\n"
     ]
    },
    {
     "data": {
      "text/html": [
       "\n",
       "<link rel=\"stylesheet\" type=\"text/css\" href=\"https://cdn.jsdelivr.net/gh/bmabey/pyLDAvis@3.3.1/pyLDAvis/js/ldavis.v1.0.0.css\">\n",
       "\n",
       "\n",
       "<div id=\"ldavis_el1533220087896552169109323033\"></div>\n",
       "<script type=\"text/javascript\">\n",
       "\n",
       "var ldavis_el1533220087896552169109323033_data = {\"mdsDat\": {\"x\": [0.09510535398030588, 0.11454288001427357, -0.29178686368004847, 0.09174213978852912, -0.009603510103060368], \"y\": [0.040199195575783685, 0.035365052963003046, -0.03838637763934763, -0.1917364244267079, 0.15455855352726866], \"topics\": [1, 2, 3, 4, 5], \"cluster\": [1, 1, 1, 1, 1], \"Freq\": [39.58870256778243, 22.870024277133897, 15.22493359194739, 13.03974050230923, 9.276599060827062]}, \"tinfo\": {\"Term\": [\"philippines\", \"work\", \"php\", \"request\", \"help\", \"support\", \"save\", \"hope\", \"de\", \"join\", \"live\", \"like\", \"general\", \"able\", \"borrow\", \"run\", \"use\", \"improve\", \"fund\", \"can\", \"married\", \"young\", \"new\", \"send\", \"y\", \"solar\", \"que\", \"additional\", \"su\", \"el\", \"offer\", \"prepare\", \"pakistan\", \"establish\", \"call\", \"nan\", \"bear\", \"sew\", \"god\", \"belong\", \"kgs\", \"teach\", \"satisfy\", \"little\", \"sierra\", \"extend\", \"trust\", \"ana\", \"show\", \"secondary\", \"bai\", \"tushum\", \"leone\", \"let\", \"asasah\", \"br\", \"assist\", \"tajikistan\", \"cusco\", \"word\", \"study\", \"serve\", \"learn\", \"traditional\", \"start\", \"large\", \"communal\", \"get\", \"well\", \"small\", \"need\", \"maintain\", \"continue\", \"work\", \"ask\", \"kiva\", \"want\", \"live\", \"cover\", \"sell\", \"make\", \"good\", \"grow\", \"increase\", \"help\", \"allow\", \"know\", \"invest\", \"able\", \"improve\", \"provide\", \"request\", \"married\", \"purchase\", \"new\", \"raise\", \"pay\", \"like\", \"support\", \"use\", \"gona\", \"kes\", \"babban\", \"medical\", \"boost\", \"major\", \"cambodia\", \"kilimo\", \"margaret\", \"tanzania\", \"juhudi\", \"safeguard\", \"change\", \"store\", \"reside\", \"kenyan\", \"mixed\", \"remote\", \"fresh\", \"martha\", \"visionfund\", \"reap\", \"determined\", \"kadet\", \"sustainable\", \"tujijenge\", \"hold\", \"anticipate\", \"nigeria\", \"inspire\", \"jane\", \"kenya\", \"second\", \"bless\", \"lead\", \"cook\", \"high\", \"access\", \"monthly\", \"enable\", \"operate\", \"use\", \"increase\", \"add\", \"hope\", \"sell\", \"earn\", \"grow\", \"support\", \"pay\", \"rural\", \"run\", \"married\", \"expand\", \"apply\", \"improve\", \"live\", \"good\", \"make\", \"help\", \"plan\", \"purchase\", \"save\", \"meet\", \"able\", \"kiva\", \"request\", \"marry\", \"want\", \"de\", \"can\", \"y\", \"que\", \"su\", \"el\", \"con\", \"para\", \"philippines\", \"los\", \"un\", \"una\", \"a\\u00f1os\", \"tiene\", \"hand\", \"attain\", \"ella\", \"negocio\", \"se\", \"se\\u00f1ora\", \"en\", \"esposo\", \"sus\", \"es\", \"ya\", \"hijos\", \"santo\", \"hace\", \"como\", \"domingo\", \"afford\", \"borrow\", \"sustain\", \"la\", \"secure\", \"php\", \"general\", \"save\", \"sari\", \"send\", \"like\", \"run\", \"request\", \"additional\", \"marry\", \"provide\", \"sell\", \"expand\", \"married\", \"work\", \"raise\", \"purchase\", \"earn\", \"solar\", \"acre\", \"district\", \"represent\", \"post\", \"fund\", \"interactuar\", \"pmpc\", \"hoa\", \"thanh\", \"judith\", \"costly\", \"maximize\", \"accurate\", \"automate\", \"gdmpc\", \"proud\", \"kbmi\", \"team\", \"colombia\", \"aged\", \"idr\", \"lending\", \"smep\", \"progressive\", \"cooperative\", \"mindanao\", \"purpose\", \"misamis\", \"manual\", \"join\", \"healthy\", \"feed\", \"describe\", \"english\", \"poor\", \"receive\", \"picture\", \"engage\", \"microfinance\", \"use\", \"repay\", \"purchase\", \"improve\", \"able\", \"plan\", \"kiva\", \"plant\", \"additional\", \"want\", \"financial\", \"group\", \"new\", \"earn\", \"operate\", \"php\", \"good\", \"continue\", \"live\", \"work\", \"married\", \"request\", \"sanitary\", \"uganda\", \"fatten\", \"aware\", \"ugandan\", \"kandal\", \"adolescents\", \"ela\", \"empowerment\", \"livelihood\", \"hygienic\", \"promote\", \"play\", \"fry\", \"approach\", \"comprise\", \"free\", \"rs\", \"train\", \"permanent\", \"progress\", \"province\", \"entire\", \"remain\", \"move\", \"avoid\", \"reduce\", \"finance\", \"favorable\", \"cater\", \"luis\", \"safe\", \"p\", \"support\", \"hope\", \"young\", \"help\", \"work\", \"request\", \"brac\", \"live\", \"able\", \"married\", \"build\", \"new\", \"pay\", \"php\", \"earn\", \"invest\", \"general\", \"single\", \"save\", \"manage\", \"improve\", \"past\", \"sell\", \"expand\", \"provide\", \"purchase\"], \"Freq\": [147.0, 503.0, 205.0, 419.0, 333.0, 205.0, 204.0, 208.0, 87.0, 93.0, 401.0, 191.0, 112.0, 278.0, 77.0, 168.0, 200.0, 272.0, 54.0, 56.0, 359.0, 76.0, 135.0, 80.0, 50.0, 45.0, 49.0, 123.0, 48.0, 48.0, 66.00738637293118, 33.89510982828983, 31.040405460621812, 28.14660646273521, 34.58239989563467, 24.293638387553024, 23.325544824786036, 20.43719137071556, 17.542338034788347, 15.61181610682896, 14.652518041368834, 14.64878673156554, 13.68093525528128, 37.32620996027603, 12.721686728753912, 12.678317729865375, 11.75803951887627, 11.742964728167971, 11.73836601969297, 11.70232317467172, 10.79602709377968, 10.79602709377968, 10.79276687118602, 10.787615756875912, 10.779961524416198, 24.267119168680512, 10.767330031259455, 9.831923751841915, 9.829647765025527, 9.829388853999596, 47.98073703755234, 21.215934046721195, 42.640896218174426, 21.15130536810422, 105.9660353994312, 50.74828840204432, 21.472857907159742, 48.63899168211924, 95.73634673192275, 91.00658628174557, 98.47741626541601, 19.580840815710047, 95.27963142096965, 295.2485995602382, 65.99196013620934, 164.39727762582703, 140.976945194039, 223.22110000449288, 43.11518009101699, 312.1912884426106, 91.0414990782818, 129.90166994038643, 109.47922434708988, 118.59794730036023, 174.8573428939962, 55.065952229838054, 57.20691274006784, 61.688907489489026, 121.85196350697245, 115.13720606204085, 102.78005016794998, 137.94085542611853, 124.24415183507033, 99.05477476748403, 69.38742962448272, 64.73976546755276, 71.0031166796081, 69.7948378074941, 61.92083942569899, 58.67599072573774, 31.02278689661817, 31.015493040614185, 29.09583955867699, 25.223454299066425, 23.309595728488038, 22.34964047569467, 19.455556341811395, 17.533530250806866, 17.51405800952646, 17.490548985044562, 16.57012785730211, 16.569262832330363, 16.56187718216583, 15.603735134026106, 15.602716758809677, 14.64017507055147, 13.677134454032403, 13.675448681272227, 13.674274795948518, 12.709368058142084, 11.749438723699932, 10.78679552189947, 10.76929847496779, 9.825358603361737, 9.819613368842756, 8.861057707014917, 8.851183895133891, 8.821480924677628, 7.898490640371145, 7.892608254576992, 16.40916193709098, 51.13752898456645, 28.87391367641182, 20.293114340861845, 24.49440995695889, 30.96800630146594, 73.59882139756346, 23.274325172211732, 31.089178913114026, 36.9793402126307, 47.04662394601269, 83.53424983887221, 78.06803501015395, 25.37260793071203, 71.92818495449728, 137.61891998211848, 69.19331077253044, 60.670972438004995, 63.92220065229661, 55.48506457766019, 27.806505259212692, 55.21379015468461, 81.50115389353635, 57.88805859206401, 38.961286291846825, 67.49031526797427, 80.21430775578854, 59.96561314918135, 47.170768528599915, 67.25390966683119, 41.02486653793492, 48.25983604796308, 44.46304813925435, 35.02812465850333, 41.25678826431807, 37.204514528247955, 35.932549843821874, 32.11088031794824, 32.19103929866363, 86.44202262856896, 55.45605935306512, 49.642227433834975, 48.67391877745245, 47.70418376952097, 47.701515111784204, 29.281079202395695, 28.310150775325464, 143.31860734462975, 23.452699072507908, 17.64612831791712, 16.676511214045124, 15.70703645775715, 15.707033582048382, 15.698827747078711, 15.680676273334692, 14.735870784713555, 13.76748017063114, 12.798218216792002, 12.793647277705164, 11.828417067558851, 10.858870418551675, 10.858826563992961, 10.858535398480194, 9.889342461651491, 9.889265536441945, 9.865067166085877, 8.919771369119786, 8.91964052437084, 8.895803774392355, 42.71472265570543, 65.26983537756381, 39.6883296239036, 46.70861626972596, 40.254993788068155, 138.77251438154804, 81.32399145144205, 123.37629171671516, 27.060272846335483, 54.25743518144835, 100.75330939222171, 77.01473611108055, 138.12458268759798, 58.750189498300024, 58.15068474000417, 76.5371268960454, 118.72862871994542, 58.13238948082175, 69.87041727038282, 74.52070291354903, 38.5993303462342, 40.59323752907662, 33.41694080687801, 44.825451956573936, 41.85465174023093, 32.91889970911956, 26.971434954026822, 23.999016568922283, 52.61272040827566, 19.038901990192823, 18.050356043763, 16.06539497404932, 16.06539497404932, 14.069461390130714, 13.088783389071851, 13.088178730881658, 11.107976111772672, 11.107976111772672, 11.105407238076658, 11.093996315896769, 10.116034966503008, 10.110215593228556, 9.120437547981448, 9.068507753901727, 8.132433454104955, 8.12913246372041, 8.127966249247676, 7.140358692921573, 7.138585973034033, 6.1489846456082935, 6.1472033053392225, 6.146483503481448, 12.91880424309237, 77.71434042313749, 17.806463283577067, 20.675041784251377, 28.42559972546503, 11.12054339656069, 21.80173796508487, 37.04362912303317, 15.506183435284012, 29.00241162034894, 13.024220425859559, 55.67832019178983, 35.14735946443493, 60.79309796148568, 61.368520743460145, 57.375170869999735, 35.893047096462446, 53.012312036694695, 20.206829455885465, 34.2540785857789, 42.52583957210794, 28.316179991218583, 20.937729439139392, 31.51483659513512, 37.100491622572804, 26.02118566828664, 32.28185597700076, 29.347490418936864, 25.579381262997092, 30.337580645143674, 28.615373730404098, 27.022457760821254, 26.939950857712226, 34.47223893599643, 24.67568952825507, 23.69210077212732, 20.761479296902728, 10.967649269780853, 7.044556370870205, 6.071675175931684, 6.071675175931684, 6.071675175931684, 6.071675175931684, 6.068583895481987, 6.067005182892967, 6.057796172138542, 5.087526160813546, 5.086127484538091, 5.083073437875871, 5.0730295141928465, 6.568265703867138, 7.9516870775701625, 5.989001712262605, 4.87624588106569, 13.890838881025061, 4.803673724916806, 5.973225537486377, 4.035125861072075, 6.274136742626784, 27.124565367588954, 8.851541864152582, 3.11769782191197, 5.6766238147129995, 5.096413646861995, 12.256376361039031, 12.321659017689061, 71.31020584540076, 67.28500388380266, 26.447719941854164, 73.45597938071236, 93.2358919351696, 80.32022171776782, 16.004105129646568, 65.27332104439834, 51.57973976071279, 57.03089941287204, 23.770263690976993, 28.415831365108495, 31.197582521020284, 34.206100584002954, 34.985164583564824, 22.283333702221952, 22.207529215275517, 17.41117083448652, 27.632280037088822, 15.664233365379484, 27.699418250488876, 16.455310298915073, 30.943628816467466, 20.542353639111216, 19.02429445184728, 16.656504164657722], \"Total\": [147.0, 503.0, 205.0, 419.0, 333.0, 205.0, 204.0, 208.0, 87.0, 93.0, 401.0, 191.0, 112.0, 278.0, 77.0, 168.0, 200.0, 272.0, 54.0, 56.0, 359.0, 76.0, 135.0, 80.0, 50.0, 45.0, 49.0, 123.0, 48.0, 48.0, 67.49720316250192, 34.71750096785752, 31.824610569268476, 28.932038599543347, 35.68914543424632, 25.074885537154948, 24.11133969476394, 21.219243011550095, 18.326721941165832, 16.398367181473986, 15.434440476040043, 15.434176457388263, 14.470057979817353, 39.55698389292376, 13.506025397644416, 13.505021679451175, 12.541985963876709, 12.541343152552741, 12.54209146371651, 12.542690801030648, 11.57792458757316, 11.57792458757316, 11.577729004846505, 11.577738858335643, 11.57761141155835, 26.067824967130303, 11.577056719974916, 10.613820679247857, 10.613777202008837, 10.613674639150034, 52.13897733659874, 23.165059843247555, 47.27871000596826, 23.1661134633774, 127.40921288499003, 60.79506525228643, 24.121721074526313, 59.946852797227365, 126.66564106964807, 121.68986014581756, 133.1862768879098, 22.211204841575167, 132.87290574646696, 503.0414345250714, 91.10253907642436, 263.74878580961473, 229.87972593537728, 401.93302049990234, 56.12863013128327, 621.6074239002203, 138.80958115456002, 219.63737536227285, 177.50235282056872, 201.498357433489, 333.2419883475045, 76.55454046575088, 84.18022443255344, 98.79244193702455, 278.14783467002854, 272.05315189924266, 241.27947113427575, 419.25816053301844, 359.6690801726828, 265.3574504706671, 135.33019867020676, 124.07768211675689, 166.32759105297015, 191.74996481947187, 205.56123555500557, 200.1384051226712, 31.803980233971554, 31.80411059746146, 29.877046720902793, 26.021330193267783, 24.095746134079494, 23.132640957349146, 20.242153841126605, 18.315388707796615, 18.315032618495277, 18.315003903651874, 17.351937457209964, 17.35195079861592, 17.35146007808909, 16.388170819495585, 16.38796407684786, 15.425043151808527, 14.461221563540057, 14.461021819161273, 14.460863799550948, 13.497065219133248, 12.534541619769348, 11.571091776128272, 11.569534687781346, 10.607684732299546, 10.6070326870023, 9.64418090771734, 9.643076644739496, 9.645237608980718, 8.680645057798941, 8.67974736585424, 18.348026153847574, 61.958133805033576, 35.77098543898944, 24.184153962955115, 29.940448409042673, 39.58022093925909, 111.85092720237924, 29.0556301288288, 43.458119196863066, 59.79982567372904, 85.55718708767743, 200.1384051226712, 201.498357433489, 37.63103628848419, 208.61570858817396, 621.6074239002203, 219.6116467511709, 177.50235282056872, 205.56123555500557, 166.32759105297015, 45.56397704683552, 168.2686732309943, 359.6690801726828, 187.00138459909329, 86.88715632022218, 272.05315189924266, 401.93302049990234, 219.63737536227285, 138.80958115456002, 333.2419883475045, 115.70834561058516, 265.3574504706671, 204.7784797782292, 95.67478542387083, 278.14783467002854, 263.74878580961473, 419.25816053301844, 130.86671227546466, 229.87972593537728, 87.26881516699797, 56.24104744943035, 50.42343224400429, 49.454018027733234, 48.484375261275524, 48.48398857667896, 30.06161597066883, 29.091787034977536, 147.45986781913209, 24.242677708485974, 18.42629966278979, 17.456680998073324, 16.487087221650096, 16.487086924721773, 16.486528812308407, 16.485775401834758, 15.517212624829781, 14.547799210344824, 13.578243240084205, 13.577721957566746, 12.608597674330358, 11.638991554065717, 11.638984000168781, 11.638936609042563, 10.669391530261871, 10.669376927915073, 10.666730112075982, 9.699780752971114, 9.699759017521759, 9.697117740870778, 46.57459949734107, 77.52525678021733, 46.50944778318919, 58.11898978349304, 50.36494558315645, 205.64807914914525, 112.89295050174492, 204.7784797782292, 34.07924381149508, 80.90816703751983, 191.74996481947187, 168.2686732309943, 419.25816053301844, 123.75096964883838, 130.86671227546466, 241.27947113427575, 621.6074239002203, 187.00138459909329, 359.6690801726828, 503.0414345250714, 124.07768211675689, 265.3574504706671, 219.6116467511709, 45.605140431016565, 42.63004144049476, 33.702492828428674, 27.75182789804944, 24.776814542690158, 54.51693995097753, 19.817419655955643, 18.826181032805813, 16.84242667652229, 16.84242667652229, 14.857778759761041, 13.866649402451454, 13.866484950117036, 11.883421740933379, 11.883421740933379, 11.883165655442811, 11.881478217257124, 10.891553823914782, 10.89094046802976, 9.899125723078143, 9.89692518894196, 8.907908552933735, 8.907377543026383, 8.90735660951225, 7.916035644607463, 7.915993673203881, 6.924297224439257, 6.92419291830273, 6.924111023343289, 14.825074272409141, 93.75433726032381, 21.708354859978066, 26.665757580101605, 40.31831151936539, 13.809973964823385, 33.389313117986376, 67.56794635266849, 21.645982515864787, 53.832689088859006, 17.72034249429304, 200.1384051226712, 99.46584084274484, 265.3574504706671, 272.05315189924266, 278.14783467002854, 115.70834561058516, 263.74878580961473, 39.12893471498454, 123.75096964883838, 229.87972593537728, 92.37865751666487, 45.894102198923584, 135.33019867020676, 219.6116467511709, 85.55718708767743, 205.64807914914525, 219.63737536227285, 132.87290574646696, 401.93302049990234, 503.0414345250714, 359.6690801726828, 419.25816053301844, 35.25052725105007, 25.45662857592182, 24.476970581310106, 21.539667515430555, 11.746158762016362, 7.828089114190414, 6.8495103153219565, 6.8495103153219565, 6.8495103153219565, 6.8495103153219565, 6.8492812031171075, 6.84882112749758, 6.847854309470715, 5.869384029144058, 5.869425106406346, 5.868748133801465, 5.8677367887325715, 7.820682138072775, 9.768581176261621, 7.810818481327763, 6.862849228682152, 21.42688217873088, 7.791009195181378, 9.736973400876469, 6.815210667822155, 10.704705513180507, 49.07811241822627, 16.532544526051456, 5.83545047933767, 10.695601393717109, 9.72552078314906, 25.254594390696738, 26.330350592647644, 205.56123555500557, 208.61570858817396, 76.58195888715952, 333.2419883475045, 503.0414345250714, 419.25816053301844, 39.78305149760922, 401.93302049990234, 278.14783467002854, 359.6690801726828, 94.50994695489507, 135.33019867020676, 166.32759105297015, 205.64807914914525, 219.6116467511709, 98.79244193702455, 112.89295050174492, 66.8158453107099, 204.7784797782292, 59.07704514275231, 272.05315189924266, 68.73884592016164, 621.6074239002203, 187.00138459909329, 241.27947113427575, 265.3574504706671], \"Category\": [\"Default\", \"Default\", \"Default\", \"Default\", \"Default\", \"Default\", \"Default\", \"Default\", \"Default\", \"Default\", \"Default\", \"Default\", \"Default\", \"Default\", \"Default\", \"Default\", \"Default\", \"Default\", \"Default\", \"Default\", \"Default\", \"Default\", \"Default\", \"Default\", \"Default\", \"Default\", \"Default\", \"Default\", \"Default\", \"Default\", \"Topic1\", \"Topic1\", \"Topic1\", \"Topic1\", \"Topic1\", \"Topic1\", \"Topic1\", \"Topic1\", \"Topic1\", \"Topic1\", \"Topic1\", \"Topic1\", \"Topic1\", \"Topic1\", \"Topic1\", \"Topic1\", \"Topic1\", \"Topic1\", \"Topic1\", \"Topic1\", \"Topic1\", \"Topic1\", \"Topic1\", \"Topic1\", \"Topic1\", \"Topic1\", \"Topic1\", \"Topic1\", \"Topic1\", \"Topic1\", \"Topic1\", \"Topic1\", \"Topic1\", \"Topic1\", \"Topic1\", \"Topic1\", \"Topic1\", \"Topic1\", \"Topic1\", \"Topic1\", \"Topic1\", \"Topic1\", \"Topic1\", \"Topic1\", \"Topic1\", \"Topic1\", \"Topic1\", \"Topic1\", \"Topic1\", \"Topic1\", \"Topic1\", \"Topic1\", \"Topic1\", \"Topic1\", \"Topic1\", \"Topic1\", \"Topic1\", \"Topic1\", \"Topic1\", \"Topic1\", \"Topic1\", \"Topic1\", \"Topic1\", \"Topic1\", \"Topic1\", \"Topic1\", \"Topic1\", \"Topic1\", \"Topic1\", \"Topic1\", \"Topic2\", \"Topic2\", \"Topic2\", \"Topic2\", \"Topic2\", \"Topic2\", \"Topic2\", \"Topic2\", \"Topic2\", \"Topic2\", \"Topic2\", \"Topic2\", \"Topic2\", \"Topic2\", \"Topic2\", \"Topic2\", \"Topic2\", \"Topic2\", \"Topic2\", \"Topic2\", \"Topic2\", \"Topic2\", \"Topic2\", \"Topic2\", \"Topic2\", \"Topic2\", \"Topic2\", \"Topic2\", \"Topic2\", \"Topic2\", \"Topic2\", \"Topic2\", \"Topic2\", \"Topic2\", \"Topic2\", \"Topic2\", \"Topic2\", \"Topic2\", \"Topic2\", \"Topic2\", \"Topic2\", \"Topic2\", \"Topic2\", \"Topic2\", \"Topic2\", \"Topic2\", \"Topic2\", \"Topic2\", \"Topic2\", \"Topic2\", \"Topic2\", \"Topic2\", \"Topic2\", \"Topic2\", \"Topic2\", \"Topic2\", \"Topic2\", \"Topic2\", \"Topic2\", \"Topic2\", \"Topic2\", \"Topic2\", \"Topic2\", \"Topic2\", \"Topic2\", \"Topic2\", \"Topic2\", \"Topic2\", \"Topic2\", \"Topic3\", \"Topic3\", \"Topic3\", \"Topic3\", \"Topic3\", \"Topic3\", \"Topic3\", \"Topic3\", \"Topic3\", \"Topic3\", \"Topic3\", \"Topic3\", \"Topic3\", \"Topic3\", \"Topic3\", \"Topic3\", \"Topic3\", \"Topic3\", \"Topic3\", \"Topic3\", \"Topic3\", \"Topic3\", \"Topic3\", \"Topic3\", \"Topic3\", \"Topic3\", \"Topic3\", \"Topic3\", \"Topic3\", \"Topic3\", \"Topic3\", \"Topic3\", \"Topic3\", \"Topic3\", \"Topic3\", \"Topic3\", \"Topic3\", \"Topic3\", \"Topic3\", \"Topic3\", \"Topic3\", \"Topic3\", \"Topic3\", \"Topic3\", \"Topic3\", \"Topic3\", \"Topic3\", \"Topic3\", \"Topic3\", \"Topic3\", \"Topic3\", \"Topic3\", \"Topic3\", \"Topic4\", \"Topic4\", \"Topic4\", \"Topic4\", \"Topic4\", \"Topic4\", \"Topic4\", \"Topic4\", \"Topic4\", \"Topic4\", \"Topic4\", \"Topic4\", \"Topic4\", \"Topic4\", \"Topic4\", \"Topic4\", \"Topic4\", \"Topic4\", \"Topic4\", \"Topic4\", \"Topic4\", \"Topic4\", \"Topic4\", \"Topic4\", \"Topic4\", \"Topic4\", \"Topic4\", \"Topic4\", \"Topic4\", \"Topic4\", \"Topic4\", \"Topic4\", \"Topic4\", \"Topic4\", \"Topic4\", \"Topic4\", \"Topic4\", \"Topic4\", \"Topic4\", \"Topic4\", \"Topic4\", \"Topic4\", \"Topic4\", \"Topic4\", \"Topic4\", \"Topic4\", \"Topic4\", \"Topic4\", \"Topic4\", \"Topic4\", \"Topic4\", \"Topic4\", \"Topic4\", \"Topic4\", \"Topic4\", \"Topic4\", \"Topic4\", \"Topic4\", \"Topic4\", \"Topic4\", \"Topic4\", \"Topic4\", \"Topic5\", \"Topic5\", \"Topic5\", \"Topic5\", \"Topic5\", \"Topic5\", \"Topic5\", \"Topic5\", \"Topic5\", \"Topic5\", \"Topic5\", \"Topic5\", \"Topic5\", \"Topic5\", \"Topic5\", \"Topic5\", \"Topic5\", \"Topic5\", \"Topic5\", \"Topic5\", \"Topic5\", \"Topic5\", \"Topic5\", \"Topic5\", \"Topic5\", \"Topic5\", \"Topic5\", \"Topic5\", \"Topic5\", \"Topic5\", \"Topic5\", \"Topic5\", \"Topic5\", \"Topic5\", \"Topic5\", \"Topic5\", \"Topic5\", \"Topic5\", \"Topic5\", \"Topic5\", \"Topic5\", \"Topic5\", \"Topic5\", \"Topic5\", \"Topic5\", \"Topic5\", \"Topic5\", \"Topic5\", \"Topic5\", \"Topic5\", \"Topic5\", \"Topic5\", \"Topic5\", \"Topic5\", \"Topic5\", \"Topic5\", \"Topic5\", \"Topic5\", \"Topic5\"], \"logprob\": [30.0, 29.0, 28.0, 27.0, 26.0, 25.0, 24.0, 23.0, 22.0, 21.0, 20.0, 19.0, 18.0, 17.0, 16.0, 15.0, 14.0, 13.0, 12.0, 11.0, 10.0, 9.0, 8.0, 7.0, 6.0, 5.0, 4.0, 3.0, 2.0, 1.0, -4.801, -5.4675, -5.5555, -5.6534, -5.4475, -5.8006, -5.8413, -5.9735, -6.1262, -6.2428, -6.3062, -6.3065, -6.3748, -5.3711, -6.4475, -6.4509, -6.5263, -6.5276, -6.528, -6.531, -6.6116, -6.6116, -6.6119, -6.6124, -6.6131, -5.8017, -6.6143, -6.7052, -6.7054, -6.7054, -5.12, -5.9361, -5.238, -5.9391, -4.3277, -5.0639, -5.924, -5.1064, -4.4292, -4.4799, -4.401, -6.0163, -4.434, -3.303, -4.8013, -3.8885, -4.0422, -3.5827, -5.2269, -3.2472, -4.4795, -4.124, -4.2951, -4.2151, -3.8268, -4.9823, -4.9441, -4.8687, -4.188, -4.2447, -4.3582, -4.064, -4.1686, -4.3951, -4.7511, -4.8204, -4.7281, -4.7453, -4.865, -4.9188, -5.0074, -5.0076, -5.0715, -5.2143, -5.2932, -5.3353, -5.474, -5.578, -5.5791, -5.5804, -5.6345, -5.6345, -5.635, -5.6946, -5.6947, -5.7583, -5.8264, -5.8265, -5.8266, -5.8998, -5.9783, -6.0638, -6.0654, -6.1571, -6.1577, -6.2604, -6.2615, -6.2649, -6.3754, -6.3762, -5.6443, -4.5076, -5.0792, -5.4318, -5.2437, -5.0091, -4.1435, -5.2947, -5.0052, -4.8317, -4.591, -4.0168, -4.0845, -5.2084, -4.1664, -3.5176, -4.2052, -4.3366, -4.2844, -4.426, -5.1168, -4.4309, -4.0415, -4.3836, -4.7795, -4.2301, -4.0574, -4.3483, -4.5883, -4.2336, -4.7279, -4.5655, -4.6474, -4.8859, -4.7223, -4.8257, -4.8605, -4.9729, -4.9704, -3.5757, -4.0196, -4.1304, -4.1501, -4.1702, -4.1702, -4.6583, -4.692, -3.0701, -4.8802, -5.1647, -5.2212, -5.2811, -5.2811, -5.2816, -5.2828, -5.3449, -5.4129, -5.4859, -5.4863, -5.5647, -5.6502, -5.6502, -5.6503, -5.7437, -5.7438, -5.7462, -5.8469, -5.8469, -5.8496, -4.2807, -3.8567, -4.3541, -4.1913, -4.34, -3.1024, -3.6368, -3.22, -4.7371, -4.0415, -3.4225, -3.6912, -3.107, -3.9619, -3.9722, -3.6974, -3.2584, -3.9725, -3.7886, -3.7241, -4.382, -4.3316, -4.5261, -4.0775, -4.1461, -4.3862, -4.5855, -4.7023, -3.9173, -4.9338, -4.9871, -5.1036, -5.1036, -5.2363, -5.3085, -5.3086, -5.4726, -5.4726, -5.4728, -5.4739, -5.5661, -5.5667, -5.6698, -5.6755, -5.7844, -5.7848, -5.785, -5.9145, -5.9148, -6.064, -6.0643, -6.0644, -5.3216, -3.5272, -5.0007, -4.8513, -4.533, -5.4715, -4.7983, -4.2682, -5.139, -4.5129, -5.3135, -3.8607, -4.3207, -3.7728, -3.7634, -3.8307, -4.2997, -3.9097, -4.8743, -4.3465, -4.1302, -4.5368, -4.8387, -4.4298, -4.2666, -4.6214, -4.4058, -4.5011, -4.6385, -4.4679, -4.5263, -4.5836, -4.5867, -3.9996, -4.3339, -4.3746, -4.5067, -5.1448, -5.5875, -5.7361, -5.7361, -5.7361, -5.7361, -5.7366, -5.7369, -5.7384, -5.913, -5.9132, -5.9138, -5.9158, -5.6575, -5.4664, -5.7498, -5.9554, -4.9085, -5.9704, -5.7525, -6.1447, -5.7033, -4.2393, -5.3592, -6.4027, -5.8034, -5.9112, -5.0337, -5.0284, -3.2727, -3.3308, -4.2646, -3.2431, -3.0046, -3.1537, -4.7669, -3.3612, -3.5966, -3.4962, -4.3713, -4.1928, -4.0994, -4.0074, -3.9848, -4.4359, -4.4393, -4.6827, -4.2208, -4.7884, -4.2184, -4.7391, -4.1076, -4.5173, -4.594, -4.727], \"loglift\": [30.0, 29.0, 28.0, 27.0, 26.0, 25.0, 24.0, 23.0, 22.0, 21.0, 20.0, 19.0, 18.0, 17.0, 16.0, 15.0, 14.0, 13.0, 12.0, 11.0, 10.0, 9.0, 8.0, 7.0, 6.0, 5.0, 4.0, 3.0, 2.0, 1.0, 0.9043, 0.9027, 0.9017, 0.8991, 0.8951, 0.895, 0.8935, 0.8891, 0.8829, 0.8775, 0.8746, 0.8744, 0.8705, 0.8686, 0.8668, 0.8635, 0.8621, 0.8609, 0.8604, 0.8573, 0.8567, 0.8567, 0.8564, 0.8559, 0.8552, 0.855, 0.8541, 0.8501, 0.8499, 0.8499, 0.8435, 0.8387, 0.8234, 0.8356, 0.7423, 0.746, 0.8103, 0.7176, 0.6467, 0.6361, 0.6247, 0.8006, 0.594, 0.3938, 0.6042, 0.4539, 0.4377, 0.3385, 0.6629, 0.2379, 0.5048, 0.4014, 0.4434, 0.3966, 0.2817, 0.5972, 0.5403, 0.4557, 0.1013, 0.0668, 0.0733, -0.185, -0.1363, -0.0588, 0.2586, 0.2761, 0.0754, -0.084, -0.2733, -0.3004, 1.4505, 1.4502, 1.4488, 1.4442, 1.4422, 1.4409, 1.4357, 1.4317, 1.4306, 1.4293, 1.4292, 1.4292, 1.4288, 1.4263, 1.4262, 1.4231, 1.4196, 1.4195, 1.4194, 1.4152, 1.4107, 1.4052, 1.4037, 1.3987, 1.3982, 1.3907, 1.3897, 1.3861, 1.3809, 1.3803, 1.3637, 1.2834, 1.2611, 1.2999, 1.2746, 1.23, 1.0568, 1.2535, 1.1404, 0.9947, 0.8773, 0.6016, 0.5271, 1.0812, 0.4105, -0.0325, 0.3204, 0.4018, 0.3073, 0.3775, 0.9815, 0.361, -0.0092, 0.3027, 0.6733, 0.0813, -0.1362, 0.1771, 0.396, -0.1251, 0.4384, -0.2291, -0.0519, 0.4705, -0.433, -0.4832, -0.9815, 0.0704, -0.4905, 1.8727, 1.8682, 1.8666, 1.8663, 1.866, 1.866, 1.8559, 1.855, 1.8537, 1.8491, 1.839, 1.8365, 1.8338, 1.8338, 1.8333, 1.8322, 1.8306, 1.8271, 1.8231, 1.8228, 1.8184, 1.8129, 1.8129, 1.8128, 1.8063, 1.8063, 1.8041, 1.7984, 1.7984, 1.796, 1.7957, 1.7102, 1.7236, 1.6637, 1.6582, 1.4889, 1.5542, 1.3755, 1.6516, 1.4827, 1.2387, 1.1007, 0.7719, 1.1373, 1.0711, 0.7341, 0.2268, 0.7138, 0.2437, -0.0274, 0.7146, 0.0048, -0.0006, 2.0199, 2.0188, 2.0136, 2.0086, 2.0053, 2.0016, 1.9971, 1.9951, 1.9899, 1.9899, 1.9827, 1.9794, 1.9794, 1.9697, 1.9697, 1.9695, 1.9686, 1.9633, 1.9628, 1.9552, 1.9498, 1.9461, 1.9457, 1.9456, 1.934, 1.9338, 1.9184, 1.9181, 1.918, 1.8995, 1.8495, 1.839, 1.7827, 1.6877, 1.8206, 1.6109, 1.4361, 1.7036, 1.4187, 1.7293, 0.7578, 0.9969, 0.5636, 0.5481, 0.4586, 0.8666, 0.4327, 1.3763, 0.7527, 0.3497, 0.8547, 1.2524, 0.5799, 0.2589, 0.8469, 0.1855, 0.0244, 0.3896, -0.5467, -0.8296, -0.5513, -0.7077, 2.3553, 2.3465, 2.3451, 2.3409, 2.3091, 2.2722, 2.2571, 2.2571, 2.2571, 2.2571, 2.2567, 2.2565, 2.2551, 2.2347, 2.2344, 2.2339, 2.2321, 2.2032, 2.1719, 2.1121, 2.0359, 1.9443, 1.8941, 1.889, 1.8536, 1.8434, 1.7847, 1.7529, 1.7508, 1.7442, 1.7315, 1.6547, 1.6183, 1.319, 1.2461, 1.3145, 0.8655, 0.6921, 0.7252, 1.4671, 0.56, 0.6927, 0.5361, 0.9974, 0.8169, 0.7041, 0.5839, 0.5407, 0.8885, 0.7517, 1.0328, 0.3747, 1.0502, 0.0931, 0.948, -0.6225, 0.169, -0.1626, -0.3906]}, \"token.table\": {\"Topic\": [1, 2, 3, 4, 5, 2, 4, 4, 4, 1, 2, 4, 1, 2, 3, 4, 5, 5, 3, 5, 4, 1, 2, 4, 1, 2, 1, 2, 4, 5, 1, 1, 2, 4, 5, 1, 3, 4, 2, 5, 5, 3, 2, 1, 1, 1, 2, 4, 2, 1, 3, 5, 1, 4, 1, 5, 1, 2, 3, 4, 5, 1, 4, 2, 3, 2, 5, 2, 4, 1, 3, 3, 5, 3, 1, 2, 3, 4, 5, 1, 2, 3, 5, 4, 4, 1, 3, 4, 5, 1, 3, 2, 4, 2, 4, 3, 1, 2, 3, 4, 5, 3, 5, 3, 5, 3, 1, 2, 4, 1, 2, 4, 2, 4, 2, 5, 3, 3, 1, 1, 2, 3, 4, 5, 1, 5, 2, 5, 1, 4, 5, 1, 5, 1, 2, 4, 5, 2, 5, 4, 5, 4, 3, 4, 5, 1, 5, 1, 2, 1, 2, 4, 1, 2, 3, 4, 1, 2, 4, 5, 3, 3, 2, 4, 1, 2, 4, 5, 1, 2, 5, 3, 4, 2, 1, 2, 3, 4, 5, 5, 4, 1, 2, 4, 5, 1, 2, 3, 5, 2, 4, 1, 2, 4, 5, 2, 4, 2, 4, 4, 2, 2, 5, 4, 2, 4, 2, 2, 1, 2, 1, 2, 3, 4, 1, 2, 4, 5, 1, 3, 1, 2, 5, 1, 2, 4, 1, 2, 4, 4, 1, 1, 1, 2, 3, 4, 5, 1, 5, 1, 2, 3, 4, 5, 5, 3, 1, 5, 1, 5, 2, 1, 2, 1, 2, 4, 5, 1, 4, 2, 1, 2, 3, 4, 5, 1, 2, 3, 4, 2, 4, 2, 1, 2, 4, 1, 4, 4, 4, 2, 1, 2, 5, 2, 5, 1, 1, 2, 3, 5, 3, 1, 2, 4, 5, 2, 1, 2, 1, 2, 3, 4, 1, 3, 4, 5, 1, 3, 1, 2, 3, 5, 1, 2, 3, 5, 1, 5, 3, 4, 3, 4, 5, 1, 4, 1, 2, 4, 1, 2, 4, 5, 4, 1, 2, 4, 4, 1, 4, 5, 4, 5, 4, 1, 2, 3, 4, 5, 2, 5, 1, 2, 3, 4, 5, 4, 3, 1, 2, 3, 4, 5, 2, 1, 2, 3, 4, 2, 4, 5, 2, 5, 2, 1, 2, 3, 4, 5, 4, 1, 2, 3, 4, 5, 2, 1, 5, 1, 2, 3, 4, 1, 2, 4, 5, 2, 5, 2, 5, 3, 3, 4, 1, 2, 3, 4, 5, 3, 2, 4, 5, 1, 1, 2, 3, 1, 2, 3, 4, 5, 1, 3, 4, 1, 5, 1, 3, 1, 1, 1, 2, 3, 5, 1, 2, 4, 5, 4, 4, 1, 2, 4, 5, 2, 1, 4, 5, 3, 1, 2, 3, 4, 5, 3, 1, 3, 2, 1, 2, 1, 4, 4, 3, 1, 5, 2, 5, 1, 2, 1, 5, 5, 3, 3, 1, 2, 4, 5, 2, 1, 2, 4, 5, 1, 2, 4, 1, 1, 2, 3, 4, 5, 3, 3, 1, 5], \"Freq\": [0.43861567408831587, 0.1474036281772209, 0.02157126266008111, 0.20492699527077052, 0.18695094305403626, 0.7915849664254763, 0.1720836883533644, 0.9256593125959366, 0.985220717146752, 0.2657380977589551, 0.6643452443973878, 0.05314761955179103, 0.10504968192887229, 0.12929191622015052, 0.476763941061805, 0.2747453219678198, 0.016161489527518814, 0.8759750294233952, 0.9232500217732384, 0.06441279221673757, 0.9093733486089081, 0.7184420370808183, 0.09143807744664961, 0.18287615489329923, 0.9568353129351578, 0.9331029845879655, 0.48338559781159385, 0.4488580551107657, 0.05754590450138022, 0.851872186688712, 0.950109621836012, 0.7244584033451991, 0.043906569899709036, 0.1317197096991271, 0.09878978227434533, 0.9501551444436418, 0.9705336637195303, 0.9256593125959366, 0.3736674488686189, 0.5605011733029284, 0.9749454110633812, 0.9704564417533695, 0.970644798694605, 0.9500839219324801, 0.9539080072350653, 0.9757068995305801, 0.8269877883938246, 0.1240481682590737, 0.9545253287454859, 0.12899022093341547, 0.8384364360672006, 0.012899022093341548, 0.920675201335835, 0.03836146672232646, 0.5781356415402723, 0.4021813158541025, 0.25394152439270773, 0.12697076219635386, 0.15871345274544232, 0.20103704014422696, 0.25394152439270773, 0.9806903352304693, 0.028019723863727697, 0.9386352929201198, 0.9779334221940612, 0.3739855154240986, 0.5609782731361479, 0.9797446395572841, 0.9091711987269762, 0.8705846458931573, 0.08291282341839594, 0.9278581028396988, 0.8519704519609813, 0.9646853325614748, 0.714968935662988, 0.022577966389357516, 0.04515593277871503, 0.19567570870776513, 0.022577966389357516, 0.025265144465328473, 0.7832194784251827, 0.12632572232664235, 0.07579543339598542, 0.8842856991782881, 0.9375011672035033, 0.7660974425961264, 0.05344865878577626, 0.07126487838103501, 0.10689731757155252, 0.9421716519645175, 0.9854608411427386, 0.272828885572665, 0.6944735269122382, 0.9507728959590022, 0.9791560573277206, 0.9281108305066141, 0.20490716528794517, 0.31419098677484925, 0.15026525454449313, 0.16847922479231048, 0.1593722396684018, 0.9900175585613482, 0.8759750294233952, 0.9666684579676271, 0.8759750294233952, 0.9517315335099166, 0.3511715922815075, 0.6187309006864656, 0.033444913550619765, 0.27864110550450544, 0.16718466330270326, 0.5387061373087105, 0.14482286535038938, 0.7965257594271415, 0.25670615319475815, 0.6417653829868953, 0.9451035235859814, 0.9450990619679155, 0.9677852427737996, 0.20855460553733834, 0.3101581313119391, 0.3101581313119391, 0.05882309386950569, 0.1122986337508745, 0.9626048967977888, 0.9805134961564931, 0.3427327516670148, 0.5140991275005222, 0.07500255689313064, 0.7875268473778716, 0.15000511378626127, 0.4234072975862623, 0.5443808111823372, 0.5845506034795812, 0.108250111755478, 0.3031003129153384, 0.8521172949681673, 0.9681302717500694, 0.851878148571096, 0.9721748881661079, 0.01834292241822845, 0.9256792608088993, 0.7174938704321314, 0.07972154115912572, 0.19487487838897397, 0.8173907004883887, 0.1834958715382097, 0.982172374185918, 0.9747207667701674, 0.5918846907798649, 0.2731775495907069, 0.13203581563550834, 0.23968221346441326, 0.2832607977306702, 0.02178929213312848, 0.457575134795698, 0.6140763672591119, 0.34365741653950294, 0.016901184419975554, 0.022534912559967406, 0.927856023677982, 0.9704893117376426, 0.1381956403122402, 0.8291738418734411, 0.5251439077884451, 0.20105509612471897, 0.05101397961373467, 0.21906003010603708, 0.30397602282260533, 0.661594873202141, 0.03576188503795357, 0.9372618539547767, 0.9499818706233941, 0.9333120882026477, 0.2540556526576181, 0.345132207383934, 0.0287610172819945, 0.052728531683656585, 0.32116469298227196, 0.8760043312675497, 0.8980783707490212, 0.42271151500053666, 0.24627540439161702, 0.22422089056550207, 0.1029210645218698, 0.5905755337945113, 0.38709992971404944, 0.014888458835155747, 0.009925639223437165, 0.9216858121322359, 0.9587524677709498, 0.6275783732476421, 0.1113445500923236, 0.04048892730629949, 0.2226891001846472, 0.8720284059898621, 0.05450177537436638, 0.15999259808482372, 0.8319615100410833, 0.9422673621925141, 0.9797176852395968, 0.9427127834550743, 0.8942156761233989, 0.9181426416901892, 0.8231364772942319, 0.1613993092733788, 0.9724446053326798, 0.9747167714375373, 0.9718525283301034, 0.9827801247995158, 0.6218038103818316, 0.1402850060007791, 0.034123379838027344, 0.20094879237949437, 0.6771186508972701, 0.15443056950288617, 0.09503419661716071, 0.05939637288572545, 0.1892668823215544, 0.8086857699193688, 0.8388838763205695, 0.09869222074359642, 0.06579481382906427, 0.10019890013049818, 0.8015912010439854, 0.06679926675366546, 0.9095002802439379, 0.06345350792399566, 0.021151169307998555, 0.8981319093477999, 0.9500999717125298, 0.9500991631090654, 0.3650587371210387, 0.03650587371210387, 0.5267276064174987, 0.03129074889608903, 0.04172099852811871, 0.9353594829210128, 0.02527998602489224, 0.554818809667951, 0.19903813799747125, 0.007463930174905172, 0.07463930174905171, 0.1617184871229454, 0.8759750294233952, 0.9487400804717631, 0.4112890290595653, 0.5141112863244567, 0.9004464252458646, 0.09004464252458647, 0.951037109881338, 0.6555743432340915, 0.3385933421099154, 0.38932211224213004, 0.32161391880871615, 0.016927048358353482, 0.2708327737336557, 0.06745328769523226, 0.8768927400380195, 0.9827992324634386, 0.3447613565794025, 0.2279873487057339, 0.19462334645611432, 0.07506900506164409, 0.1584790106856931, 0.19867542744767622, 0.2445236030125246, 0.4431990304602008, 0.10697907631797951, 0.9631723481317542, 0.9375122856849368, 0.9607502696563905, 0.5330558074842101, 0.36582261297935986, 0.09406867190897826, 0.22572927138898294, 0.7336201320141945, 0.8665139299368958, 0.8665372319669876, 0.9681063206511614, 0.13806395929884369, 0.713330456377359, 0.13806395929884369, 0.29346121455099683, 0.5869224291019937, 0.9571329832966844, 0.7358115437259145, 0.13514905905169858, 0.07508281058427699, 0.04504968635056619, 0.9623448741335879, 0.5098640264923405, 0.04433600230368178, 0.23645867895296951, 0.20690134408384833, 0.9215904977951576, 0.9778182933165787, 0.014815428686614828, 0.10519279918327569, 0.549340173512662, 0.03506426639442523, 0.3038903087516853, 0.03797898537208369, 0.4177688390929206, 0.07595797074416738, 0.4557478244650043, 0.9740889030684711, 0.9624709532740336, 0.17457377759786197, 0.4509822587944768, 0.13093033319839648, 0.2327650367971493, 0.4268684440778603, 0.33067273837017347, 0.04809785285384341, 0.18637917980864321, 0.12802755593291035, 0.768165335597462, 0.9697553789712984, 0.027126024586609745, 0.6759119782450822, 0.15560563527944338, 0.16533098748440858, 0.27718769501927093, 0.7391671867180558, 0.32841192050129625, 0.3543391773829775, 0.31112708258017535, 0.3833480290036035, 0.10222614106762759, 0.511130705338138, 0.8761868650888037, 0.9561153145523174, 0.23959762130268283, 0.08984910798850607, 0.6588934585823778, 0.9686475216032426, 0.9793331620118106, 0.14571207477801845, 0.7285603738900922, 0.8842810106304306, 0.8760631776336489, 0.9258107281653868, 0.4268908561337111, 0.10361428546934734, 0.3191319992455898, 0.0746022855379301, 0.07874685695670398, 0.326692420372221, 0.653384840744442, 0.37308166710376034, 0.180888081020005, 0.1545085692045876, 0.22987860296292303, 0.06406452869458511, 0.8665269831145505, 0.9908193904997037, 0.5238653631427053, 0.016118934250544777, 0.31431921788562317, 0.10477307262854106, 0.040297335626361945, 0.9506449532008326, 0.34039809172166224, 0.0739995851568831, 0.02959983406275324, 0.5475969301609349, 0.10187840879844305, 0.32601090815501776, 0.5501434075115924, 0.3081039535067392, 0.6162079070134784, 0.9681196927211322, 0.25134256935026483, 0.1608592443841695, 0.20107405548021187, 0.35187959709037075, 0.030161108322031782, 0.9729088872700064, 0.32915280605285174, 0.08586594940509176, 0.32915280605285174, 0.06439946205381882, 0.19081322090020392, 0.9763262797606471, 0.12786608410176695, 0.8950625887123687, 0.19017205868183995, 0.32685822585941243, 0.4576015162031774, 0.023771507335229994, 0.15363013621055627, 0.6145205448422251, 0.19752446084214378, 0.02194716231579375, 0.4751610663135634, 0.4751610663135634, 0.9797169319634081, 0.9645245802383616, 0.9374944237764894, 0.7922711005369426, 0.176060244563765, 0.967515128102943, 0.2148663279835414, 0.600649053226718, 0.0439499307239062, 0.13673311780770817, 0.9574139872250057, 0.8107129184199313, 0.027955617876549356, 0.1397780893827468, 0.9567325058363031, 0.07942031811382956, 0.11913047717074433, 0.7942031811382956, 0.5019245073399926, 0.2220050705542275, 0.1914391550431382, 0.03539211269705076, 0.04987070425493516, 0.061798458463177545, 0.6674233514023175, 0.2595535255453457, 0.9065376969497165, 0.043168461759510314, 0.9425406923853771, 0.9574507447293258, 0.9567782243268799, 0.9625333595379828, 0.4340287826209929, 0.22449764618327223, 0.07483254872775741, 0.25443066567437517, 0.7478026508614377, 0.14791700786270198, 0.024652834643783664, 0.07395850393135099, 0.898134020081415, 0.9867308723249758, 0.8319649544941798, 0.1098821638011181, 0.0313949039431766, 0.02354617795738245, 0.9763139630547534, 0.9206164457373542, 0.01917950928619488, 0.03835901857238976, 0.990009662728141, 0.30161328731364623, 0.31134274819473157, 0.029188382643256086, 0.014594191321628043, 0.34539586127853034, 0.9450996753531481, 0.12900604685675707, 0.8600403123783804, 0.9427707347648556, 0.9421677925605056, 0.9282007303645907, 0.971869152942046, 0.918194349639032, 0.9499818706233941, 0.9704564592310481, 0.9064964666256279, 0.043166498410744186, 0.1023690116257696, 0.8189520930061568, 0.9567862724900402, 0.9332052235559101, 0.9500839219324801, 0.9820624881822049, 0.9364763598778163, 0.9768646081638049, 0.9738391852309309, 0.29479599362169906, 0.41970955024106305, 0.27980636682737536, 0.009993084529549121, 0.9573545139515693, 0.6133642252541978, 0.1392032284264846, 0.18705433819808867, 0.06090141243658701, 0.7579008734279699, 0.13421161300286966, 0.10263240994337092, 0.9421807564284655, 0.5864328060341862, 0.02186698598771542, 0.14909308627987786, 0.05764932669488611, 0.18487542698704854, 0.9916024708124735, 0.9372605711990925, 0.6528952866519518, 0.3395055490590149], \"Term\": [\"able\", \"able\", \"able\", \"able\", \"able\", \"access\", \"access\", \"accurate\", \"acre\", \"add\", \"add\", \"add\", \"additional\", \"additional\", \"additional\", \"additional\", \"additional\", \"adolescents\", \"afford\", \"afford\", \"aged\", \"allow\", \"allow\", \"allow\", \"ana\", \"anticipate\", \"apply\", \"apply\", \"apply\", \"approach\", \"asasah\", \"ask\", \"ask\", \"ask\", \"ask\", \"assist\", \"attain\", \"automate\", \"avoid\", \"avoid\", \"aware\", \"a\\u00f1os\", \"babban\", \"bai\", \"bear\", \"belong\", \"bless\", \"bless\", \"boost\", \"borrow\", \"borrow\", \"borrow\", \"br\", \"br\", \"brac\", \"brac\", \"build\", \"build\", \"build\", \"build\", \"build\", \"call\", \"call\", \"cambodia\", \"can\", \"cater\", \"cater\", \"change\", \"colombia\", \"communal\", \"communal\", \"como\", \"comprise\", \"con\", \"continue\", \"continue\", \"continue\", \"continue\", \"continue\", \"cook\", \"cook\", \"cook\", \"cook\", \"cooperative\", \"costly\", \"cover\", \"cover\", \"cover\", \"cover\", \"cusco\", \"de\", \"describe\", \"describe\", \"determined\", \"district\", \"domingo\", \"earn\", \"earn\", \"earn\", \"earn\", \"earn\", \"el\", \"ela\", \"ella\", \"empowerment\", \"en\", \"enable\", \"enable\", \"enable\", \"engage\", \"engage\", \"engage\", \"english\", \"english\", \"entire\", \"entire\", \"es\", \"esposo\", \"establish\", \"expand\", \"expand\", \"expand\", \"expand\", \"expand\", \"extend\", \"fatten\", \"favorable\", \"favorable\", \"feed\", \"feed\", \"feed\", \"finance\", \"finance\", \"financial\", \"financial\", \"financial\", \"free\", \"fresh\", \"fry\", \"fund\", \"fund\", \"gdmpc\", \"general\", \"general\", \"general\", \"get\", \"get\", \"god\", \"gona\", \"good\", \"good\", \"good\", \"group\", \"group\", \"group\", \"group\", \"grow\", \"grow\", \"grow\", \"grow\", \"hace\", \"hand\", \"healthy\", \"healthy\", \"help\", \"help\", \"help\", \"help\", \"high\", \"high\", \"high\", \"hijos\", \"hoa\", \"hold\", \"hope\", \"hope\", \"hope\", \"hope\", \"hope\", \"hygienic\", \"idr\", \"improve\", \"improve\", \"improve\", \"improve\", \"increase\", \"increase\", \"increase\", \"increase\", \"inspire\", \"interactuar\", \"invest\", \"invest\", \"invest\", \"invest\", \"jane\", \"jane\", \"join\", \"join\", \"judith\", \"juhudi\", \"kadet\", \"kandal\", \"kbmi\", \"kenya\", \"kenya\", \"kenyan\", \"kes\", \"kgs\", \"kilimo\", \"kiva\", \"kiva\", \"kiva\", \"kiva\", \"know\", \"know\", \"know\", \"know\", \"la\", \"la\", \"large\", \"large\", \"large\", \"lead\", \"lead\", \"lead\", \"learn\", \"learn\", \"learn\", \"lending\", \"leone\", \"let\", \"like\", \"like\", \"like\", \"like\", \"like\", \"little\", \"little\", \"live\", \"live\", \"live\", \"live\", \"live\", \"livelihood\", \"los\", \"luis\", \"luis\", \"maintain\", \"maintain\", \"major\", \"make\", \"make\", \"manage\", \"manage\", \"manage\", \"manage\", \"manual\", \"manual\", \"margaret\", \"married\", \"married\", \"married\", \"married\", \"married\", \"marry\", \"marry\", \"marry\", \"marry\", \"martha\", \"maximize\", \"medical\", \"meet\", \"meet\", \"meet\", \"microfinance\", \"microfinance\", \"mindanao\", \"misamis\", \"mixed\", \"monthly\", \"monthly\", \"monthly\", \"move\", \"move\", \"nan\", \"need\", \"need\", \"need\", \"need\", \"negocio\", \"new\", \"new\", \"new\", \"new\", \"nigeria\", \"offer\", \"offer\", \"operate\", \"operate\", \"operate\", \"operate\", \"p\", \"p\", \"p\", \"p\", \"pakistan\", \"para\", \"past\", \"past\", \"past\", \"past\", \"pay\", \"pay\", \"pay\", \"pay\", \"permanent\", \"permanent\", \"philippines\", \"philippines\", \"php\", \"php\", \"php\", \"picture\", \"picture\", \"plan\", \"plan\", \"plan\", \"plant\", \"plant\", \"plant\", \"play\", \"pmpc\", \"poor\", \"poor\", \"poor\", \"post\", \"prepare\", \"progress\", \"progress\", \"progressive\", \"promote\", \"proud\", \"provide\", \"provide\", \"provide\", \"provide\", \"provide\", \"province\", \"province\", \"purchase\", \"purchase\", \"purchase\", \"purchase\", \"purchase\", \"purpose\", \"que\", \"raise\", \"raise\", \"raise\", \"raise\", \"raise\", \"reap\", \"receive\", \"receive\", \"receive\", \"receive\", \"reduce\", \"reduce\", \"reduce\", \"remain\", \"remain\", \"remote\", \"repay\", \"repay\", \"repay\", \"repay\", \"repay\", \"represent\", \"request\", \"request\", \"request\", \"request\", \"request\", \"reside\", \"rs\", \"rs\", \"run\", \"run\", \"run\", \"run\", \"rural\", \"rural\", \"rural\", \"rural\", \"safe\", \"safe\", \"safeguard\", \"sanitary\", \"santo\", \"sari\", \"sari\", \"satisfy\", \"save\", \"save\", \"save\", \"save\", \"se\", \"second\", \"second\", \"second\", \"secondary\", \"secure\", \"secure\", \"secure\", \"sell\", \"sell\", \"sell\", \"sell\", \"sell\", \"send\", \"send\", \"send\", \"serve\", \"serve\", \"sew\", \"se\\u00f1ora\", \"show\", \"sierra\", \"single\", \"single\", \"single\", \"single\", \"small\", \"small\", \"small\", \"small\", \"smep\", \"solar\", \"start\", \"start\", \"start\", \"start\", \"store\", \"study\", \"study\", \"study\", \"su\", \"support\", \"support\", \"support\", \"support\", \"support\", \"sus\", \"sustain\", \"sustain\", \"sustainable\", \"tajikistan\", \"tanzania\", \"teach\", \"team\", \"thanh\", \"tiene\", \"traditional\", \"traditional\", \"train\", \"train\", \"trust\", \"tujijenge\", \"tushum\", \"uganda\", \"ugandan\", \"un\", \"una\", \"use\", \"use\", \"use\", \"use\", \"visionfund\", \"want\", \"want\", \"want\", \"want\", \"well\", \"well\", \"well\", \"word\", \"work\", \"work\", \"work\", \"work\", \"work\", \"y\", \"ya\", \"young\", \"young\"]}, \"R\": 30, \"lambda.step\": 0.01, \"plot.opts\": {\"xlab\": \"PC1\", \"ylab\": \"PC2\"}, \"topic.order\": [3, 5, 1, 2, 4]};\n",
       "\n",
       "function LDAvis_load_lib(url, callback){\n",
       "  var s = document.createElement('script');\n",
       "  s.src = url;\n",
       "  s.async = true;\n",
       "  s.onreadystatechange = s.onload = callback;\n",
       "  s.onerror = function(){console.warn(\"failed to load library \" + url);};\n",
       "  document.getElementsByTagName(\"head\")[0].appendChild(s);\n",
       "}\n",
       "\n",
       "if(typeof(LDAvis) !== \"undefined\"){\n",
       "   // already loaded: just create the visualization\n",
       "   !function(LDAvis){\n",
       "       new LDAvis(\"#\" + \"ldavis_el1533220087896552169109323033\", ldavis_el1533220087896552169109323033_data);\n",
       "   }(LDAvis);\n",
       "}else if(typeof define === \"function\" && define.amd){\n",
       "   // require.js is available: use it to load d3/LDAvis\n",
       "   require.config({paths: {d3: \"https://d3js.org/d3.v5\"}});\n",
       "   require([\"d3\"], function(d3){\n",
       "      window.d3 = d3;\n",
       "      LDAvis_load_lib(\"https://cdn.jsdelivr.net/gh/bmabey/pyLDAvis@3.3.1/pyLDAvis/js/ldavis.v3.0.0.js\", function(){\n",
       "        new LDAvis(\"#\" + \"ldavis_el1533220087896552169109323033\", ldavis_el1533220087896552169109323033_data);\n",
       "      });\n",
       "    });\n",
       "}else{\n",
       "    // require.js not available: dynamically load d3 & LDAvis\n",
       "    LDAvis_load_lib(\"https://d3js.org/d3.v5.js\", function(){\n",
       "         LDAvis_load_lib(\"https://cdn.jsdelivr.net/gh/bmabey/pyLDAvis@3.3.1/pyLDAvis/js/ldavis.v3.0.0.js\", function(){\n",
       "                 new LDAvis(\"#\" + \"ldavis_el1533220087896552169109323033\", ldavis_el1533220087896552169109323033_data);\n",
       "            })\n",
       "         });\n",
       "}\n",
       "</script>"
      ],
      "text/plain": [
       "<IPython.core.display.HTML object>"
      ]
     },
     "execution_count": 44,
     "metadata": {},
     "output_type": "execute_result"
    }
   ],
   "source": [
    "lda_display = pyLDAvis.gensim_models.prepare(lda_model, corpus, dictionary)\n",
    "pyLDAvis.display(lda_display)"
   ]
  },
  {
   "cell_type": "code",
   "execution_count": 45,
   "id": "4000be3c",
   "metadata": {},
   "outputs": [],
   "source": [
    "loandfs['topic'] = [sorted(lda_model[corpus][text])[0][0] for text in range(len(loandfs['DESCRIPTION_TRANSLATED']))]"
   ]
  },
  {
   "cell_type": "code",
   "execution_count": 46,
   "id": "4bb3702a",
   "metadata": {},
   "outputs": [
    {
     "data": {
      "text/plain": [
       "0    685\n",
       "2    150\n",
       "1    113\n",
       "4     38\n",
       "3     14\n",
       "Name: topic, dtype: int64"
      ]
     },
     "execution_count": 46,
     "metadata": {},
     "output_type": "execute_result"
    }
   ],
   "source": [
    "loandfs.topic.value_counts()"
   ]
  },
  {
   "cell_type": "code",
   "execution_count": null,
   "id": "5e615b4d",
   "metadata": {},
   "outputs": [],
   "source": []
  },
  {
   "cell_type": "code",
   "execution_count": null,
   "id": "524c998e",
   "metadata": {},
   "outputs": [],
   "source": []
  },
  {
   "cell_type": "code",
   "execution_count": null,
   "id": "b3372af2",
   "metadata": {},
   "outputs": [],
   "source": []
  }
 ],
 "metadata": {
  "kernelspec": {
   "display_name": "Python 3 (ipykernel)",
   "language": "python",
   "name": "python3"
  },
  "language_info": {
   "codemirror_mode": {
    "name": "ipython",
    "version": 3
   },
   "file_extension": ".py",
   "mimetype": "text/x-python",
   "name": "python",
   "nbconvert_exporter": "python",
   "pygments_lexer": "ipython3",
   "version": "3.9.13"
  }
 },
 "nbformat": 4,
 "nbformat_minor": 5
}
