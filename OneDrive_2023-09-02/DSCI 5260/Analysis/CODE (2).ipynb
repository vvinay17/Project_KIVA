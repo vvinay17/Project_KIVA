{
 "cells": [
  {
   "cell_type": "code",
   "execution_count": 34,
   "metadata": {},
   "outputs": [],
   "source": [
    "import pandas as pd\n",
    "import numpy as np"
   ]
  },
  {
   "cell_type": "code",
   "execution_count": 35,
   "metadata": {},
   "outputs": [],
   "source": [
    "loans = pd.read_csv(\"loans.csv\")\n",
    "lenders = pd.read_csv('lenders.csv')\n",
    "loans_lenders = pd.read_csv('loans_lenders.csv')"
   ]
  },
  {
   "cell_type": "code",
   "execution_count": 36,
   "metadata": {},
   "outputs": [
    {
     "name": "stdout",
     "output_type": "stream",
     "text": [
      "<class 'pandas.core.frame.DataFrame'>\n",
      "RangeIndex: 2131078 entries, 0 to 2131077\n",
      "Data columns (total 2 columns):\n",
      " #   Column   Dtype \n",
      "---  ------   ----- \n",
      " 0   LOAN_ID  int64 \n",
      " 1   LENDERS  object\n",
      "dtypes: int64(1), object(1)\n",
      "memory usage: 32.5+ MB\n"
     ]
    }
   ],
   "source": [
    "loans_lenders.info()"
   ]
  },
  {
   "cell_type": "code",
   "execution_count": 37,
   "metadata": {},
   "outputs": [
    {
     "name": "stdout",
     "output_type": "stream",
     "text": [
      "<class 'pandas.core.frame.DataFrame'>\n",
      "RangeIndex: 20872 entries, 0 to 20871\n",
      "Data columns (total 34 columns):\n",
      " #   Column                           Non-Null Count  Dtype  \n",
      "---  ------                           --------------  -----  \n",
      " 0   LOAN_ID                          20872 non-null  int64  \n",
      " 1   LOAN_NAME                        20371 non-null  object \n",
      " 2   ORIGINAL_LANGUAGE                20416 non-null  object \n",
      " 3   DESCRIPTION                      20416 non-null  object \n",
      " 4   DESCRIPTION_TRANSLATED           16314 non-null  object \n",
      " 5   FUNDED_AMOUNT                    20872 non-null  int64  \n",
      " 6   LOAN_AMOUNT                      20872 non-null  int64  \n",
      " 7   STATUS                           20872 non-null  object \n",
      " 8   IMAGE_ID                         20416 non-null  float64\n",
      " 9   VIDEO_ID                         13 non-null     float64\n",
      " 10  ACTIVITY_NAME                    20872 non-null  object \n",
      " 11  SECTOR_NAME                      20872 non-null  object \n",
      " 12  LOAN_USE                         20416 non-null  object \n",
      " 13  COUNTRY_CODE                     20872 non-null  object \n",
      " 14  COUNTRY_NAME                     20872 non-null  object \n",
      " 15  TOWN_NAME                        19099 non-null  object \n",
      " 16  CURRENCY_POLICY                  20872 non-null  object \n",
      " 17  CURRENCY_EXCHANGE_COVERAGE_RATE  16153 non-null  float64\n",
      " 18  CURRENCY                         20872 non-null  object \n",
      " 19  PARTNER_ID                       20668 non-null  float64\n",
      " 20  POSTED_TIME                      20872 non-null  object \n",
      " 21  PLANNED_EXPIRATION_TIME          17213 non-null  object \n",
      " 22  DISBURSE_TIME                    20838 non-null  object \n",
      " 23  RAISED_TIME                      19838 non-null  object \n",
      " 24  LENDER_TERM                      20872 non-null  int64  \n",
      " 25  NUM_LENDERS_TOTAL                20872 non-null  int64  \n",
      " 26  NUM_JOURNAL_ENTRIES              20872 non-null  int64  \n",
      " 27  NUM_BULK_ENTRIES                 20872 non-null  int64  \n",
      " 28  TAGS                             11519 non-null  object \n",
      " 29  BORROWER_NAMES                   20371 non-null  object \n",
      " 30  BORROWER_GENDERS                 20416 non-null  object \n",
      " 31  BORROWER_PICTURED                20416 non-null  object \n",
      " 32  REPAYMENT_INTERVAL               20872 non-null  object \n",
      " 33  DISTRIBUTION_MODEL               20872 non-null  object \n",
      "dtypes: float64(4), int64(7), object(23)\n",
      "memory usage: 5.4+ MB\n"
     ]
    }
   ],
   "source": [
    "loans.info()\n"
   ]
  },
  {
   "cell_type": "code",
   "execution_count": 38,
   "metadata": {},
   "outputs": [
    {
     "name": "stdout",
     "output_type": "stream",
     "text": [
      "<class 'pandas.core.frame.DataFrame'>\n",
      "RangeIndex: 1578579 entries, 0 to 1578578\n",
      "Data columns (total 14 columns):\n",
      " #   Column             Non-Null Count    Dtype  \n",
      "---  ------             --------------    -----  \n",
      " 0   PERMANENT_NAME     1578579 non-null  object \n",
      " 1   DISPLAY_NAME       1576973 non-null  object \n",
      " 2   MAIN_PIC_ID        517538 non-null   float64\n",
      " 3   CITY               545446 non-null   object \n",
      " 4   STATE              510167 non-null   object \n",
      " 5   COUNTRY_CODE       667850 non-null   object \n",
      " 6   MEMBER_SINCE       1578579 non-null  int64  \n",
      " 7   PERSONAL_URL       48907 non-null    object \n",
      " 8   OCCUPATION         337438 non-null   object \n",
      " 9   LOAN_BECAUSE       152734 non-null   object \n",
      " 10  OTHER_INFO         88004 non-null    object \n",
      " 11  LOAN_PURCHASE_NUM  1578579 non-null  int64  \n",
      " 12  INVITED_BY         416307 non-null   object \n",
      " 13  NUM_INVITED        1578579 non-null  int64  \n",
      "dtypes: float64(1), int64(3), object(10)\n",
      "memory usage: 168.6+ MB\n"
     ]
    }
   ],
   "source": [
    "lenders.info()\n"
   ]
  },
  {
   "cell_type": "code",
   "execution_count": 39,
   "metadata": {},
   "outputs": [
    {
     "data": {
      "text/plain": [
       "LOAN_ID                                0\n",
       "LOAN_NAME                            501\n",
       "ORIGINAL_LANGUAGE                    456\n",
       "DESCRIPTION                          456\n",
       "DESCRIPTION_TRANSLATED              4558\n",
       "FUNDED_AMOUNT                          0\n",
       "LOAN_AMOUNT                            0\n",
       "STATUS                                 0\n",
       "IMAGE_ID                             456\n",
       "VIDEO_ID                           20859\n",
       "ACTIVITY_NAME                          0\n",
       "SECTOR_NAME                            0\n",
       "LOAN_USE                             456\n",
       "COUNTRY_CODE                           0\n",
       "COUNTRY_NAME                           0\n",
       "TOWN_NAME                           1773\n",
       "CURRENCY_POLICY                        0\n",
       "CURRENCY_EXCHANGE_COVERAGE_RATE     4719\n",
       "CURRENCY                               0\n",
       "PARTNER_ID                           204\n",
       "POSTED_TIME                            0\n",
       "PLANNED_EXPIRATION_TIME             3659\n",
       "DISBURSE_TIME                         34\n",
       "RAISED_TIME                         1034\n",
       "LENDER_TERM                            0\n",
       "NUM_LENDERS_TOTAL                      0\n",
       "NUM_JOURNAL_ENTRIES                    0\n",
       "NUM_BULK_ENTRIES                       0\n",
       "TAGS                                9353\n",
       "BORROWER_NAMES                       501\n",
       "BORROWER_GENDERS                     456\n",
       "BORROWER_PICTURED                    456\n",
       "REPAYMENT_INTERVAL                     0\n",
       "DISTRIBUTION_MODEL                     0\n",
       "dtype: int64"
      ]
     },
     "execution_count": 39,
     "metadata": {},
     "output_type": "execute_result"
    }
   ],
   "source": [
    "#The missing values in loan data frame is found like these\n",
    "loans.isnull().sum()"
   ]
  },
  {
   "cell_type": "code",
   "execution_count": 40,
   "metadata": {},
   "outputs": [
    {
     "data": {
      "text/plain": [
       "funded         19779\n",
       "expired          931\n",
       "refunded          85\n",
       "fundRaising       77\n",
       "Name: STATUS, dtype: int64"
      ]
     },
     "execution_count": 40,
     "metadata": {},
     "output_type": "execute_result"
    }
   ],
   "source": [
    "loans['STATUS'].unique()\n",
    "loans['STATUS'].value_counts()"
   ]
  },
  {
   "cell_type": "code",
   "execution_count": 41,
   "metadata": {},
   "outputs": [
    {
     "data": {
      "text/plain": [
       "funded         0.947633\n",
       "expired        0.044605\n",
       "refunded       0.004072\n",
       "fundRaising    0.003689\n",
       "Name: STATUS, dtype: float64"
      ]
     },
     "execution_count": 41,
     "metadata": {},
     "output_type": "execute_result"
    }
   ],
   "source": [
    "loans['STATUS'].value_counts(normalize=True)"
   ]
  },
  {
   "cell_type": "code",
   "execution_count": 42,
   "metadata": {},
   "outputs": [
    {
     "data": {
      "text/html": [
       "<div>\n",
       "<style scoped>\n",
       "    .dataframe tbody tr th:only-of-type {\n",
       "        vertical-align: middle;\n",
       "    }\n",
       "\n",
       "    .dataframe tbody tr th {\n",
       "        vertical-align: top;\n",
       "    }\n",
       "\n",
       "    .dataframe thead th {\n",
       "        text-align: right;\n",
       "    }\n",
       "</style>\n",
       "<table border=\"1\" class=\"dataframe\">\n",
       "  <thead>\n",
       "    <tr style=\"text-align: right;\">\n",
       "      <th></th>\n",
       "      <th>LOAN_ID</th>\n",
       "      <th>LOAN_NAME</th>\n",
       "      <th>ORIGINAL_LANGUAGE</th>\n",
       "      <th>DESCRIPTION</th>\n",
       "      <th>DESCRIPTION_TRANSLATED</th>\n",
       "      <th>FUNDED_AMOUNT</th>\n",
       "      <th>LOAN_AMOUNT</th>\n",
       "      <th>STATUS</th>\n",
       "      <th>IMAGE_ID</th>\n",
       "      <th>VIDEO_ID</th>\n",
       "      <th>...</th>\n",
       "      <th>LENDER_TERM</th>\n",
       "      <th>NUM_LENDERS_TOTAL</th>\n",
       "      <th>NUM_JOURNAL_ENTRIES</th>\n",
       "      <th>NUM_BULK_ENTRIES</th>\n",
       "      <th>TAGS</th>\n",
       "      <th>BORROWER_NAMES</th>\n",
       "      <th>BORROWER_GENDERS</th>\n",
       "      <th>BORROWER_PICTURED</th>\n",
       "      <th>REPAYMENT_INTERVAL</th>\n",
       "      <th>DISTRIBUTION_MODEL</th>\n",
       "    </tr>\n",
       "  </thead>\n",
       "  <tbody>\n",
       "    <tr>\n",
       "      <th>0</th>\n",
       "      <td>1570258</td>\n",
       "      <td>Manvel</td>\n",
       "      <td>English</td>\n",
       "      <td>Meet Manvel, a young and inspiring farmer from...</td>\n",
       "      <td>Meet Manvel, a young and inspiring farmer from...</td>\n",
       "      <td>2500</td>\n",
       "      <td>2500</td>\n",
       "      <td>funded</td>\n",
       "      <td>2900454.0</td>\n",
       "      <td>NaN</td>\n",
       "      <td>...</td>\n",
       "      <td>30</td>\n",
       "      <td>81</td>\n",
       "      <td>1</td>\n",
       "      <td>1</td>\n",
       "      <td>#Biz Durable Asset, #Single, user_favorite, #S...</td>\n",
       "      <td>Manvel</td>\n",
       "      <td>male</td>\n",
       "      <td>TRUE</td>\n",
       "      <td>irregular</td>\n",
       "      <td>field_partner</td>\n",
       "    </tr>\n",
       "    <tr>\n",
       "      <th>1</th>\n",
       "      <td>240272</td>\n",
       "      <td>Jargalsaihan</td>\n",
       "      <td>English</td>\n",
       "      <td>Jargalsaihan D. is 42 years old and lives with...</td>\n",
       "      <td>NaN</td>\n",
       "      <td>1250</td>\n",
       "      <td>1250</td>\n",
       "      <td>funded</td>\n",
       "      <td>621951.0</td>\n",
       "      <td>NaN</td>\n",
       "      <td>...</td>\n",
       "      <td>26</td>\n",
       "      <td>38</td>\n",
       "      <td>3</td>\n",
       "      <td>2</td>\n",
       "      <td>NaN</td>\n",
       "      <td>Jargalsaihan</td>\n",
       "      <td>male</td>\n",
       "      <td>TRUE</td>\n",
       "      <td>monthly</td>\n",
       "      <td>field_partner</td>\n",
       "    </tr>\n",
       "    <tr>\n",
       "      <th>2</th>\n",
       "      <td>270125</td>\n",
       "      <td>SERGIO</td>\n",
       "      <td>Spanish</td>\n",
       "      <td>Sergio, reside en Lolotique departamento de Sa...</td>\n",
       "      <td>Sergio lives in Lolotique in the department of...</td>\n",
       "      <td>1000</td>\n",
       "      <td>1000</td>\n",
       "      <td>funded</td>\n",
       "      <td>704953.0</td>\n",
       "      <td>NaN</td>\n",
       "      <td>...</td>\n",
       "      <td>20</td>\n",
       "      <td>35</td>\n",
       "      <td>1</td>\n",
       "      <td>1</td>\n",
       "      <td>NaN</td>\n",
       "      <td>SERGIO</td>\n",
       "      <td>male</td>\n",
       "      <td>TRUE</td>\n",
       "      <td>monthly</td>\n",
       "      <td>field_partner</td>\n",
       "    </tr>\n",
       "    <tr>\n",
       "      <th>3</th>\n",
       "      <td>709842</td>\n",
       "      <td>Ahmad</td>\n",
       "      <td>English</td>\n",
       "      <td>Ahmad is a 25–year-old single man, and is the ...</td>\n",
       "      <td>Ahmad is a 25–year-old single man, and is the ...</td>\n",
       "      <td>2000</td>\n",
       "      <td>2000</td>\n",
       "      <td>funded</td>\n",
       "      <td>1604084.0</td>\n",
       "      <td>NaN</td>\n",
       "      <td>...</td>\n",
       "      <td>14</td>\n",
       "      <td>37</td>\n",
       "      <td>2</td>\n",
       "      <td>1</td>\n",
       "      <td>user_favorite</td>\n",
       "      <td>Ahmad</td>\n",
       "      <td>male</td>\n",
       "      <td>TRUE</td>\n",
       "      <td>monthly</td>\n",
       "      <td>field_partner</td>\n",
       "    </tr>\n",
       "    <tr>\n",
       "      <th>4</th>\n",
       "      <td>223631</td>\n",
       "      <td>Patricia</td>\n",
       "      <td>English</td>\n",
       "      <td>Patricia is 25 years old and her husband is a ...</td>\n",
       "      <td>NaN</td>\n",
       "      <td>525</td>\n",
       "      <td>525</td>\n",
       "      <td>funded</td>\n",
       "      <td>585526.0</td>\n",
       "      <td>NaN</td>\n",
       "      <td>...</td>\n",
       "      <td>6</td>\n",
       "      <td>11</td>\n",
       "      <td>1</td>\n",
       "      <td>1</td>\n",
       "      <td>NaN</td>\n",
       "      <td>Patricia</td>\n",
       "      <td>female</td>\n",
       "      <td>TRUE</td>\n",
       "      <td>monthly</td>\n",
       "      <td>field_partner</td>\n",
       "    </tr>\n",
       "    <tr>\n",
       "      <th>...</th>\n",
       "      <td>...</td>\n",
       "      <td>...</td>\n",
       "      <td>...</td>\n",
       "      <td>...</td>\n",
       "      <td>...</td>\n",
       "      <td>...</td>\n",
       "      <td>...</td>\n",
       "      <td>...</td>\n",
       "      <td>...</td>\n",
       "      <td>...</td>\n",
       "      <td>...</td>\n",
       "      <td>...</td>\n",
       "      <td>...</td>\n",
       "      <td>...</td>\n",
       "      <td>...</td>\n",
       "      <td>...</td>\n",
       "      <td>...</td>\n",
       "      <td>...</td>\n",
       "      <td>...</td>\n",
       "      <td>...</td>\n",
       "      <td>...</td>\n",
       "    </tr>\n",
       "    <tr>\n",
       "      <th>20867</th>\n",
       "      <td>924772</td>\n",
       "      <td>Alaysa</td>\n",
       "      <td>English</td>\n",
       "      <td>Alaysa is happy and thankful for the continuou...</td>\n",
       "      <td>Alaysa is happy and thankful for the continuou...</td>\n",
       "      <td>550</td>\n",
       "      <td>550</td>\n",
       "      <td>funded</td>\n",
       "      <td>1810272.0</td>\n",
       "      <td>NaN</td>\n",
       "      <td>...</td>\n",
       "      <td>8</td>\n",
       "      <td>22</td>\n",
       "      <td>2</td>\n",
       "      <td>1</td>\n",
       "      <td>#Woman-Owned Business, #Repeat Borrower, #Parent</td>\n",
       "      <td>Alaysa</td>\n",
       "      <td>female</td>\n",
       "      <td>TRUE</td>\n",
       "      <td>monthly</td>\n",
       "      <td>field_partner</td>\n",
       "    </tr>\n",
       "    <tr>\n",
       "      <th>20868</th>\n",
       "      <td>1925244</td>\n",
       "      <td>Jorrie Ann</td>\n",
       "      <td>English</td>\n",
       "      <td>Jorrie Ann is 20 years old and single with two...</td>\n",
       "      <td>Jorrie Ann is 20 years old and single with two...</td>\n",
       "      <td>100</td>\n",
       "      <td>100</td>\n",
       "      <td>funded</td>\n",
       "      <td>3378550.0</td>\n",
       "      <td>NaN</td>\n",
       "      <td>...</td>\n",
       "      <td>8</td>\n",
       "      <td>3</td>\n",
       "      <td>1</td>\n",
       "      <td>1</td>\n",
       "      <td>NaN</td>\n",
       "      <td>Jorrie Ann</td>\n",
       "      <td>female</td>\n",
       "      <td>TRUE</td>\n",
       "      <td>monthly</td>\n",
       "      <td>field_partner</td>\n",
       "    </tr>\n",
       "    <tr>\n",
       "      <th>20869</th>\n",
       "      <td>374966</td>\n",
       "      <td>NaN</td>\n",
       "      <td>NaN</td>\n",
       "      <td>NaN</td>\n",
       "      <td>NaN</td>\n",
       "      <td>1200</td>\n",
       "      <td>1200</td>\n",
       "      <td>funded</td>\n",
       "      <td>NaN</td>\n",
       "      <td>NaN</td>\n",
       "      <td>...</td>\n",
       "      <td>15</td>\n",
       "      <td>38</td>\n",
       "      <td>2</td>\n",
       "      <td>1</td>\n",
       "      <td>NaN</td>\n",
       "      <td>NaN</td>\n",
       "      <td>NaN</td>\n",
       "      <td>NaN</td>\n",
       "      <td>monthly</td>\n",
       "      <td>field_partner</td>\n",
       "    </tr>\n",
       "    <tr>\n",
       "      <th>20870</th>\n",
       "      <td>1227071</td>\n",
       "      <td>Maria del Carmen</td>\n",
       "      <td>Spanish</td>\n",
       "      <td>Doña Maria, tiene 67 años de edad, es madre so...</td>\n",
       "      <td>Maria is 67 years old. She is a single mother ...</td>\n",
       "      <td>525</td>\n",
       "      <td>525</td>\n",
       "      <td>funded</td>\n",
       "      <td>2425909.0</td>\n",
       "      <td>NaN</td>\n",
       "      <td>...</td>\n",
       "      <td>20</td>\n",
       "      <td>18</td>\n",
       "      <td>2</td>\n",
       "      <td>1</td>\n",
       "      <td>#Elderly, #Single, #Woman-Owned Business, #Rep...</td>\n",
       "      <td>Maria del Carmen</td>\n",
       "      <td>female</td>\n",
       "      <td>TRUE</td>\n",
       "      <td>monthly</td>\n",
       "      <td>field_partner</td>\n",
       "    </tr>\n",
       "    <tr>\n",
       "      <th>20871</th>\n",
       "      <td>1763941</td>\n",
       "      <td>Ruby</td>\n",
       "      <td>English</td>\n",
       "      <td>Ruby is a 39-year-old businesswoman from Talav...</td>\n",
       "      <td>Ruby is a 39-year-old businesswoman from Talav...</td>\n",
       "      <td>400</td>\n",
       "      <td>400</td>\n",
       "      <td>funded</td>\n",
       "      <td>3156524.0</td>\n",
       "      <td>NaN</td>\n",
       "      <td>...</td>\n",
       "      <td>14</td>\n",
       "      <td>10</td>\n",
       "      <td>1</td>\n",
       "      <td>1</td>\n",
       "      <td>#Parent, user_favorite, #Health and Sanitation...</td>\n",
       "      <td>Ruby</td>\n",
       "      <td>female</td>\n",
       "      <td>TRUE</td>\n",
       "      <td>monthly</td>\n",
       "      <td>field_partner</td>\n",
       "    </tr>\n",
       "  </tbody>\n",
       "</table>\n",
       "<p>20872 rows × 34 columns</p>\n",
       "</div>"
      ],
      "text/plain": [
       "       LOAN_ID         LOAN_NAME ORIGINAL_LANGUAGE  \\\n",
       "0      1570258            Manvel           English   \n",
       "1       240272      Jargalsaihan           English   \n",
       "2       270125            SERGIO           Spanish   \n",
       "3       709842             Ahmad           English   \n",
       "4       223631          Patricia           English   \n",
       "...        ...               ...               ...   \n",
       "20867   924772            Alaysa           English   \n",
       "20868  1925244        Jorrie Ann           English   \n",
       "20869   374966               NaN               NaN   \n",
       "20870  1227071  Maria del Carmen           Spanish   \n",
       "20871  1763941             Ruby            English   \n",
       "\n",
       "                                             DESCRIPTION  \\\n",
       "0      Meet Manvel, a young and inspiring farmer from...   \n",
       "1      Jargalsaihan D. is 42 years old and lives with...   \n",
       "2      Sergio, reside en Lolotique departamento de Sa...   \n",
       "3      Ahmad is a 25–year-old single man, and is the ...   \n",
       "4      Patricia is 25 years old and her husband is a ...   \n",
       "...                                                  ...   \n",
       "20867  Alaysa is happy and thankful for the continuou...   \n",
       "20868  Jorrie Ann is 20 years old and single with two...   \n",
       "20869                                                NaN   \n",
       "20870  Doña Maria, tiene 67 años de edad, es madre so...   \n",
       "20871  Ruby is a 39-year-old businesswoman from Talav...   \n",
       "\n",
       "                                  DESCRIPTION_TRANSLATED  FUNDED_AMOUNT  \\\n",
       "0      Meet Manvel, a young and inspiring farmer from...           2500   \n",
       "1                                                    NaN           1250   \n",
       "2      Sergio lives in Lolotique in the department of...           1000   \n",
       "3      Ahmad is a 25–year-old single man, and is the ...           2000   \n",
       "4                                                    NaN            525   \n",
       "...                                                  ...            ...   \n",
       "20867  Alaysa is happy and thankful for the continuou...            550   \n",
       "20868  Jorrie Ann is 20 years old and single with two...            100   \n",
       "20869                                                NaN           1200   \n",
       "20870  Maria is 67 years old. She is a single mother ...            525   \n",
       "20871  Ruby is a 39-year-old businesswoman from Talav...            400   \n",
       "\n",
       "       LOAN_AMOUNT  STATUS   IMAGE_ID  VIDEO_ID  ... LENDER_TERM  \\\n",
       "0             2500  funded  2900454.0       NaN  ...          30   \n",
       "1             1250  funded   621951.0       NaN  ...          26   \n",
       "2             1000  funded   704953.0       NaN  ...          20   \n",
       "3             2000  funded  1604084.0       NaN  ...          14   \n",
       "4              525  funded   585526.0       NaN  ...           6   \n",
       "...            ...     ...        ...       ...  ...         ...   \n",
       "20867          550  funded  1810272.0       NaN  ...           8   \n",
       "20868          100  funded  3378550.0       NaN  ...           8   \n",
       "20869         1200  funded        NaN       NaN  ...          15   \n",
       "20870          525  funded  2425909.0       NaN  ...          20   \n",
       "20871          400  funded  3156524.0       NaN  ...          14   \n",
       "\n",
       "      NUM_LENDERS_TOTAL NUM_JOURNAL_ENTRIES NUM_BULK_ENTRIES  \\\n",
       "0                    81                   1                1   \n",
       "1                    38                   3                2   \n",
       "2                    35                   1                1   \n",
       "3                    37                   2                1   \n",
       "4                    11                   1                1   \n",
       "...                 ...                 ...              ...   \n",
       "20867                22                   2                1   \n",
       "20868                 3                   1                1   \n",
       "20869                38                   2                1   \n",
       "20870                18                   2                1   \n",
       "20871                10                   1                1   \n",
       "\n",
       "                                                    TAGS    BORROWER_NAMES  \\\n",
       "0      #Biz Durable Asset, #Single, user_favorite, #S...            Manvel   \n",
       "1                                                    NaN      Jargalsaihan   \n",
       "2                                                    NaN            SERGIO   \n",
       "3                                          user_favorite             Ahmad   \n",
       "4                                                    NaN          Patricia   \n",
       "...                                                  ...               ...   \n",
       "20867   #Woman-Owned Business, #Repeat Borrower, #Parent            Alaysa   \n",
       "20868                                                NaN        Jorrie Ann   \n",
       "20869                                                NaN               NaN   \n",
       "20870  #Elderly, #Single, #Woman-Owned Business, #Rep...  Maria del Carmen   \n",
       "20871  #Parent, user_favorite, #Health and Sanitation...             Ruby    \n",
       "\n",
       "      BORROWER_GENDERS  BORROWER_PICTURED REPAYMENT_INTERVAL  \\\n",
       "0                 male               TRUE          irregular   \n",
       "1                 male               TRUE            monthly   \n",
       "2                 male               TRUE            monthly   \n",
       "3                 male               TRUE            monthly   \n",
       "4               female               TRUE            monthly   \n",
       "...                ...                ...                ...   \n",
       "20867           female               TRUE            monthly   \n",
       "20868           female               TRUE            monthly   \n",
       "20869              NaN                NaN            monthly   \n",
       "20870           female               TRUE            monthly   \n",
       "20871           female               TRUE            monthly   \n",
       "\n",
       "       DISTRIBUTION_MODEL  \n",
       "0           field_partner  \n",
       "1           field_partner  \n",
       "2           field_partner  \n",
       "3           field_partner  \n",
       "4           field_partner  \n",
       "...                   ...  \n",
       "20867       field_partner  \n",
       "20868       field_partner  \n",
       "20869       field_partner  \n",
       "20870       field_partner  \n",
       "20871       field_partner  \n",
       "\n",
       "[20872 rows x 34 columns]"
      ]
     },
     "execution_count": 42,
     "metadata": {},
     "output_type": "execute_result"
    }
   ],
   "source": [
    "loans['STATUS'].replace(to_replace=['expired', 'withdrawn'], value=np.nan, inplace=True)\n",
    "loans['STATUS'].dropna(inplace=True)\n",
    "loans"
   ]
  },
  {
   "cell_type": "markdown",
   "metadata": {},
   "source": [
    "2. Preproceesing\n",
    "\n",
    "2.1) Convert loan_id and lender_id to string datatype"
   ]
  },
  {
   "cell_type": "code",
   "execution_count": null,
   "metadata": {},
   "outputs": [],
   "source": []
  },
  {
   "cell_type": "code",
   "execution_count": 43,
   "metadata": {},
   "outputs": [],
   "source": [
    "\n",
    "loans['LOAN_ID'] = loans['LOAN_ID'].astype(str)\n",
    "lenders['PERMANENT_NAME'] = lenders['PERMANENT_NAME'].astype(str)\n",
    "loans_lenders['LOAN_ID'] = loans_lenders['LOAN_ID'].astype(str)\n",
    "loans_lenders['LENDERS'] = loans_lenders['LENDERS'].astype(str)\n"
   ]
  },
  {
   "cell_type": "markdown",
   "metadata": {},
   "source": [
    "\n",
    "2.2) Drop rows with missing values in 'IMAGE_ID', 'VIDEO_ID', 'DESCRIPTION', 'DESCRIPTION_TRANSLATED', 'LOAN_USE'"
   ]
  },
  {
   "cell_type": "code",
   "execution_count": 44,
   "metadata": {},
   "outputs": [],
   "source": [
    "loans = loans.dropna(subset = ['IMAGE_ID', 'VIDEO_ID', 'DESCRIPTION', 'DESCRIPTION_TRANSLATED', 'LOAN_USE'])"
   ]
  },
  {
   "cell_type": "markdown",
   "metadata": {},
   "source": [
    "2.3) Drop rows with missing values in 'CITY', 'STATE', 'COUNTRY_CODE', 'OCCUPATION'"
   ]
  },
  {
   "cell_type": "code",
   "execution_count": 45,
   "metadata": {},
   "outputs": [],
   "source": [
    "lenders = lenders.dropna(subset = ['CITY', 'STATE', 'COUNTRY_CODE', 'OCCUPATION'])"
   ]
  },
  {
   "cell_type": "markdown",
   "metadata": {},
   "source": [
    "\n",
    "2.4) Remove rows with duplicated values in 'LOAN_ID', 'PERMANENT_NAME'"
   ]
  },
  {
   "cell_type": "markdown",
   "metadata": {},
   "source": []
  },
  {
   "cell_type": "code",
   "execution_count": 46,
   "metadata": {},
   "outputs": [],
   "source": [
    "loans = loans.drop_duplicates(subset = 'LOAN_ID')\n",
    "lenders = lenders.drop_duplicates(subset = 'PERMANENT_NAME')"
   ]
  },
  {
   "cell_type": "markdown",
   "metadata": {},
   "source": [
    "2.5) Remove rows with duplicated values in 'LOAN_ID', 'LENDERS'"
   ]
  },
  {
   "cell_type": "code",
   "execution_count": 47,
   "metadata": {},
   "outputs": [],
   "source": [
    "loans_lenders = loans_lenders.drop_duplicates(subset = ['LOAN_ID', 'LENDERS'])"
   ]
  },
  {
   "cell_type": "markdown",
   "metadata": {},
   "source": [
    "\n",
    "2.6) Convert 'FUNDED_AMOUNT', 'LOAN_AMOUNT', 'NUM_INVITED', 'LOAN_PURCHASE_NUM' to float datatype"
   ]
  },
  {
   "cell_type": "code",
   "execution_count": 48,
   "metadata": {},
   "outputs": [],
   "source": [
    "\n",
    "loans['FUNDED_AMOUNT'] = loans['FUNDED_AMOUNT'].astype(float)\n",
    "loans['LOAN_AMOUNT'] = loans['LOAN_AMOUNT'].astype(float)\n",
    "lenders['NUM_INVITED'] = lenders['NUM_INVITED'].astype(float)\n",
    "lenders['LOAN_PURCHASE_NUM'] = lenders['LOAN_PURCHASE_NUM'].astype(float)"
   ]
  },
  {
   "cell_type": "markdown",
   "metadata": {},
   "source": [
    "3. Draw Plots\n",
    "\n",
    "3.1) Plot the distribution of loan amount"
   ]
  },
  {
   "cell_type": "code",
   "execution_count": 49,
   "metadata": {},
   "outputs": [
    {
     "data": {
      "image/png": "[encoded data removed]",
      "text/plain": [
       "<Figure size 640x480 with 1 Axes>"
      ]
     },
     "metadata": {},
     "output_type": "display_data"
    }
   ],
   "source": [
    "import matplotlib.pyplot as plt\n",
    "\n",
    "loan_amount = loans['LOAN_AMOUNT']\n",
    "plt.hist(loan_amount, bins=20)\n",
    "plt.xlabel('Loan Amount')\n",
    "plt.ylabel('Number of Loans')\n",
    "plt.show()"
   ]
  },
  {
   "cell_type": "markdown",
   "metadata": {},
   "source": [
    "3.2) Plot the distribution of loan amount by status"
   ]
  },
  {
   "cell_type": "code",
   "execution_count": 50,
   "metadata": {},
   "outputs": [
    {
     "data": {
      "image/png": "[encoded data removed]",
      "text/plain": [
       "<Figure size 640x480 with 1 Axes>"
      ]
     },
     "metadata": {},
     "output_type": "display_data"
    }
   ],
   "source": [
    "\n",
    "loans_by_status = loans.groupby('STATUS')\n",
    "\n",
    "for status, loan_data in loans_by_status:\n",
    "    loan_amount = loan_data['LOAN_AMOUNT']\n",
    "    plt.hist(loan_amount, bins=20)\n",
    "    plt.xlabel('Loan Amount')\n",
    "    plt.ylabel('Number of Loans')\n",
    "    plt.title(status)\n",
    "    plt.show()"
   ]
  },
  {
   "cell_type": "markdown",
   "metadata": {},
   "source": [
    "3.3) Plot the distribution of loan amount by country"
   ]
  },
  {
   "cell_type": "code",
   "execution_count": 51,
   "metadata": {},
   "outputs": [
    {
     "data": {
      "image/png": "[encoded data removed]",
      "text/plain": [
       "<Figure size 640x480 with 1 Axes>"
      ]
     },
     "metadata": {},
     "output_type": "display_data"
    },
    {
     "data": {
      "image/png": "[encoded data removed]",
      "text/plain": [
       "<Figure size 640x480 with 1 Axes>"
      ]
     },
     "metadata": {},
     "output_type": "display_data"
    },
    {
     "data": {
      "image/png": "[encoded data removed]",
      "text/plain": [
       "<Figure size 640x480 with 1 Axes>"
      ]
     },
     "metadata": {},
     "output_type": "display_data"
    },
    {
     "data": {
      "image/png": "[encoded data removed]",
      "text/plain": [
       "<Figure size 640x480 with 1 Axes>"
      ]
     },
     "metadata": {},
     "output_type": "display_data"
    }
   ],
   "source": [
    "loans_by_country = loans.groupby('COUNTRY_NAME')\n",
    "\n",
    "for country, loan_data in loans_by_country:\n",
    "    loan_amount = loan_data['LOAN_AMOUNT']\n",
    "    plt.hist(loan_amount, bins=20)\n",
    "    plt.xlabel('Loan Amount')\n",
    "    plt.ylabel('Number of Loans')\n",
    "    plt.title(country)\n",
    "    plt.show()"
   ]
  },
  {
   "cell_type": "markdown",
   "metadata": {},
   "source": [
    "3.4) Plot the distribution of loan amount by sector"
   ]
  },
  {
   "cell_type": "code",
   "execution_count": 52,
   "metadata": {},
   "outputs": [
    {
     "data": {
      "image/png": "[encoded data removed]",
      "text/plain": [
       "<Figure size 640x480 with 1 Axes>"
      ]
     },
     "metadata": {},
     "output_type": "display_data"
    },
    {
     "data": {
      "image/png": "[encoded data removed]",
      "text/plain": [
       "<Figure size 640x480 with 1 Axes>"
      ]
     },
     "metadata": {},
     "output_type": "display_data"
    },
    {
     "data": {
      "image/png": "[encoded data removed]",
      "text/plain": [
       "<Figure size 640x480 with 1 Axes>"
      ]
     },
     "metadata": {},
     "output_type": "display_data"
    },
    {
     "data": {
      "image/png": "[encoded data removed]",
      "text/plain": [
       "<Figure size 640x480 with 1 Axes>"
      ]
     },
     "metadata": {},
     "output_type": "display_data"
    },
    {
     "data": {
      "image/png": "[encoded data removed]",
      "text/plain": [
       "<Figure size 640x480 with 1 Axes>"
      ]
     },
     "metadata": {},
     "output_type": "display_data"
    }
   ],
   "source": [
    "loans_by_sector = loans.groupby('SECTOR_NAME')\n",
    "\n",
    "for sector, loan_data in loans_by_sector:\n",
    "    loan_amount = loan_data['LOAN_AMOUNT']\n",
    "    plt.hist(loan_amount, bins=20)\n",
    "    plt.xlabel('Loan Amount')\n",
    "    plt.ylabel('Number of Loans')\n",
    "    plt.title(sector)\n",
    "    plt.show()\n"
   ]
  },
  {
   "cell_type": "markdown",
   "metadata": {},
   "source": [
    "4. Split DAta into training and testing sets"
   ]
  },
  {
   "cell_type": "code",
   "execution_count": 53,
   "metadata": {},
   "outputs": [],
   "source": [
    "from sklearn.model_selection import train_test_split\n",
    "\n",
    "train, test = train_test_split(loans, test_size = 0.2, random_state = 42)"
   ]
  },
  {
   "cell_type": "markdown",
   "metadata": {},
   "source": [
    "\n",
    "5. Model\n",
    "\n",
    "5.1) Create a bag of words"
   ]
  },
  {
   "cell_type": "code",
   "execution_count": 54,
   "metadata": {},
   "outputs": [],
   "source": [
    "from sklearn.feature_extraction.text import CountVectorizer\n",
    "\n",
    "vectorizer = CountVectorizer()\n",
    "vectorizer.fit(train['DESCRIPTION'])\n",
    "\n",
    "train_features = vectorizer.transform(train['DESCRIPTION'])\n",
    "test_features = vectorizer.transform(test['DESCRIPTION'])"
   ]
  },
  {
   "cell_type": "markdown",
   "metadata": {},
   "source": [
    "5.2) Create and train a Naive Bayes classifier"
   ]
  },
  {
   "cell_type": "code",
   "execution_count": 55,
   "metadata": {},
   "outputs": [
    {
     "data": {
      "text/plain": [
       "MultinomialNB()"
      ]
     },
     "execution_count": 55,
     "metadata": {},
     "output_type": "execute_result"
    }
   ],
   "source": [
    "from sklearn.naive_bayes import MultinomialNB\n",
    "\n",
    "nb = MultinomialNB()\n",
    "nb.fit(train_features, train['STATUS'])"
   ]
  },
  {
   "cell_type": "markdown",
   "metadata": {},
   "source": [
    "5.3) Make predictions"
   ]
  },
  {
   "cell_type": "code",
   "execution_count": 56,
   "metadata": {},
   "outputs": [],
   "source": [
    "\n",
    "\n",
    "predictions = nb.predict(test_features)"
   ]
  },
  {
   "cell_type": "markdown",
   "metadata": {},
   "source": [
    "5.4) Evaluate the predictions\n"
   ]
  },
  {
   "cell_type": "code",
   "execution_count": 57,
   "metadata": {},
   "outputs": [
    {
     "name": "stdout",
     "output_type": "stream",
     "text": [
      "1.0\n",
      "1.0\n",
      "1.0\n"
     ]
    }
   ],
   "source": [
    "\n",
    "from sklearn.metrics import accuracy_score, precision_score, recall_score, f1_score\n",
    "\n",
    "print(accuracy_score(test['STATUS'], predictions))\n",
    "print(precision_score(test['STATUS'], predictions, average='macro'))\n",
    "print(recall_score(test['STATUS'], predictions, average='macro'))"
   ]
  },
  {
   "cell_type": "code",
   "execution_count": 58,
   "metadata": {},
   "outputs": [
    {
     "name": "stdout",
     "output_type": "stream",
     "text": [
      "1.0\n",
      "1.0\n",
      "1.0\n",
      "1.0\n"
     ]
    },
    {
     "name": "stderr",
     "output_type": "stream",
     "text": [
      "/Users/deekshithratna/opt/anaconda3/lib/python3.9/site-packages/sklearn/neighbors/_classification.py:228: FutureWarning: Unlike other reduction functions (e.g. `skew`, `kurtosis`), the default behavior of `mode` typically preserves the axis it acts along. In SciPy 1.11.0, this behavior will change: the default value of `keepdims` will become False, the `axis` over which the statistic is taken will be eliminated, and the value None will no longer be accepted. Set `keepdims` to True or False to avoid this warning.\n",
      "  mode, _ = stats.mode(_y[neigh_ind, k], axis=1)\n"
     ]
    }
   ],
   "source": [
    "#7.  KNN\n",
    "\n",
    "from sklearn.neighbors import KNeighborsClassifier\n",
    "\n",
    "neighbors = KNeighborsClassifier(n_neighbors=5)\n",
    "neighbors.fit(train_features, train['STATUS'])\n",
    "predictions = neighbors.predict(test_features)\n",
    "\n",
    "print(accuracy_score(test['STATUS'], predictions))\n",
    "print(precision_score(test['STATUS'], predictions, average='macro'))\n",
    "print(recall_score(test['STATUS'], predictions, average='macro'))\n",
    "print(f1_score(test['STATUS'], predictions, average='macro'))"
   ]
  },
  {
   "cell_type": "markdown",
   "metadata": {},
   "source": [
    "8 Sentiment Analysis\n",
    "\n",
    "The sentiment analysis of the above dataset is positive.\n",
    "Reasons\n",
    "1)The vast majority of the loans are fully funded.\n",
    "2)The average loan amount is below $1000.\n",
    "3)The loan amounts are generally distributed evenly.\n",
    "4)The vast majority of the loans are for less than $500.\n",
    "\n",
    "Conclusion\n",
    "\n",
    "The above dataset is a good dataset for sentiment analysis."
   ]
  },
  {
   "cell_type": "code",
   "execution_count": null,
   "metadata": {},
   "outputs": [],
   "source": []
  },
  {
   "cell_type": "code",
   "execution_count": null,
   "metadata": {},
   "outputs": [],
   "source": []
  },
  {
   "cell_type": "code",
   "execution_count": null,
   "metadata": {},
   "outputs": [],
   "source": []
  }
 ],
 "metadata": {
  "kernelspec": {
   "display_name": "Python 3 (ipykernel)",
   "language": "python",
   "name": "python3"
  },
  "language_info": {
   "codemirror_mode": {
    "name": "ipython",
    "version": 3
   },
   "file_extension": ".py",
   "mimetype": "text/x-python",
   "name": "python",
   "nbconvert_exporter": "python",
   "pygments_lexer": "ipython3",
   "version": "3.9.13"
  },
  "vscode": {
   "interpreter": {
    "hash": "4cff3abf1678755e0069fd79299a535fe1940bcd71a6b01d9f4386710b2b163f"
   }
  }
 },
 "nbformat": 4,
 "nbformat_minor": 2
}
